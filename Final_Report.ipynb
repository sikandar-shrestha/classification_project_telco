{
 "cells": [
  {
   "cell_type": "markdown",
   "id": "3bec9850",
   "metadata": {},
   "source": [
    "\n",
    "<center>\n",
    "    <div style=\"background-color: yellow; padding: 10px;\">\n",
    "        <h1>Telco Customer Churn Classification Project</h1>\n",
    "    </div>\n",
    "</center>\n",
    "\n"
   ]
  },
  {
   "cell_type": "markdown",
   "id": "4e558b98",
   "metadata": {},
   "source": [
    "<div style=\"background-color: lightcyan; padding: 10px;\">\n",
    "\n",
    "# Project Overview:\n",
    "\n",
    "### Predicting customer churn is critical for telecommunication companies to be able to effectively retain customers. It is more costly to acquire new customers than to retain existing ones. For this reason, large telecommunications corporations are seeking to develop models to predict which customers are more likely to change and take actions accordingly. \n",
    " \n",
    "### In this project, we build a model to predict how likely a customer will churn by analyzing its characteristics: (1) demographic information, (2) account information, and (3) services information. The project aims to predict a data-driven solution that will allow us to reduce churn rates and, as a consequence, to increase customer satisfaction and corporation revenue. \n",
    "\n",
    "</div>\n"
   ]
  },
  {
   "cell_type": "markdown",
   "id": "794e3180",
   "metadata": {},
   "source": [
    "<div style=\"background-color: orange; padding: 10px\">\n",
    "\n",
    "# Goal:\n",
    "\n",
    "### This project aims to predict customer churn for a Telco company by building a classification model using historical customer data. \n",
    "\n",
    "### The goal is to identify factors influencing customer churn and create a predictive model that can forecast potential churners, allowing the company to take proactive retention measures.\n",
    "\n",
    "</div>\n"
   ]
  },
  {
   "cell_type": "markdown",
   "id": "f6157a37",
   "metadata": {},
   "source": [
    "# Imports libraries, modules"
   ]
  },
  {
   "cell_type": "code",
   "execution_count": 1,
   "id": "9c902409",
   "metadata": {},
   "outputs": [],
   "source": [
    "# custom modules for data prep:\n",
    "import acquire as a\n",
    "import prepare as p\n",
    "import model as m\n",
    "import explore as ex\n",
    "\n",
    "# tabular manipulation\n",
    "import numpy as np\n",
    "import pandas as pd\n",
    "\n",
    "\n",
    "#visualization\n",
    "import matplotlib.pyplot as plt\n",
    "import seaborn as sns\n",
    "\n",
    "#stats is great\n",
    "from scipy import stats\n",
    "\n",
    "\n",
    "# ML stuff:\n",
    "from sklearn.metrics import accuracy_score, confusion_matrix, classification_report,recall_score,\\\n",
    "precision_score, f1_score\n",
    "from sklearn.tree import DecisionTreeClassifier, \\\n",
    "export_text, plot_tree\n",
    "from sklearn.ensemble import RandomForestClassifier\n",
    "from sklearn.linear_model import LogisticRegression #logistic not linear!\n",
    "from sklearn.neighbors import KNeighborsClassifier #pick the classifier one\n"
   ]
  },
  {
   "cell_type": "markdown",
   "id": "6c4d3b7b",
   "metadata": {},
   "source": [
    "## Acquire\n",
    "\n",
    " *    Data acquired from codeup mysql database called 'telco_churn'.\n",
    " *    It contained 7043 rows and 21 columns before cleaning.\n",
    " *    Each row represents a customer of telco company.\n",
    " *    Each column represents a feature of telco_churn database"
   ]
  },
  {
   "cell_type": "code",
   "execution_count": 2,
   "id": "612109c0",
   "metadata": {},
   "outputs": [
    {
     "name": "stdout",
     "output_type": "stream",
     "text": [
      "this file exists, reading csv\n"
     ]
    }
   ],
   "source": [
    "df=a.get_telco_data()"
   ]
  },
  {
   "cell_type": "markdown",
   "id": "1649fdb5",
   "metadata": {},
   "source": [
    "## Prepare\n",
    "\n",
    "   * Removed columns that did not contain useful information\n",
    "   * Checked for nulls in the data (there were none)\n",
    "   * Checked that column data types were appropriate\n",
    "   * Removed white space from values in object columns\n",
    "   * Target column 'churn' indicating whether the customer 'churn' or 'not churn'.\n",
    "   * Added additional features to investigate:\n",
    "   * Split data into train, validate and test (approx. 60/20/20), stratifying on 'churn'\n",
    "    \n"
   ]
  },
  {
   "cell_type": "code",
   "execution_count": 3,
   "id": "3dac073a",
   "metadata": {},
   "outputs": [
    {
     "data": {
      "text/html": [
       "<div>\n",
       "<style scoped>\n",
       "    .dataframe tbody tr th:only-of-type {\n",
       "        vertical-align: middle;\n",
       "    }\n",
       "\n",
       "    .dataframe tbody tr th {\n",
       "        vertical-align: top;\n",
       "    }\n",
       "\n",
       "    .dataframe thead th {\n",
       "        text-align: right;\n",
       "    }\n",
       "</style>\n",
       "<table border=\"1\" class=\"dataframe\">\n",
       "  <thead>\n",
       "    <tr style=\"text-align: right;\">\n",
       "      <th></th>\n",
       "      <th>gender</th>\n",
       "      <th>senior_citizen</th>\n",
       "      <th>partner</th>\n",
       "      <th>dependents</th>\n",
       "      <th>tenure</th>\n",
       "      <th>phone_service</th>\n",
       "      <th>multiple_lines</th>\n",
       "      <th>online_security</th>\n",
       "      <th>online_backup</th>\n",
       "      <th>device_protection</th>\n",
       "      <th>tech_support</th>\n",
       "      <th>streaming_tv</th>\n",
       "      <th>streaming_movies</th>\n",
       "      <th>paperless_billing</th>\n",
       "      <th>monthly_charges</th>\n",
       "      <th>total_charges</th>\n",
       "      <th>churn</th>\n",
       "      <th>contract_type</th>\n",
       "      <th>internet_service_type</th>\n",
       "      <th>payment_type</th>\n",
       "    </tr>\n",
       "    <tr>\n",
       "      <th>customer_id</th>\n",
       "      <th></th>\n",
       "      <th></th>\n",
       "      <th></th>\n",
       "      <th></th>\n",
       "      <th></th>\n",
       "      <th></th>\n",
       "      <th></th>\n",
       "      <th></th>\n",
       "      <th></th>\n",
       "      <th></th>\n",
       "      <th></th>\n",
       "      <th></th>\n",
       "      <th></th>\n",
       "      <th></th>\n",
       "      <th></th>\n",
       "      <th></th>\n",
       "      <th></th>\n",
       "      <th></th>\n",
       "      <th></th>\n",
       "      <th></th>\n",
       "    </tr>\n",
       "  </thead>\n",
       "  <tbody>\n",
       "    <tr>\n",
       "      <th>0002-ORFBO</th>\n",
       "      <td>Female</td>\n",
       "      <td>0</td>\n",
       "      <td>Yes</td>\n",
       "      <td>Yes</td>\n",
       "      <td>9</td>\n",
       "      <td>Yes</td>\n",
       "      <td>No</td>\n",
       "      <td>No</td>\n",
       "      <td>Yes</td>\n",
       "      <td>No</td>\n",
       "      <td>Yes</td>\n",
       "      <td>Yes</td>\n",
       "      <td>No</td>\n",
       "      <td>Yes</td>\n",
       "      <td>65.6</td>\n",
       "      <td>593.30</td>\n",
       "      <td>No</td>\n",
       "      <td>One year</td>\n",
       "      <td>DSL</td>\n",
       "      <td>Mailed check</td>\n",
       "    </tr>\n",
       "    <tr>\n",
       "      <th>0003-MKNFE</th>\n",
       "      <td>Male</td>\n",
       "      <td>0</td>\n",
       "      <td>No</td>\n",
       "      <td>No</td>\n",
       "      <td>9</td>\n",
       "      <td>Yes</td>\n",
       "      <td>Yes</td>\n",
       "      <td>No</td>\n",
       "      <td>No</td>\n",
       "      <td>No</td>\n",
       "      <td>No</td>\n",
       "      <td>No</td>\n",
       "      <td>Yes</td>\n",
       "      <td>No</td>\n",
       "      <td>59.9</td>\n",
       "      <td>542.40</td>\n",
       "      <td>No</td>\n",
       "      <td>Month-to-month</td>\n",
       "      <td>DSL</td>\n",
       "      <td>Mailed check</td>\n",
       "    </tr>\n",
       "    <tr>\n",
       "      <th>0004-TLHLJ</th>\n",
       "      <td>Male</td>\n",
       "      <td>0</td>\n",
       "      <td>No</td>\n",
       "      <td>No</td>\n",
       "      <td>4</td>\n",
       "      <td>Yes</td>\n",
       "      <td>No</td>\n",
       "      <td>No</td>\n",
       "      <td>No</td>\n",
       "      <td>Yes</td>\n",
       "      <td>No</td>\n",
       "      <td>No</td>\n",
       "      <td>No</td>\n",
       "      <td>Yes</td>\n",
       "      <td>73.9</td>\n",
       "      <td>280.85</td>\n",
       "      <td>Yes</td>\n",
       "      <td>Month-to-month</td>\n",
       "      <td>Fiber optic</td>\n",
       "      <td>Electronic check</td>\n",
       "    </tr>\n",
       "  </tbody>\n",
       "</table>\n",
       "</div>"
      ],
      "text/plain": [
       "             gender  senior_citizen partner dependents  tenure phone_service  \\\n",
       "customer_id                                                                    \n",
       "0002-ORFBO   Female               0     Yes        Yes       9           Yes   \n",
       "0003-MKNFE     Male               0      No         No       9           Yes   \n",
       "0004-TLHLJ     Male               0      No         No       4           Yes   \n",
       "\n",
       "            multiple_lines online_security online_backup device_protection  \\\n",
       "customer_id                                                                  \n",
       "0002-ORFBO              No              No           Yes                No   \n",
       "0003-MKNFE             Yes              No            No                No   \n",
       "0004-TLHLJ              No              No            No               Yes   \n",
       "\n",
       "            tech_support streaming_tv streaming_movies paperless_billing  \\\n",
       "customer_id                                                                \n",
       "0002-ORFBO           Yes          Yes               No               Yes   \n",
       "0003-MKNFE            No           No              Yes                No   \n",
       "0004-TLHLJ            No           No               No               Yes   \n",
       "\n",
       "             monthly_charges  total_charges churn   contract_type  \\\n",
       "customer_id                                                         \n",
       "0002-ORFBO              65.6         593.30    No        One year   \n",
       "0003-MKNFE              59.9         542.40    No  Month-to-month   \n",
       "0004-TLHLJ              73.9         280.85   Yes  Month-to-month   \n",
       "\n",
       "            internet_service_type      payment_type  \n",
       "customer_id                                          \n",
       "0002-ORFBO                    DSL      Mailed check  \n",
       "0003-MKNFE                    DSL      Mailed check  \n",
       "0004-TLHLJ            Fiber optic  Electronic check  "
      ]
     },
     "execution_count": 3,
     "metadata": {},
     "output_type": "execute_result"
    }
   ],
   "source": [
    "df=p.prep_telco(df)\n",
    "df.head(3)"
   ]
  },
  {
   "cell_type": "markdown",
   "id": "c2170f42",
   "metadata": {},
   "source": [
    "# Splitting into train, validate, & test"
   ]
  },
  {
   "cell_type": "code",
   "execution_count": 4,
   "id": "79e9de9e",
   "metadata": {},
   "outputs": [],
   "source": [
    "train,val,test=p.splitting_data(df,'churn')"
   ]
  },
  {
   "cell_type": "code",
   "execution_count": 5,
   "id": "b6f2096d",
   "metadata": {
    "scrolled": true
   },
   "outputs": [
    {
     "data": {
      "text/html": [
       "<div>\n",
       "<style scoped>\n",
       "    .dataframe tbody tr th:only-of-type {\n",
       "        vertical-align: middle;\n",
       "    }\n",
       "\n",
       "    .dataframe tbody tr th {\n",
       "        vertical-align: top;\n",
       "    }\n",
       "\n",
       "    .dataframe thead th {\n",
       "        text-align: right;\n",
       "    }\n",
       "</style>\n",
       "<table border=\"1\" class=\"dataframe\">\n",
       "  <thead>\n",
       "    <tr style=\"text-align: right;\">\n",
       "      <th></th>\n",
       "      <th>gender</th>\n",
       "      <th>senior_citizen</th>\n",
       "      <th>partner</th>\n",
       "      <th>dependents</th>\n",
       "      <th>tenure</th>\n",
       "      <th>phone_service</th>\n",
       "      <th>multiple_lines</th>\n",
       "      <th>online_security</th>\n",
       "      <th>online_backup</th>\n",
       "      <th>device_protection</th>\n",
       "      <th>tech_support</th>\n",
       "      <th>streaming_tv</th>\n",
       "      <th>streaming_movies</th>\n",
       "      <th>paperless_billing</th>\n",
       "      <th>monthly_charges</th>\n",
       "      <th>total_charges</th>\n",
       "      <th>churn</th>\n",
       "      <th>contract_type</th>\n",
       "      <th>internet_service_type</th>\n",
       "      <th>payment_type</th>\n",
       "    </tr>\n",
       "    <tr>\n",
       "      <th>customer_id</th>\n",
       "      <th></th>\n",
       "      <th></th>\n",
       "      <th></th>\n",
       "      <th></th>\n",
       "      <th></th>\n",
       "      <th></th>\n",
       "      <th></th>\n",
       "      <th></th>\n",
       "      <th></th>\n",
       "      <th></th>\n",
       "      <th></th>\n",
       "      <th></th>\n",
       "      <th></th>\n",
       "      <th></th>\n",
       "      <th></th>\n",
       "      <th></th>\n",
       "      <th></th>\n",
       "      <th></th>\n",
       "      <th></th>\n",
       "      <th></th>\n",
       "    </tr>\n",
       "  </thead>\n",
       "  <tbody>\n",
       "    <tr>\n",
       "      <th>4083-BFNYK</th>\n",
       "      <td>Female</td>\n",
       "      <td>1</td>\n",
       "      <td>Yes</td>\n",
       "      <td>No</td>\n",
       "      <td>38</td>\n",
       "      <td>Yes</td>\n",
       "      <td>Yes</td>\n",
       "      <td>Yes</td>\n",
       "      <td>Yes</td>\n",
       "      <td>No</td>\n",
       "      <td>No</td>\n",
       "      <td>No</td>\n",
       "      <td>Yes</td>\n",
       "      <td>No</td>\n",
       "      <td>95.00</td>\n",
       "      <td>3591.25</td>\n",
       "      <td>No</td>\n",
       "      <td>One year</td>\n",
       "      <td>Fiber optic</td>\n",
       "      <td>Credit card (automatic)</td>\n",
       "    </tr>\n",
       "    <tr>\n",
       "      <th>5804-LEPIM</th>\n",
       "      <td>Female</td>\n",
       "      <td>1</td>\n",
       "      <td>No</td>\n",
       "      <td>No</td>\n",
       "      <td>2</td>\n",
       "      <td>Yes</td>\n",
       "      <td>No</td>\n",
       "      <td>No</td>\n",
       "      <td>No</td>\n",
       "      <td>No</td>\n",
       "      <td>No</td>\n",
       "      <td>No</td>\n",
       "      <td>No</td>\n",
       "      <td>Yes</td>\n",
       "      <td>70.35</td>\n",
       "      <td>139.05</td>\n",
       "      <td>Yes</td>\n",
       "      <td>Month-to-month</td>\n",
       "      <td>Fiber optic</td>\n",
       "      <td>Electronic check</td>\n",
       "    </tr>\n",
       "    <tr>\n",
       "      <th>4895-TMWIR</th>\n",
       "      <td>Male</td>\n",
       "      <td>1</td>\n",
       "      <td>Yes</td>\n",
       "      <td>No</td>\n",
       "      <td>11</td>\n",
       "      <td>Yes</td>\n",
       "      <td>No</td>\n",
       "      <td>No internet service</td>\n",
       "      <td>No internet service</td>\n",
       "      <td>No internet service</td>\n",
       "      <td>No internet service</td>\n",
       "      <td>No internet service</td>\n",
       "      <td>No internet service</td>\n",
       "      <td>No</td>\n",
       "      <td>19.95</td>\n",
       "      <td>214.75</td>\n",
       "      <td>Yes</td>\n",
       "      <td>Month-to-month</td>\n",
       "      <td>neither</td>\n",
       "      <td>Mailed check</td>\n",
       "    </tr>\n",
       "  </tbody>\n",
       "</table>\n",
       "</div>"
      ],
      "text/plain": [
       "             gender  senior_citizen partner dependents  tenure phone_service  \\\n",
       "customer_id                                                                    \n",
       "4083-BFNYK   Female               1     Yes         No      38           Yes   \n",
       "5804-LEPIM   Female               1      No         No       2           Yes   \n",
       "4895-TMWIR     Male               1     Yes         No      11           Yes   \n",
       "\n",
       "            multiple_lines      online_security        online_backup  \\\n",
       "customer_id                                                            \n",
       "4083-BFNYK             Yes                  Yes                  Yes   \n",
       "5804-LEPIM              No                   No                   No   \n",
       "4895-TMWIR              No  No internet service  No internet service   \n",
       "\n",
       "               device_protection         tech_support         streaming_tv  \\\n",
       "customer_id                                                                  \n",
       "4083-BFNYK                    No                   No                   No   \n",
       "5804-LEPIM                    No                   No                   No   \n",
       "4895-TMWIR   No internet service  No internet service  No internet service   \n",
       "\n",
       "                streaming_movies paperless_billing  monthly_charges  \\\n",
       "customer_id                                                           \n",
       "4083-BFNYK                   Yes                No            95.00   \n",
       "5804-LEPIM                    No               Yes            70.35   \n",
       "4895-TMWIR   No internet service                No            19.95   \n",
       "\n",
       "             total_charges churn   contract_type internet_service_type  \\\n",
       "customer_id                                                              \n",
       "4083-BFNYK         3591.25    No        One year           Fiber optic   \n",
       "5804-LEPIM          139.05   Yes  Month-to-month           Fiber optic   \n",
       "4895-TMWIR          214.75   Yes  Month-to-month               neither   \n",
       "\n",
       "                        payment_type  \n",
       "customer_id                           \n",
       "4083-BFNYK   Credit card (automatic)  \n",
       "5804-LEPIM          Electronic check  \n",
       "4895-TMWIR              Mailed check  "
      ]
     },
     "execution_count": 5,
     "metadata": {},
     "output_type": "execute_result"
    }
   ],
   "source": [
    "# train dataframe displays\n",
    "train.head(3)"
   ]
  },
  {
   "cell_type": "markdown",
   "id": "af1362cd",
   "metadata": {},
   "source": [
    "### summary of the numerical features of the train data"
   ]
  },
  {
   "cell_type": "code",
   "execution_count": 6,
   "id": "1ec3616b",
   "metadata": {
    "scrolled": true
   },
   "outputs": [
    {
     "data": {
      "text/html": [
       "<div>\n",
       "<style scoped>\n",
       "    .dataframe tbody tr th:only-of-type {\n",
       "        vertical-align: middle;\n",
       "    }\n",
       "\n",
       "    .dataframe tbody tr th {\n",
       "        vertical-align: top;\n",
       "    }\n",
       "\n",
       "    .dataframe thead th {\n",
       "        text-align: right;\n",
       "    }\n",
       "</style>\n",
       "<table border=\"1\" class=\"dataframe\">\n",
       "  <thead>\n",
       "    <tr style=\"text-align: right;\">\n",
       "      <th></th>\n",
       "      <th>senior_citizen</th>\n",
       "      <th>tenure</th>\n",
       "      <th>monthly_charges</th>\n",
       "      <th>total_charges</th>\n",
       "    </tr>\n",
       "  </thead>\n",
       "  <tbody>\n",
       "    <tr>\n",
       "      <th>count</th>\n",
       "      <td>4225.000000</td>\n",
       "      <td>4225.000000</td>\n",
       "      <td>4225.000000</td>\n",
       "      <td>4225.000000</td>\n",
       "    </tr>\n",
       "    <tr>\n",
       "      <th>mean</th>\n",
       "      <td>0.164260</td>\n",
       "      <td>32.650178</td>\n",
       "      <td>65.138947</td>\n",
       "      <td>2305.884888</td>\n",
       "    </tr>\n",
       "    <tr>\n",
       "      <th>std</th>\n",
       "      <td>0.370556</td>\n",
       "      <td>24.647481</td>\n",
       "      <td>30.336884</td>\n",
       "      <td>2282.408946</td>\n",
       "    </tr>\n",
       "    <tr>\n",
       "      <th>min</th>\n",
       "      <td>0.000000</td>\n",
       "      <td>0.000000</td>\n",
       "      <td>18.250000</td>\n",
       "      <td>0.000000</td>\n",
       "    </tr>\n",
       "    <tr>\n",
       "      <th>25%</th>\n",
       "      <td>0.000000</td>\n",
       "      <td>9.000000</td>\n",
       "      <td>35.400000</td>\n",
       "      <td>408.250000</td>\n",
       "    </tr>\n",
       "    <tr>\n",
       "      <th>50%</th>\n",
       "      <td>0.000000</td>\n",
       "      <td>29.000000</td>\n",
       "      <td>70.550000</td>\n",
       "      <td>1389.350000</td>\n",
       "    </tr>\n",
       "    <tr>\n",
       "      <th>75%</th>\n",
       "      <td>0.000000</td>\n",
       "      <td>56.000000</td>\n",
       "      <td>90.400000</td>\n",
       "      <td>3886.450000</td>\n",
       "    </tr>\n",
       "    <tr>\n",
       "      <th>max</th>\n",
       "      <td>1.000000</td>\n",
       "      <td>72.000000</td>\n",
       "      <td>118.750000</td>\n",
       "      <td>8672.450000</td>\n",
       "    </tr>\n",
       "  </tbody>\n",
       "</table>\n",
       "</div>"
      ],
      "text/plain": [
       "       senior_citizen       tenure  monthly_charges  total_charges\n",
       "count     4225.000000  4225.000000      4225.000000    4225.000000\n",
       "mean         0.164260    32.650178        65.138947    2305.884888\n",
       "std          0.370556    24.647481        30.336884    2282.408946\n",
       "min          0.000000     0.000000        18.250000       0.000000\n",
       "25%          0.000000     9.000000        35.400000     408.250000\n",
       "50%          0.000000    29.000000        70.550000    1389.350000\n",
       "75%          0.000000    56.000000        90.400000    3886.450000\n",
       "max          1.000000    72.000000       118.750000    8672.450000"
      ]
     },
     "execution_count": 6,
     "metadata": {},
     "output_type": "execute_result"
    }
   ],
   "source": [
    "train.describe()"
   ]
  },
  {
   "cell_type": "markdown",
   "id": "9291247b",
   "metadata": {},
   "source": [
    "# Explore\n",
    "\n",
    "* work only with TRAIN data\n",
    "* exploring features/relationship\n",
    "    * find out what affects our target variable\n",
    "    * find relationships between features\n",
    "    * bivariate analysis (looking at 2 variables)\n",
    "    * multivariabe analysis (looking at 3+ variables)\n",
    "    * do a lot of documentation, write conclusions\n"
   ]
  },
  {
   "cell_type": "markdown",
   "id": "cddd5fe6",
   "metadata": {},
   "source": [
    "## Categorical VS Continuous data type columns\n"
   ]
  },
  {
   "cell_type": "code",
   "execution_count": 7,
   "id": "8d28cb31",
   "metadata": {},
   "outputs": [
    {
     "name": "stdout",
     "output_type": "stream",
     "text": [
      "categorical columns:\n",
      "\n",
      " cat_col :['gender', 'senior_citizen', 'partner', 'dependents', 'tenure', 'phone_service', 'multiple_lines', 'online_security', 'online_backup', 'device_protection', 'tech_support', 'streaming_tv', 'streaming_movies', 'paperless_billing', 'churn', 'contract_type', 'internet_service_type', 'payment_type']\n",
      "\n",
      "\n",
      "continuous columns:\n",
      "\n",
      " con_col :['monthly_charges', 'total_charges']\n"
     ]
    }
   ],
   "source": [
    "# display cat and con columns of train\n",
    "cat_col,con_col=ex.cat_con_col(train)\n",
    "print(f'categorical columns:\\n\\n cat_col :{cat_col}')\n",
    "print()\n",
    "print()\n",
    "print(f'continuous columns:\\n\\n con_col :{con_col}')"
   ]
  },
  {
   "cell_type": "code",
   "execution_count": 8,
   "id": "2b775b65",
   "metadata": {},
   "outputs": [
    {
     "data": {
      "text/plain": [
       "['gender',\n",
       " 'senior_citizen',\n",
       " 'partner',\n",
       " 'dependents',\n",
       " 'tenure',\n",
       " 'phone_service',\n",
       " 'multiple_lines',\n",
       " 'online_security',\n",
       " 'online_backup',\n",
       " 'device_protection',\n",
       " 'tech_support',\n",
       " 'streaming_tv',\n",
       " 'streaming_movies',\n",
       " 'paperless_billing',\n",
       " 'contract_type',\n",
       " 'internet_service_type',\n",
       " 'payment_type']"
      ]
     },
     "execution_count": 8,
     "metadata": {},
     "output_type": "execute_result"
    }
   ],
   "source": [
    "columns_to_compare=ex.cat_not_churn(cat_col)\n",
    "columns_to_compare"
   ]
  },
  {
   "cell_type": "markdown",
   "id": "3317f66e",
   "metadata": {},
   "source": [
    "## Bar plot visualization categorical column VS 'churn'"
   ]
  },
  {
   "cell_type": "code",
   "execution_count": 9,
   "id": "faddb2b9",
   "metadata": {
    "scrolled": true
   },
   "outputs": [
    {
     "name": "stdout",
     "output_type": "stream",
     "text": [
      "\n",
      "Contingency Table for gender vs. churn:\n",
      "\n",
      "churn     No  Yes\n",
      "gender           \n",
      "Female  1550  559\n",
      "Male    1554  562\n"
     ]
    },
    {
     "data": {
      "image/png": "[encoded data removed]",
      "text/plain": [
       "<Figure size 640x480 with 1 Axes>"
      ]
     },
     "metadata": {},
     "output_type": "display_data"
    },
    {
     "name": "stdout",
     "output_type": "stream",
     "text": [
      "\n",
      "Contingency Table for senior_citizen vs. churn:\n",
      "\n",
      "churn             No  Yes\n",
      "senior_citizen           \n",
      "0               2696  835\n",
      "1                408  286\n"
     ]
    },
    {
     "data": {
      "image/png": "[encoded data removed]",
      "text/plain": [
       "<Figure size 640x480 with 1 Axes>"
      ]
     },
     "metadata": {},
     "output_type": "display_data"
    },
    {
     "name": "stdout",
     "output_type": "stream",
     "text": [
      "\n",
      "Contingency Table for partner vs. churn:\n",
      "\n",
      "churn      No  Yes\n",
      "partner           \n",
      "No       1445  715\n",
      "Yes      1659  406\n"
     ]
    },
    {
     "data": {
      "image/png": "[encoded data removed]",
      "text/plain": [
       "<Figure size 640x480 with 1 Axes>"
      ]
     },
     "metadata": {},
     "output_type": "display_data"
    },
    {
     "name": "stdout",
     "output_type": "stream",
     "text": [
      "\n",
      "Contingency Table for dependents vs. churn:\n",
      "\n",
      "churn         No  Yes\n",
      "dependents           \n",
      "No          2042  919\n",
      "Yes         1062  202\n"
     ]
    },
    {
     "data": {
      "image/png": "[encoded data removed]",
      "text/plain": [
       "<Figure size 640x480 with 1 Axes>"
      ]
     },
     "metadata": {},
     "output_type": "display_data"
    },
    {
     "name": "stdout",
     "output_type": "stream",
     "text": [
      "\n",
      "Contingency Table for tenure vs. churn:\n",
      "\n",
      "churn    No  Yes\n",
      "tenure          \n",
      "0         8    0\n",
      "1       128  225\n",
      "2        61   81\n",
      "3        67   57\n",
      "4        57   51\n",
      "...     ...  ...\n",
      "68       51    6\n",
      "69       60    4\n",
      "70       65    5\n",
      "71       94    4\n",
      "72      228    5\n",
      "\n",
      "[73 rows x 2 columns]\n"
     ]
    },
    {
     "data": {
      "image/png": "[encoded data removed]",
      "text/plain": [
       "<Figure size 640x480 with 1 Axes>"
      ]
     },
     "metadata": {},
     "output_type": "display_data"
    },
    {
     "name": "stdout",
     "output_type": "stream",
     "text": [
      "\n",
      "Contingency Table for phone_service vs. churn:\n",
      "\n",
      "churn            No   Yes\n",
      "phone_service            \n",
      "No              295    99\n",
      "Yes            2809  1022\n"
     ]
    },
    {
     "data": {
      "image/png": "[encoded data removed]",
      "text/plain": [
       "<Figure size 640x480 with 1 Axes>"
      ]
     },
     "metadata": {},
     "output_type": "display_data"
    },
    {
     "name": "stdout",
     "output_type": "stream",
     "text": [
      "\n",
      "Contingency Table for multiple_lines vs. churn:\n",
      "\n",
      "churn               No  Yes\n",
      "multiple_lines             \n",
      "No                1500  520\n",
      "No phone service   295   99\n",
      "Yes               1309  502\n"
     ]
    },
    {
     "data": {
      "image/png": "[encoded data removed]",
      "text/plain": [
       "<Figure size 640x480 with 1 Axes>"
      ]
     },
     "metadata": {},
     "output_type": "display_data"
    },
    {
     "name": "stdout",
     "output_type": "stream",
     "text": [
      "\n",
      "Contingency Table for online_security vs. churn:\n",
      "\n",
      "churn                  No  Yes\n",
      "online_security               \n",
      "No                   1230  885\n",
      "No internet service   848   70\n",
      "Yes                  1026  166\n"
     ]
    },
    {
     "data": {
      "image/png": "[encoded data removed]",
      "text/plain": [
       "<Figure size 640x480 with 1 Axes>"
      ]
     },
     "metadata": {},
     "output_type": "display_data"
    },
    {
     "name": "stdout",
     "output_type": "stream",
     "text": [
      "\n",
      "Contingency Table for online_backup vs. churn:\n",
      "\n",
      "churn                  No  Yes\n",
      "online_backup                 \n",
      "No                   1097  732\n",
      "No internet service   848   70\n",
      "Yes                  1159  319\n"
     ]
    },
    {
     "data": {
      "image/png": "[encoded data removed]",
      "text/plain": [
       "<Figure size 640x480 with 1 Axes>"
      ]
     },
     "metadata": {},
     "output_type": "display_data"
    },
    {
     "name": "stdout",
     "output_type": "stream",
     "text": [
      "\n",
      "Contingency Table for device_protection vs. churn:\n",
      "\n",
      "churn                  No  Yes\n",
      "device_protection             \n",
      "No                   1119  702\n",
      "No internet service   848   70\n",
      "Yes                  1137  349\n"
     ]
    },
    {
     "data": {
      "image/png": "[encoded data removed]",
      "text/plain": [
       "<Figure size 640x480 with 1 Axes>"
      ]
     },
     "metadata": {},
     "output_type": "display_data"
    },
    {
     "name": "stdout",
     "output_type": "stream",
     "text": [
      "\n",
      "Contingency Table for tech_support vs. churn:\n",
      "\n",
      "churn                  No  Yes\n",
      "tech_support                  \n",
      "No                   1230  866\n",
      "No internet service   848   70\n",
      "Yes                  1026  185\n"
     ]
    },
    {
     "data": {
      "image/png": "[encoded data removed]",
      "text/plain": [
       "<Figure size 640x480 with 1 Axes>"
      ]
     },
     "metadata": {},
     "output_type": "display_data"
    },
    {
     "name": "stdout",
     "output_type": "stream",
     "text": [
      "\n",
      "Contingency Table for streaming_tv vs. churn:\n",
      "\n",
      "churn                  No  Yes\n",
      "streaming_tv                  \n",
      "No                   1100  573\n",
      "No internet service   848   70\n",
      "Yes                  1156  478\n"
     ]
    },
    {
     "data": {
      "image/png": "[encoded data removed]",
      "text/plain": [
       "<Figure size 640x480 with 1 Axes>"
      ]
     },
     "metadata": {},
     "output_type": "display_data"
    },
    {
     "name": "stdout",
     "output_type": "stream",
     "text": [
      "\n",
      "Contingency Table for streaming_movies vs. churn:\n",
      "\n",
      "churn                  No  Yes\n",
      "streaming_movies              \n",
      "No                   1101  554\n",
      "No internet service   848   70\n",
      "Yes                  1155  497\n"
     ]
    },
    {
     "data": {
      "image/png": "[encoded data removed]",
      "text/plain": [
       "<Figure size 640x480 with 1 Axes>"
      ]
     },
     "metadata": {},
     "output_type": "display_data"
    },
    {
     "name": "stdout",
     "output_type": "stream",
     "text": [
      "\n",
      "Contingency Table for paperless_billing vs. churn:\n",
      "\n",
      "churn                No  Yes\n",
      "paperless_billing           \n",
      "No                 1437  281\n",
      "Yes                1667  840\n"
     ]
    },
    {
     "data": {
      "image/png": "[encoded data removed]",
      "text/plain": [
       "<Figure size 640x480 with 1 Axes>"
      ]
     },
     "metadata": {},
     "output_type": "display_data"
    },
    {
     "name": "stdout",
     "output_type": "stream",
     "text": [
      "\n",
      "Contingency Table for contract_type vs. churn:\n",
      "\n",
      "churn             No  Yes\n",
      "contract_type            \n",
      "Month-to-month  1338  997\n",
      "One year         785   94\n",
      "Two year         981   30\n"
     ]
    },
    {
     "data": {
      "image/png": "[encoded data removed]",
      "text/plain": [
       "<Figure size 640x480 with 1 Axes>"
      ]
     },
     "metadata": {},
     "output_type": "display_data"
    },
    {
     "name": "stdout",
     "output_type": "stream",
     "text": [
      "\n",
      "Contingency Table for internet_service_type vs. churn:\n",
      "\n",
      "churn                    No  Yes\n",
      "internet_service_type           \n",
      "DSL                    1140  269\n",
      "Fiber optic            1116  782\n",
      "neither                 848   70\n"
     ]
    },
    {
     "data": {
      "image/png": "[encoded data removed]",
      "text/plain": [
       "<Figure size 640x480 with 1 Axes>"
      ]
     },
     "metadata": {},
     "output_type": "display_data"
    },
    {
     "name": "stdout",
     "output_type": "stream",
     "text": [
      "\n",
      "Contingency Table for payment_type vs. churn:\n",
      "\n",
      "churn                       No  Yes\n",
      "payment_type                       \n",
      "Bank transfer (automatic)  778  157\n",
      "Credit card (automatic)    783  138\n",
      "Electronic check           788  646\n",
      "Mailed check               755  180\n"
     ]
    },
    {
     "data": {
      "image/png": "[encoded data removed]",
      "text/plain": [
       "<Figure size 640x480 with 1 Axes>"
      ]
     },
     "metadata": {},
     "output_type": "display_data"
    }
   ],
   "source": [
    "ex.explore_cat_target(train,columns_to_compare)"
   ]
  },
  {
   "cell_type": "markdown",
   "id": "3a8e20b7",
   "metadata": {},
   "source": [
    "###  we can extract the following conclusions by analyzing various categorical attributes:\n",
    "* gender:  We do not expect gender to have significant predictive power. A similar percentage of churn is shown both when a customer is a man or a woman.\n",
    "* senior_citizen:  The churn rate of senior citizens is almost double that of young citizens.\n",
    "* partner: Customers with a partner churn less than customers with no partner.\n",
    "* contract_type: Customers with month-to-month contracts have higher churn rates compared to clients with yearly contracts.\n",
    "* payment_type: Customers who opted for an electronic check as paying method are more likely to leave the company.\n",
    "* paperless_billing: Customers subscribed to paperless billing churn more than those who are not subscribed.\n",
    "* tenure: New customers (low tenure) are more likely to churn.\n",
    "* phone_services & multiple_lines: We do not expect phone attributes (PhoneService and MultipleLines) to have significant predictive power. The percentage of churn for all classes in both independent variables is nearly the same.\n",
    "* online_security: Clients with online security churn less than those without it.\n",
    "* tech_support: Customers with no tech support tend to churn more often than those with tech support.\n",
    "* dependents: Customers with dependents have less numbers of churn than customers without dependents. \n",
    "* online_backup: with online backup has significantly less churned customers.\n",
    "* device_protection: Customers with device protection have less chruned customers.\n",
    "* streaming_tv: Customers with streaming tv have slightly less churned customers.\n",
    "* streaming_movies: Customers with streaming moives have slightly less churned, but customers with no internet service have significantly less number of churned.\n",
    "* internet_service_type: Customers with DSL have less churned as compared to Fiber optic, but customers with neither type of internet service have so much less churned.\n",
    "\n",
    "\n",
    "\n"
   ]
  },
  {
   "cell_type": "markdown",
   "id": "3bfb5fa6",
   "metadata": {},
   "source": [
    "## Boxplot visualization continuous columns VS 'churn'"
   ]
  },
  {
   "cell_type": "code",
   "execution_count": 10,
   "id": "9a0ce4e8",
   "metadata": {},
   "outputs": [
    {
     "data": {
      "text/plain": [
       "['monthly_charges', 'total_charges']"
      ]
     },
     "execution_count": 10,
     "metadata": {},
     "output_type": "execute_result"
    }
   ],
   "source": [
    "# continuous columns\n",
    "con_col"
   ]
  },
  {
   "cell_type": "code",
   "execution_count": 11,
   "id": "c9e1fdf7",
   "metadata": {},
   "outputs": [
    {
     "data": {
      "image/png": "[encoded data removed]",
      "text/plain": [
       "<Figure size 1000x600 with 1 Axes>"
      ]
     },
     "metadata": {},
     "output_type": "display_data"
    },
    {
     "data": {
      "image/png": "[encoded data removed]",
      "text/plain": [
       "<Figure size 1000x600 with 1 Axes>"
      ]
     },
     "metadata": {},
     "output_type": "display_data"
    }
   ],
   "source": [
    "# boxplot continuous columns vs 'churn'\n",
    "ex.explore_con_target(train,con_col)"
   ]
  },
  {
   "cell_type": "markdown",
   "id": "5df65df4",
   "metadata": {},
   "source": [
    "### conclusion from boxplot\n",
    "\n",
    "* The churn rate tends to be larger when monthly charges are high.\n",
    "* Clients with high total charges are less likely to leave the company.\n"
   ]
  },
  {
   "cell_type": "markdown",
   "id": "88a2b9e0",
   "metadata": {},
   "source": [
    "# Hypothesis building or Relationship check with target "
   ]
  },
  {
   "cell_type": "markdown",
   "id": "50343a9f",
   "metadata": {},
   "source": [
    "## 1st Hypothesis building:\n",
    "## Q: does payment_type affect whether or not someone churned?"
   ]
  },
  {
   "cell_type": "code",
   "execution_count": 12,
   "id": "539dc9dc",
   "metadata": {},
   "outputs": [
    {
     "data": {
      "image/png": "[encoded data removed]",
      "text/plain": [
       "<Figure size 1000x600 with 1 Axes>"
      ]
     },
     "metadata": {},
     "output_type": "display_data"
    }
   ],
   "source": [
    "# visualized relationship between 'payment_type' Vs 'churn'\n",
    "\n",
    "ex.bar_pay_tar(train)"
   ]
  },
  {
   "cell_type": "markdown",
   "id": "fc321cfc",
   "metadata": {},
   "source": [
    "NOTE:-- customers with electronic check payment type churned a lot more than other payment types. "
   ]
  },
  {
   "cell_type": "markdown",
   "id": "03406198",
   "metadata": {},
   "source": [
    "###  Analyze with stats:\n",
    " \n",
    "I will now perform a chi-square test to determine if \"payment_type\" and \"churn\" are independant.\n",
    "I will use a confidence interval of 95%\n",
    "The resulting alpha is .05\n",
    "\n",
    "#### Hypothesis Setting:(two categorical variables: use chi^2)\n",
    "#### Ho: There is no relationship between 'payment_type' and 'churn'.\n",
    "#### Ha: There is relationship between 'payment_type' and 'churn'.\n",
    "#### alpha=0.05\n"
   ]
  },
  {
   "cell_type": "code",
   "execution_count": 13,
   "id": "487e8051",
   "metadata": {},
   "outputs": [
    {
     "name": "stdout",
     "output_type": "stream",
     "text": [
      "chi^2 = 386.1840\n",
      "p     = 0.0000\n"
     ]
    }
   ],
   "source": [
    "# get chi^2 test:\n",
    "\n",
    "ex.chi_pay_tar(train)"
   ]
  },
  {
   "cell_type": "markdown",
   "id": "ae046a90",
   "metadata": {},
   "source": [
    "> Since p-value < alpha, so we reject Ho.Therefore, there is significant relationship between 'payment_type' vs 'churn'."
   ]
  },
  {
   "cell_type": "markdown",
   "id": "3c25e5a9",
   "metadata": {},
   "source": [
    "### summarize:\n",
    "* we have evidence to support that \"payment_type\" and \"churn\" are related. One particular type of payment method (Electronic check) shows a lot of customer churn. This might be due to some factor related to fees or delivery speed. \n",
    "* Recomendation: Will need to investigate further asking are these fees associated with each payment type or what are their delivery speeds.\n"
   ]
  },
  {
   "cell_type": "markdown",
   "id": "2d799054",
   "metadata": {},
   "source": [
    "## 2nd Hypothesis building\n",
    "\n",
    "### Q: does contract type affect whether or not someone has churned?\n",
    "\n"
   ]
  },
  {
   "cell_type": "code",
   "execution_count": 14,
   "id": "d5e91ef8",
   "metadata": {},
   "outputs": [
    {
     "data": {
      "image/png": "[encoded data removed]",
      "text/plain": [
       "<Figure size 1000x1000 with 3 Axes>"
      ]
     },
     "metadata": {},
     "output_type": "display_data"
    }
   ],
   "source": [
    "ex.pie_contract_tar(train)"
   ]
  },
  {
   "cell_type": "markdown",
   "id": "98b4e772",
   "metadata": {},
   "source": [
    "### Analyze with stats:\n",
    "I will now perform a chi-square test to determine if \"contract_type\" and \"churn\" are independant. I will use a confidence interval of 95% The resulting alpha is .05\n",
    "### Hypothesis Setting:(two categorical variables: use chi^2)\n",
    "### Ho: There is no relationship between 'contract_type' and 'churn'.\n",
    "### Ha: There is relationship between 'contract_type' and 'churn'.\n",
    "#### alpha=0.05"
   ]
  },
  {
   "cell_type": "code",
   "execution_count": 15,
   "id": "1f469253",
   "metadata": {},
   "outputs": [
    {
     "name": "stdout",
     "output_type": "stream",
     "text": [
      "chi^2 = 714.1745\n",
      "p     = 0.0000\n"
     ]
    }
   ],
   "source": [
    "ex.chi_contract_tar(train)"
   ]
  },
  {
   "cell_type": "markdown",
   "id": "7966efc4",
   "metadata": {},
   "source": [
    "> since p < alpha, so we reject Ho.This concludes that there is relationship between 'contract_type' and 'churn'."
   ]
  },
  {
   "cell_type": "markdown",
   "id": "b65849de",
   "metadata": {},
   "source": [
    "### summarize\n",
    "* One particular contract type (month-to-month) has a lot of customers with churned status. This would make sense becuase people with long contracts can not churn as easily as customers with month to month contracts. \n",
    "\n",
    "* Suggestion: we might recommend and give attractive discount offer to customers for over a year, to prevent their churn rate is going high."
   ]
  },
  {
   "cell_type": "markdown",
   "id": "a8262fe8",
   "metadata": {},
   "source": [
    "## 3rd Hypothesis test ( relationship)"
   ]
  },
  {
   "cell_type": "markdown",
   "id": "0502b298",
   "metadata": {},
   "source": [
    "### Hypothesis:\n",
    "* Q: Does monthly charges indicate whether or not someone churned?"
   ]
  },
  {
   "cell_type": "code",
   "execution_count": 16,
   "id": "c4093098",
   "metadata": {},
   "outputs": [
    {
     "data": {
      "image/png": "[encoded data removed]",
      "text/plain": [
       "<Figure size 640x480 with 1 Axes>"
      ]
     },
     "metadata": {},
     "output_type": "display_data"
    }
   ],
   "source": [
    "# visualization:\n",
    "sns.boxplot(data=train, x='churn', y='monthly_charges',hue='churn')\n",
    "plt.show()"
   ]
  },
  {
   "cell_type": "markdown",
   "id": "b0e0f6e1",
   "metadata": {},
   "source": [
    "## Analyze with mann-whitney test:\n",
    "\n",
    " I checked normality test by 'shapiro' test but i found Ho is rejected, the sample is not normal distribution.\n",
    " t-test can't apply for train dataset.\n",
    " so i am go through mann-whitney test for two sample mean, here i am calling that function which tests\n",
    " the mann-whitney test for two sample contains 'churn' and 'not churn' sample.\n",
    " \n",
    "###  Hypothesis setting:\n",
    " \n",
    " * Ho: There is no relationship between 'monthly_charges' vs 'churn'.\n",
    " \n",
    " * Ha: There is relationship between 'monthly_charges' vs 'churn'.\n",
    " \n",
    " * confidence level, alpha = 0.05\n"
   ]
  },
  {
   "cell_type": "code",
   "execution_count": 17,
   "id": "136e0a75",
   "metadata": {},
   "outputs": [
    {
     "name": "stdout",
     "output_type": "stream",
     "text": [
      "stat:2136241.0\n",
      "p_value:9.83259830397179e-30\n"
     ]
    }
   ],
   "source": [
    "ex.get_mann_whitney(train)"
   ]
  },
  {
   "cell_type": "markdown",
   "id": "415e0158",
   "metadata": {},
   "source": [
    "> Since p_value < alpha, we reject the Ho. This concludes there is significate relationship between 'monthly_charges' and 'churn."
   ]
  },
  {
   "cell_type": "markdown",
   "id": "7f2f19a6",
   "metadata": {},
   "source": [
    "### summarize:\n",
    "* conclusion:The customer with high monthly charge is more likely to churn.\n",
    "* recommendation: we might recommend and give attractive discount offer to customers for over a year, to prevent their churn rate is going high. "
   ]
  },
  {
   "cell_type": "markdown",
   "id": "48526e42",
   "metadata": {},
   "source": [
    "## 4th Hypothesis test ( relationship)\n",
    "\n",
    "### Hypothesis:\n",
    "* Q: do many customers churn after a certain period? \n",
    "        \n",
    "        or\n",
    "\n",
    "*  Q: Does tenure affects the churned customer?"
   ]
  },
  {
   "cell_type": "markdown",
   "id": "08498550",
   "metadata": {},
   "source": [
    "> Visualize"
   ]
  },
  {
   "cell_type": "code",
   "execution_count": 18,
   "id": "53035bc3",
   "metadata": {},
   "outputs": [
    {
     "data": {
      "image/png": "[encoded data removed]",
      "text/plain": [
       "<Figure size 640x480 with 1 Axes>"
      ]
     },
     "metadata": {},
     "output_type": "display_data"
    }
   ],
   "source": [
    "sns.boxplot(data=train, y='tenure', x='churn');"
   ]
  },
  {
   "cell_type": "markdown",
   "id": "d72a56bf",
   "metadata": {},
   "source": [
    "* It appears customers are churning early on in their tenure. \n",
    "\n",
    "* It is indicating whether longer or shorter tenures have an influence on the likelihood of a customer churning."
   ]
  },
  {
   "cell_type": "markdown",
   "id": "ed0fb0cf",
   "metadata": {},
   "source": [
    "## Analyze \n",
    "* comparing categorical to categorical because we are going to bin tenure into years, of which the higest tenure is 72 months.so i will getting only 7 values of tenure.\n",
    "\n",
    "Ho: There is no relationship between tenure and whether or not someone has churned\n",
    "\n",
    "Ha: There is a relationship between tenure and whether or not someone has churned\n",
    "\n",
    "alpha=0.05\n"
   ]
  },
  {
   "cell_type": "code",
   "execution_count": 19,
   "id": "acf51691",
   "metadata": {},
   "outputs": [
    {
     "name": "stdout",
     "output_type": "stream",
     "text": [
      "             tenure tenure_years\n",
      "customer_id                     \n",
      "4083-BFNYK       38            3\n",
      "5804-LEPIM        2            0\n",
      "4895-TMWIR       11            0\n",
      "1342-JPNKI       10            0\n",
      "3397-AVTKU       43            3\n",
      "...             ...          ...\n",
      "1915-IOFGU        1            0\n",
      "7025-WCBNE       47            3\n",
      "9788-HNGUT       72            6\n",
      "5229-PRWKT        8            0\n",
      "7562-UXTPG       13            1\n",
      "\n",
      "[4225 rows x 2 columns]\n",
      "tenure_years    0    1    2    3    4    5    6\n",
      "churn                                          \n",
      "No            626  448  422  343  417  620  228\n",
      "Yes           609  164  110   95   89   49    5\n",
      "Observed\n",
      "[[626 448 422 343 417 620 228]\n",
      " [609 164 110  95  89  49   5]]\n",
      "\n",
      "Expected\n",
      "[[907 449 390 321 371 491 171]\n",
      " [327 162 141 116 134 177  61]]\n",
      "\n",
      "----\n",
      "chi^2 = 561.8805\n",
      "p     = 0.0000\n"
     ]
    }
   ],
   "source": [
    "# using chi^2 test over the train dataset \n",
    "# tenure_years is binned from 'tenure'\n",
    "# creating contingency table (cross table between 'churn' and tenure_years)\n",
    "ex.chi_tenure_tar(train)"
   ]
  },
  {
   "cell_type": "markdown",
   "id": "e811c0e4",
   "metadata": {},
   "source": [
    "> Since p < alpha, so we reject Ho. This concludes there is significant relationship between 'tenure' and 'churn'."
   ]
  },
  {
   "cell_type": "markdown",
   "id": "caac9fd1",
   "metadata": {},
   "source": [
    "## summarize\n",
    "* Above result and test shows that there is significant relationship between 'tenure' and 'churn'.\n",
    "* customers at higher risk of churning based on tenure-related behavior patterns.\n",
    "\n",
    "### Recommendation:\n",
    "           \n",
    "* Identify high-risk tenure periods when churn rates tend to increase. Implement targeted retention campaigns during these phases, offering personalized support, exclusive benefits, or loyalty rewards to prevent churn.\n",
    "            \n",
    "* communication to address concerns and improve service quality.\n",
    "           \n",
    "           \n",
    "\n",
    "\n"
   ]
  },
  {
   "cell_type": "code",
   "execution_count": 20,
   "id": "150c3a11",
   "metadata": {},
   "outputs": [
    {
     "data": {
      "text/html": [
       "<div>\n",
       "<style scoped>\n",
       "    .dataframe tbody tr th:only-of-type {\n",
       "        vertical-align: middle;\n",
       "    }\n",
       "\n",
       "    .dataframe tbody tr th {\n",
       "        vertical-align: top;\n",
       "    }\n",
       "\n",
       "    .dataframe thead th {\n",
       "        text-align: right;\n",
       "    }\n",
       "</style>\n",
       "<table border=\"1\" class=\"dataframe\">\n",
       "  <thead>\n",
       "    <tr style=\"text-align: right;\">\n",
       "      <th></th>\n",
       "      <th>gender</th>\n",
       "      <th>senior_citizen</th>\n",
       "      <th>partner</th>\n",
       "      <th>dependents</th>\n",
       "      <th>tenure</th>\n",
       "      <th>phone_service</th>\n",
       "      <th>multiple_lines</th>\n",
       "      <th>online_security</th>\n",
       "      <th>online_backup</th>\n",
       "      <th>device_protection</th>\n",
       "      <th>...</th>\n",
       "      <th>streaming_tv</th>\n",
       "      <th>streaming_movies</th>\n",
       "      <th>paperless_billing</th>\n",
       "      <th>monthly_charges</th>\n",
       "      <th>total_charges</th>\n",
       "      <th>churn</th>\n",
       "      <th>contract_type</th>\n",
       "      <th>internet_service_type</th>\n",
       "      <th>payment_type</th>\n",
       "      <th>tenure_years</th>\n",
       "    </tr>\n",
       "    <tr>\n",
       "      <th>customer_id</th>\n",
       "      <th></th>\n",
       "      <th></th>\n",
       "      <th></th>\n",
       "      <th></th>\n",
       "      <th></th>\n",
       "      <th></th>\n",
       "      <th></th>\n",
       "      <th></th>\n",
       "      <th></th>\n",
       "      <th></th>\n",
       "      <th></th>\n",
       "      <th></th>\n",
       "      <th></th>\n",
       "      <th></th>\n",
       "      <th></th>\n",
       "      <th></th>\n",
       "      <th></th>\n",
       "      <th></th>\n",
       "      <th></th>\n",
       "      <th></th>\n",
       "      <th></th>\n",
       "    </tr>\n",
       "  </thead>\n",
       "  <tbody>\n",
       "    <tr>\n",
       "      <th>4083-BFNYK</th>\n",
       "      <td>Female</td>\n",
       "      <td>1</td>\n",
       "      <td>Yes</td>\n",
       "      <td>No</td>\n",
       "      <td>38</td>\n",
       "      <td>Yes</td>\n",
       "      <td>Yes</td>\n",
       "      <td>Yes</td>\n",
       "      <td>Yes</td>\n",
       "      <td>No</td>\n",
       "      <td>...</td>\n",
       "      <td>No</td>\n",
       "      <td>Yes</td>\n",
       "      <td>No</td>\n",
       "      <td>95.00</td>\n",
       "      <td>3591.25</td>\n",
       "      <td>No</td>\n",
       "      <td>One year</td>\n",
       "      <td>Fiber optic</td>\n",
       "      <td>Credit card (automatic)</td>\n",
       "      <td>3</td>\n",
       "    </tr>\n",
       "    <tr>\n",
       "      <th>5804-LEPIM</th>\n",
       "      <td>Female</td>\n",
       "      <td>1</td>\n",
       "      <td>No</td>\n",
       "      <td>No</td>\n",
       "      <td>2</td>\n",
       "      <td>Yes</td>\n",
       "      <td>No</td>\n",
       "      <td>No</td>\n",
       "      <td>No</td>\n",
       "      <td>No</td>\n",
       "      <td>...</td>\n",
       "      <td>No</td>\n",
       "      <td>No</td>\n",
       "      <td>Yes</td>\n",
       "      <td>70.35</td>\n",
       "      <td>139.05</td>\n",
       "      <td>Yes</td>\n",
       "      <td>Month-to-month</td>\n",
       "      <td>Fiber optic</td>\n",
       "      <td>Electronic check</td>\n",
       "      <td>0</td>\n",
       "    </tr>\n",
       "    <tr>\n",
       "      <th>4895-TMWIR</th>\n",
       "      <td>Male</td>\n",
       "      <td>1</td>\n",
       "      <td>Yes</td>\n",
       "      <td>No</td>\n",
       "      <td>11</td>\n",
       "      <td>Yes</td>\n",
       "      <td>No</td>\n",
       "      <td>No internet service</td>\n",
       "      <td>No internet service</td>\n",
       "      <td>No internet service</td>\n",
       "      <td>...</td>\n",
       "      <td>No internet service</td>\n",
       "      <td>No internet service</td>\n",
       "      <td>No</td>\n",
       "      <td>19.95</td>\n",
       "      <td>214.75</td>\n",
       "      <td>Yes</td>\n",
       "      <td>Month-to-month</td>\n",
       "      <td>neither</td>\n",
       "      <td>Mailed check</td>\n",
       "      <td>0</td>\n",
       "    </tr>\n",
       "  </tbody>\n",
       "</table>\n",
       "<p>3 rows × 21 columns</p>\n",
       "</div>"
      ],
      "text/plain": [
       "             gender  senior_citizen partner dependents  tenure phone_service  \\\n",
       "customer_id                                                                    \n",
       "4083-BFNYK   Female               1     Yes         No      38           Yes   \n",
       "5804-LEPIM   Female               1      No         No       2           Yes   \n",
       "4895-TMWIR     Male               1     Yes         No      11           Yes   \n",
       "\n",
       "            multiple_lines      online_security        online_backup  \\\n",
       "customer_id                                                            \n",
       "4083-BFNYK             Yes                  Yes                  Yes   \n",
       "5804-LEPIM              No                   No                   No   \n",
       "4895-TMWIR              No  No internet service  No internet service   \n",
       "\n",
       "               device_protection  ...         streaming_tv  \\\n",
       "customer_id                       ...                        \n",
       "4083-BFNYK                    No  ...                   No   \n",
       "5804-LEPIM                    No  ...                   No   \n",
       "4895-TMWIR   No internet service  ...  No internet service   \n",
       "\n",
       "                streaming_movies paperless_billing monthly_charges  \\\n",
       "customer_id                                                          \n",
       "4083-BFNYK                   Yes                No           95.00   \n",
       "5804-LEPIM                    No               Yes           70.35   \n",
       "4895-TMWIR   No internet service                No           19.95   \n",
       "\n",
       "             total_charges  churn   contract_type internet_service_type  \\\n",
       "customer_id                                                               \n",
       "4083-BFNYK         3591.25     No        One year           Fiber optic   \n",
       "5804-LEPIM          139.05    Yes  Month-to-month           Fiber optic   \n",
       "4895-TMWIR          214.75    Yes  Month-to-month               neither   \n",
       "\n",
       "                        payment_type tenure_years  \n",
       "customer_id                                        \n",
       "4083-BFNYK   Credit card (automatic)            3  \n",
       "5804-LEPIM          Electronic check            0  \n",
       "4895-TMWIR              Mailed check            0  \n",
       "\n",
       "[3 rows x 21 columns]"
      ]
     },
     "execution_count": 20,
     "metadata": {},
     "output_type": "execute_result"
    }
   ],
   "source": [
    "# just insight over train dataset\n",
    "train.head(3)"
   ]
  },
  {
   "cell_type": "code",
   "execution_count": 21,
   "id": "6a15227a",
   "metadata": {},
   "outputs": [
    {
     "data": {
      "text/html": [
       "<div>\n",
       "<style scoped>\n",
       "    .dataframe tbody tr th:only-of-type {\n",
       "        vertical-align: middle;\n",
       "    }\n",
       "\n",
       "    .dataframe tbody tr th {\n",
       "        vertical-align: top;\n",
       "    }\n",
       "\n",
       "    .dataframe thead th {\n",
       "        text-align: right;\n",
       "    }\n",
       "</style>\n",
       "<table border=\"1\" class=\"dataframe\">\n",
       "  <thead>\n",
       "    <tr style=\"text-align: right;\">\n",
       "      <th></th>\n",
       "      <th>gender</th>\n",
       "      <th>senior_citizen</th>\n",
       "      <th>partner</th>\n",
       "      <th>dependents</th>\n",
       "      <th>tenure</th>\n",
       "      <th>phone_service</th>\n",
       "      <th>multiple_lines</th>\n",
       "      <th>online_security</th>\n",
       "      <th>online_backup</th>\n",
       "      <th>device_protection</th>\n",
       "      <th>tech_support</th>\n",
       "      <th>streaming_tv</th>\n",
       "      <th>streaming_movies</th>\n",
       "      <th>paperless_billing</th>\n",
       "      <th>monthly_charges</th>\n",
       "      <th>total_charges</th>\n",
       "      <th>churn</th>\n",
       "      <th>contract_type</th>\n",
       "      <th>internet_service_type</th>\n",
       "      <th>payment_type</th>\n",
       "    </tr>\n",
       "    <tr>\n",
       "      <th>customer_id</th>\n",
       "      <th></th>\n",
       "      <th></th>\n",
       "      <th></th>\n",
       "      <th></th>\n",
       "      <th></th>\n",
       "      <th></th>\n",
       "      <th></th>\n",
       "      <th></th>\n",
       "      <th></th>\n",
       "      <th></th>\n",
       "      <th></th>\n",
       "      <th></th>\n",
       "      <th></th>\n",
       "      <th></th>\n",
       "      <th></th>\n",
       "      <th></th>\n",
       "      <th></th>\n",
       "      <th></th>\n",
       "      <th></th>\n",
       "      <th></th>\n",
       "    </tr>\n",
       "  </thead>\n",
       "  <tbody>\n",
       "    <tr>\n",
       "      <th>4083-BFNYK</th>\n",
       "      <td>Female</td>\n",
       "      <td>1</td>\n",
       "      <td>Yes</td>\n",
       "      <td>No</td>\n",
       "      <td>38</td>\n",
       "      <td>Yes</td>\n",
       "      <td>Yes</td>\n",
       "      <td>Yes</td>\n",
       "      <td>Yes</td>\n",
       "      <td>No</td>\n",
       "      <td>No</td>\n",
       "      <td>No</td>\n",
       "      <td>Yes</td>\n",
       "      <td>No</td>\n",
       "      <td>95.00</td>\n",
       "      <td>3591.25</td>\n",
       "      <td>No</td>\n",
       "      <td>One year</td>\n",
       "      <td>Fiber optic</td>\n",
       "      <td>Credit card (automatic)</td>\n",
       "    </tr>\n",
       "    <tr>\n",
       "      <th>5804-LEPIM</th>\n",
       "      <td>Female</td>\n",
       "      <td>1</td>\n",
       "      <td>No</td>\n",
       "      <td>No</td>\n",
       "      <td>2</td>\n",
       "      <td>Yes</td>\n",
       "      <td>No</td>\n",
       "      <td>No</td>\n",
       "      <td>No</td>\n",
       "      <td>No</td>\n",
       "      <td>No</td>\n",
       "      <td>No</td>\n",
       "      <td>No</td>\n",
       "      <td>Yes</td>\n",
       "      <td>70.35</td>\n",
       "      <td>139.05</td>\n",
       "      <td>Yes</td>\n",
       "      <td>Month-to-month</td>\n",
       "      <td>Fiber optic</td>\n",
       "      <td>Electronic check</td>\n",
       "    </tr>\n",
       "    <tr>\n",
       "      <th>4895-TMWIR</th>\n",
       "      <td>Male</td>\n",
       "      <td>1</td>\n",
       "      <td>Yes</td>\n",
       "      <td>No</td>\n",
       "      <td>11</td>\n",
       "      <td>Yes</td>\n",
       "      <td>No</td>\n",
       "      <td>No internet service</td>\n",
       "      <td>No internet service</td>\n",
       "      <td>No internet service</td>\n",
       "      <td>No internet service</td>\n",
       "      <td>No internet service</td>\n",
       "      <td>No internet service</td>\n",
       "      <td>No</td>\n",
       "      <td>19.95</td>\n",
       "      <td>214.75</td>\n",
       "      <td>Yes</td>\n",
       "      <td>Month-to-month</td>\n",
       "      <td>neither</td>\n",
       "      <td>Mailed check</td>\n",
       "    </tr>\n",
       "  </tbody>\n",
       "</table>\n",
       "</div>"
      ],
      "text/plain": [
       "             gender  senior_citizen partner dependents  tenure phone_service  \\\n",
       "customer_id                                                                    \n",
       "4083-BFNYK   Female               1     Yes         No      38           Yes   \n",
       "5804-LEPIM   Female               1      No         No       2           Yes   \n",
       "4895-TMWIR     Male               1     Yes         No      11           Yes   \n",
       "\n",
       "            multiple_lines      online_security        online_backup  \\\n",
       "customer_id                                                            \n",
       "4083-BFNYK             Yes                  Yes                  Yes   \n",
       "5804-LEPIM              No                   No                   No   \n",
       "4895-TMWIR              No  No internet service  No internet service   \n",
       "\n",
       "               device_protection         tech_support         streaming_tv  \\\n",
       "customer_id                                                                  \n",
       "4083-BFNYK                    No                   No                   No   \n",
       "5804-LEPIM                    No                   No                   No   \n",
       "4895-TMWIR   No internet service  No internet service  No internet service   \n",
       "\n",
       "                streaming_movies paperless_billing  monthly_charges  \\\n",
       "customer_id                                                           \n",
       "4083-BFNYK                   Yes                No            95.00   \n",
       "5804-LEPIM                    No               Yes            70.35   \n",
       "4895-TMWIR   No internet service                No            19.95   \n",
       "\n",
       "             total_charges churn   contract_type internet_service_type  \\\n",
       "customer_id                                                              \n",
       "4083-BFNYK         3591.25    No        One year           Fiber optic   \n",
       "5804-LEPIM          139.05   Yes  Month-to-month           Fiber optic   \n",
       "4895-TMWIR          214.75   Yes  Month-to-month               neither   \n",
       "\n",
       "                        payment_type  \n",
       "customer_id                           \n",
       "4083-BFNYK   Credit card (automatic)  \n",
       "5804-LEPIM          Electronic check  \n",
       "4895-TMWIR              Mailed check  "
      ]
     },
     "execution_count": 21,
     "metadata": {},
     "output_type": "execute_result"
    }
   ],
   "source": [
    "# drop new created column 'tenure_years'\n",
    "train=train.drop(columns='tenure_years')\n",
    "train.head(3)"
   ]
  },
  {
   "cell_type": "markdown",
   "id": "91aca243",
   "metadata": {},
   "source": [
    "## Preprocessing ( For Modeling )"
   ]
  },
  {
   "cell_type": "code",
   "execution_count": 22,
   "id": "243178c2",
   "metadata": {},
   "outputs": [],
   "source": [
    "# encoding with each dataframes train, validate, and test\n",
    "\n",
    "train_en,val_en,test_en=m.preprocess_telco(train,val,test) \n"
   ]
  },
  {
   "cell_type": "code",
   "execution_count": 23,
   "id": "3ac97213",
   "metadata": {},
   "outputs": [
    {
     "data": {
      "text/html": [
       "<div>\n",
       "<style scoped>\n",
       "    .dataframe tbody tr th:only-of-type {\n",
       "        vertical-align: middle;\n",
       "    }\n",
       "\n",
       "    .dataframe tbody tr th {\n",
       "        vertical-align: top;\n",
       "    }\n",
       "\n",
       "    .dataframe thead th {\n",
       "        text-align: right;\n",
       "    }\n",
       "</style>\n",
       "<table border=\"1\" class=\"dataframe\">\n",
       "  <thead>\n",
       "    <tr style=\"text-align: right;\">\n",
       "      <th></th>\n",
       "      <th>senior_citizen</th>\n",
       "      <th>tenure</th>\n",
       "      <th>monthly_charges</th>\n",
       "      <th>total_charges</th>\n",
       "      <th>gender_Male</th>\n",
       "      <th>partner_Yes</th>\n",
       "      <th>dependents_Yes</th>\n",
       "      <th>phone_service_Yes</th>\n",
       "      <th>multiple_lines_No phone service</th>\n",
       "      <th>multiple_lines_Yes</th>\n",
       "      <th>...</th>\n",
       "      <th>streaming_movies_Yes</th>\n",
       "      <th>paperless_billing_Yes</th>\n",
       "      <th>churn_Yes</th>\n",
       "      <th>contract_type_One year</th>\n",
       "      <th>contract_type_Two year</th>\n",
       "      <th>internet_service_type_Fiber optic</th>\n",
       "      <th>internet_service_type_neither</th>\n",
       "      <th>payment_type_Credit card (automatic)</th>\n",
       "      <th>payment_type_Electronic check</th>\n",
       "      <th>payment_type_Mailed check</th>\n",
       "    </tr>\n",
       "    <tr>\n",
       "      <th>customer_id</th>\n",
       "      <th></th>\n",
       "      <th></th>\n",
       "      <th></th>\n",
       "      <th></th>\n",
       "      <th></th>\n",
       "      <th></th>\n",
       "      <th></th>\n",
       "      <th></th>\n",
       "      <th></th>\n",
       "      <th></th>\n",
       "      <th></th>\n",
       "      <th></th>\n",
       "      <th></th>\n",
       "      <th></th>\n",
       "      <th></th>\n",
       "      <th></th>\n",
       "      <th></th>\n",
       "      <th></th>\n",
       "      <th></th>\n",
       "      <th></th>\n",
       "      <th></th>\n",
       "    </tr>\n",
       "  </thead>\n",
       "  <tbody>\n",
       "    <tr>\n",
       "      <th>4083-BFNYK</th>\n",
       "      <td>1</td>\n",
       "      <td>38</td>\n",
       "      <td>95.00</td>\n",
       "      <td>3591.25</td>\n",
       "      <td>0</td>\n",
       "      <td>1</td>\n",
       "      <td>0</td>\n",
       "      <td>1</td>\n",
       "      <td>0</td>\n",
       "      <td>1</td>\n",
       "      <td>...</td>\n",
       "      <td>1</td>\n",
       "      <td>0</td>\n",
       "      <td>0</td>\n",
       "      <td>1</td>\n",
       "      <td>0</td>\n",
       "      <td>1</td>\n",
       "      <td>0</td>\n",
       "      <td>1</td>\n",
       "      <td>0</td>\n",
       "      <td>0</td>\n",
       "    </tr>\n",
       "    <tr>\n",
       "      <th>5804-LEPIM</th>\n",
       "      <td>1</td>\n",
       "      <td>2</td>\n",
       "      <td>70.35</td>\n",
       "      <td>139.05</td>\n",
       "      <td>0</td>\n",
       "      <td>0</td>\n",
       "      <td>0</td>\n",
       "      <td>1</td>\n",
       "      <td>0</td>\n",
       "      <td>0</td>\n",
       "      <td>...</td>\n",
       "      <td>0</td>\n",
       "      <td>1</td>\n",
       "      <td>1</td>\n",
       "      <td>0</td>\n",
       "      <td>0</td>\n",
       "      <td>1</td>\n",
       "      <td>0</td>\n",
       "      <td>0</td>\n",
       "      <td>1</td>\n",
       "      <td>0</td>\n",
       "    </tr>\n",
       "    <tr>\n",
       "      <th>4895-TMWIR</th>\n",
       "      <td>1</td>\n",
       "      <td>11</td>\n",
       "      <td>19.95</td>\n",
       "      <td>214.75</td>\n",
       "      <td>1</td>\n",
       "      <td>1</td>\n",
       "      <td>0</td>\n",
       "      <td>1</td>\n",
       "      <td>0</td>\n",
       "      <td>0</td>\n",
       "      <td>...</td>\n",
       "      <td>0</td>\n",
       "      <td>0</td>\n",
       "      <td>1</td>\n",
       "      <td>0</td>\n",
       "      <td>0</td>\n",
       "      <td>0</td>\n",
       "      <td>1</td>\n",
       "      <td>0</td>\n",
       "      <td>0</td>\n",
       "      <td>1</td>\n",
       "    </tr>\n",
       "  </tbody>\n",
       "</table>\n",
       "<p>3 rows × 31 columns</p>\n",
       "</div>"
      ],
      "text/plain": [
       "             senior_citizen  tenure  monthly_charges  total_charges  \\\n",
       "customer_id                                                           \n",
       "4083-BFNYK                1      38            95.00        3591.25   \n",
       "5804-LEPIM                1       2            70.35         139.05   \n",
       "4895-TMWIR                1      11            19.95         214.75   \n",
       "\n",
       "             gender_Male  partner_Yes  dependents_Yes  phone_service_Yes  \\\n",
       "customer_id                                                                \n",
       "4083-BFNYK             0            1               0                  1   \n",
       "5804-LEPIM             0            0               0                  1   \n",
       "4895-TMWIR             1            1               0                  1   \n",
       "\n",
       "             multiple_lines_No phone service  multiple_lines_Yes  ...  \\\n",
       "customer_id                                                       ...   \n",
       "4083-BFNYK                                 0                   1  ...   \n",
       "5804-LEPIM                                 0                   0  ...   \n",
       "4895-TMWIR                                 0                   0  ...   \n",
       "\n",
       "             streaming_movies_Yes  paperless_billing_Yes  churn_Yes  \\\n",
       "customer_id                                                           \n",
       "4083-BFNYK                      1                      0          0   \n",
       "5804-LEPIM                      0                      1          1   \n",
       "4895-TMWIR                      0                      0          1   \n",
       "\n",
       "             contract_type_One year  contract_type_Two year  \\\n",
       "customer_id                                                   \n",
       "4083-BFNYK                        1                       0   \n",
       "5804-LEPIM                        0                       0   \n",
       "4895-TMWIR                        0                       0   \n",
       "\n",
       "             internet_service_type_Fiber optic  internet_service_type_neither  \\\n",
       "customer_id                                                                     \n",
       "4083-BFNYK                                   1                              0   \n",
       "5804-LEPIM                                   1                              0   \n",
       "4895-TMWIR                                   0                              1   \n",
       "\n",
       "             payment_type_Credit card (automatic)  \\\n",
       "customer_id                                         \n",
       "4083-BFNYK                                      1   \n",
       "5804-LEPIM                                      0   \n",
       "4895-TMWIR                                      0   \n",
       "\n",
       "             payment_type_Electronic check  payment_type_Mailed check  \n",
       "customer_id                                                            \n",
       "4083-BFNYK                               0                          0  \n",
       "5804-LEPIM                               1                          0  \n",
       "4895-TMWIR                               0                          1  \n",
       "\n",
       "[3 rows x 31 columns]"
      ]
     },
     "execution_count": 23,
     "metadata": {},
     "output_type": "execute_result"
    }
   ],
   "source": [
    "# dataframe display for encoded train data\n",
    "train_en.head(3)"
   ]
  },
  {
   "cell_type": "code",
   "execution_count": 24,
   "id": "82d39eee",
   "metadata": {},
   "outputs": [],
   "source": [
    "# separate independents feature & target\n",
    "\n",
    "X_train, y_train = train_en.drop(columns='churn_Yes'), train_en.churn_Yes\n",
    "X_validate, y_validate = val_en.drop(columns='churn_Yes'), val_en.churn_Yes\n",
    "X_test, y_test = test_en.drop(columns='churn_Yes'), test_en.churn_Yes"
   ]
  },
  {
   "cell_type": "code",
   "execution_count": 25,
   "id": "531ed5c5",
   "metadata": {},
   "outputs": [
    {
     "data": {
      "text/html": [
       "<div>\n",
       "<style scoped>\n",
       "    .dataframe tbody tr th:only-of-type {\n",
       "        vertical-align: middle;\n",
       "    }\n",
       "\n",
       "    .dataframe tbody tr th {\n",
       "        vertical-align: top;\n",
       "    }\n",
       "\n",
       "    .dataframe thead th {\n",
       "        text-align: right;\n",
       "    }\n",
       "</style>\n",
       "<table border=\"1\" class=\"dataframe\">\n",
       "  <thead>\n",
       "    <tr style=\"text-align: right;\">\n",
       "      <th></th>\n",
       "      <th>senior_citizen</th>\n",
       "      <th>tenure</th>\n",
       "      <th>monthly_charges</th>\n",
       "      <th>total_charges</th>\n",
       "      <th>gender_Male</th>\n",
       "      <th>partner_Yes</th>\n",
       "      <th>dependents_Yes</th>\n",
       "      <th>phone_service_Yes</th>\n",
       "      <th>multiple_lines_No phone service</th>\n",
       "      <th>multiple_lines_Yes</th>\n",
       "      <th>...</th>\n",
       "      <th>streaming_movies_No internet service</th>\n",
       "      <th>streaming_movies_Yes</th>\n",
       "      <th>paperless_billing_Yes</th>\n",
       "      <th>contract_type_One year</th>\n",
       "      <th>contract_type_Two year</th>\n",
       "      <th>internet_service_type_Fiber optic</th>\n",
       "      <th>internet_service_type_neither</th>\n",
       "      <th>payment_type_Credit card (automatic)</th>\n",
       "      <th>payment_type_Electronic check</th>\n",
       "      <th>payment_type_Mailed check</th>\n",
       "    </tr>\n",
       "    <tr>\n",
       "      <th>customer_id</th>\n",
       "      <th></th>\n",
       "      <th></th>\n",
       "      <th></th>\n",
       "      <th></th>\n",
       "      <th></th>\n",
       "      <th></th>\n",
       "      <th></th>\n",
       "      <th></th>\n",
       "      <th></th>\n",
       "      <th></th>\n",
       "      <th></th>\n",
       "      <th></th>\n",
       "      <th></th>\n",
       "      <th></th>\n",
       "      <th></th>\n",
       "      <th></th>\n",
       "      <th></th>\n",
       "      <th></th>\n",
       "      <th></th>\n",
       "      <th></th>\n",
       "      <th></th>\n",
       "    </tr>\n",
       "  </thead>\n",
       "  <tbody>\n",
       "    <tr>\n",
       "      <th>4083-BFNYK</th>\n",
       "      <td>1</td>\n",
       "      <td>38</td>\n",
       "      <td>95.00</td>\n",
       "      <td>3591.25</td>\n",
       "      <td>0</td>\n",
       "      <td>1</td>\n",
       "      <td>0</td>\n",
       "      <td>1</td>\n",
       "      <td>0</td>\n",
       "      <td>1</td>\n",
       "      <td>...</td>\n",
       "      <td>0</td>\n",
       "      <td>1</td>\n",
       "      <td>0</td>\n",
       "      <td>1</td>\n",
       "      <td>0</td>\n",
       "      <td>1</td>\n",
       "      <td>0</td>\n",
       "      <td>1</td>\n",
       "      <td>0</td>\n",
       "      <td>0</td>\n",
       "    </tr>\n",
       "    <tr>\n",
       "      <th>5804-LEPIM</th>\n",
       "      <td>1</td>\n",
       "      <td>2</td>\n",
       "      <td>70.35</td>\n",
       "      <td>139.05</td>\n",
       "      <td>0</td>\n",
       "      <td>0</td>\n",
       "      <td>0</td>\n",
       "      <td>1</td>\n",
       "      <td>0</td>\n",
       "      <td>0</td>\n",
       "      <td>...</td>\n",
       "      <td>0</td>\n",
       "      <td>0</td>\n",
       "      <td>1</td>\n",
       "      <td>0</td>\n",
       "      <td>0</td>\n",
       "      <td>1</td>\n",
       "      <td>0</td>\n",
       "      <td>0</td>\n",
       "      <td>1</td>\n",
       "      <td>0</td>\n",
       "    </tr>\n",
       "    <tr>\n",
       "      <th>4895-TMWIR</th>\n",
       "      <td>1</td>\n",
       "      <td>11</td>\n",
       "      <td>19.95</td>\n",
       "      <td>214.75</td>\n",
       "      <td>1</td>\n",
       "      <td>1</td>\n",
       "      <td>0</td>\n",
       "      <td>1</td>\n",
       "      <td>0</td>\n",
       "      <td>0</td>\n",
       "      <td>...</td>\n",
       "      <td>1</td>\n",
       "      <td>0</td>\n",
       "      <td>0</td>\n",
       "      <td>0</td>\n",
       "      <td>0</td>\n",
       "      <td>0</td>\n",
       "      <td>1</td>\n",
       "      <td>0</td>\n",
       "      <td>0</td>\n",
       "      <td>1</td>\n",
       "    </tr>\n",
       "  </tbody>\n",
       "</table>\n",
       "<p>3 rows × 30 columns</p>\n",
       "</div>"
      ],
      "text/plain": [
       "             senior_citizen  tenure  monthly_charges  total_charges  \\\n",
       "customer_id                                                           \n",
       "4083-BFNYK                1      38            95.00        3591.25   \n",
       "5804-LEPIM                1       2            70.35         139.05   \n",
       "4895-TMWIR                1      11            19.95         214.75   \n",
       "\n",
       "             gender_Male  partner_Yes  dependents_Yes  phone_service_Yes  \\\n",
       "customer_id                                                                \n",
       "4083-BFNYK             0            1               0                  1   \n",
       "5804-LEPIM             0            0               0                  1   \n",
       "4895-TMWIR             1            1               0                  1   \n",
       "\n",
       "             multiple_lines_No phone service  multiple_lines_Yes  ...  \\\n",
       "customer_id                                                       ...   \n",
       "4083-BFNYK                                 0                   1  ...   \n",
       "5804-LEPIM                                 0                   0  ...   \n",
       "4895-TMWIR                                 0                   0  ...   \n",
       "\n",
       "             streaming_movies_No internet service  streaming_movies_Yes  \\\n",
       "customer_id                                                               \n",
       "4083-BFNYK                                      0                     1   \n",
       "5804-LEPIM                                      0                     0   \n",
       "4895-TMWIR                                      1                     0   \n",
       "\n",
       "             paperless_billing_Yes  contract_type_One year  \\\n",
       "customer_id                                                  \n",
       "4083-BFNYK                       0                       1   \n",
       "5804-LEPIM                       1                       0   \n",
       "4895-TMWIR                       0                       0   \n",
       "\n",
       "             contract_type_Two year  internet_service_type_Fiber optic  \\\n",
       "customer_id                                                              \n",
       "4083-BFNYK                        0                                  1   \n",
       "5804-LEPIM                        0                                  1   \n",
       "4895-TMWIR                        0                                  0   \n",
       "\n",
       "             internet_service_type_neither  \\\n",
       "customer_id                                  \n",
       "4083-BFNYK                               0   \n",
       "5804-LEPIM                               0   \n",
       "4895-TMWIR                               1   \n",
       "\n",
       "             payment_type_Credit card (automatic)  \\\n",
       "customer_id                                         \n",
       "4083-BFNYK                                      1   \n",
       "5804-LEPIM                                      0   \n",
       "4895-TMWIR                                      0   \n",
       "\n",
       "             payment_type_Electronic check  payment_type_Mailed check  \n",
       "customer_id                                                            \n",
       "4083-BFNYK                               0                          0  \n",
       "5804-LEPIM                               1                          0  \n",
       "4895-TMWIR                               0                          1  \n",
       "\n",
       "[3 rows x 30 columns]"
      ]
     },
     "execution_count": 25,
     "metadata": {},
     "output_type": "execute_result"
    }
   ],
   "source": [
    "X_train.head(3)"
   ]
  },
  {
   "cell_type": "code",
   "execution_count": 26,
   "id": "16ad196d",
   "metadata": {},
   "outputs": [
    {
     "data": {
      "text/plain": [
       "customer_id\n",
       "4083-BFNYK    0\n",
       "5804-LEPIM    1\n",
       "4895-TMWIR    1\n",
       "Name: churn_Yes, dtype: int64"
      ]
     },
     "execution_count": 26,
     "metadata": {},
     "output_type": "execute_result"
    }
   ],
   "source": [
    "y_train.head(3)"
   ]
  },
  {
   "cell_type": "code",
   "execution_count": 27,
   "id": "73ac4287",
   "metadata": {},
   "outputs": [
    {
     "data": {
      "text/html": [
       "<div>\n",
       "<style scoped>\n",
       "    .dataframe tbody tr th:only-of-type {\n",
       "        vertical-align: middle;\n",
       "    }\n",
       "\n",
       "    .dataframe tbody tr th {\n",
       "        vertical-align: top;\n",
       "    }\n",
       "\n",
       "    .dataframe thead th {\n",
       "        text-align: right;\n",
       "    }\n",
       "</style>\n",
       "<table border=\"1\" class=\"dataframe\">\n",
       "  <thead>\n",
       "    <tr style=\"text-align: right;\">\n",
       "      <th></th>\n",
       "      <th>senior_citizen</th>\n",
       "      <th>tenure</th>\n",
       "      <th>monthly_charges</th>\n",
       "      <th>total_charges</th>\n",
       "      <th>gender_Male</th>\n",
       "      <th>partner_Yes</th>\n",
       "      <th>dependents_Yes</th>\n",
       "      <th>phone_service_Yes</th>\n",
       "      <th>multiple_lines_No phone service</th>\n",
       "      <th>multiple_lines_Yes</th>\n",
       "      <th>...</th>\n",
       "      <th>streaming_movies_No internet service</th>\n",
       "      <th>streaming_movies_Yes</th>\n",
       "      <th>paperless_billing_Yes</th>\n",
       "      <th>contract_type_One year</th>\n",
       "      <th>contract_type_Two year</th>\n",
       "      <th>internet_service_type_Fiber optic</th>\n",
       "      <th>internet_service_type_neither</th>\n",
       "      <th>payment_type_Credit card (automatic)</th>\n",
       "      <th>payment_type_Electronic check</th>\n",
       "      <th>payment_type_Mailed check</th>\n",
       "    </tr>\n",
       "    <tr>\n",
       "      <th>customer_id</th>\n",
       "      <th></th>\n",
       "      <th></th>\n",
       "      <th></th>\n",
       "      <th></th>\n",
       "      <th></th>\n",
       "      <th></th>\n",
       "      <th></th>\n",
       "      <th></th>\n",
       "      <th></th>\n",
       "      <th></th>\n",
       "      <th></th>\n",
       "      <th></th>\n",
       "      <th></th>\n",
       "      <th></th>\n",
       "      <th></th>\n",
       "      <th></th>\n",
       "      <th></th>\n",
       "      <th></th>\n",
       "      <th></th>\n",
       "      <th></th>\n",
       "      <th></th>\n",
       "    </tr>\n",
       "  </thead>\n",
       "  <tbody>\n",
       "    <tr>\n",
       "      <th>0486-LGCCH</th>\n",
       "      <td>0</td>\n",
       "      <td>11</td>\n",
       "      <td>19.65</td>\n",
       "      <td>225.75</td>\n",
       "      <td>1</td>\n",
       "      <td>1</td>\n",
       "      <td>1</td>\n",
       "      <td>1</td>\n",
       "      <td>0</td>\n",
       "      <td>0</td>\n",
       "      <td>...</td>\n",
       "      <td>1</td>\n",
       "      <td>0</td>\n",
       "      <td>0</td>\n",
       "      <td>0</td>\n",
       "      <td>1</td>\n",
       "      <td>0</td>\n",
       "      <td>1</td>\n",
       "      <td>0</td>\n",
       "      <td>0</td>\n",
       "      <td>1</td>\n",
       "    </tr>\n",
       "    <tr>\n",
       "      <th>8436-BJUMM</th>\n",
       "      <td>0</td>\n",
       "      <td>26</td>\n",
       "      <td>83.75</td>\n",
       "      <td>2070.60</td>\n",
       "      <td>1</td>\n",
       "      <td>1</td>\n",
       "      <td>1</td>\n",
       "      <td>1</td>\n",
       "      <td>0</td>\n",
       "      <td>1</td>\n",
       "      <td>...</td>\n",
       "      <td>0</td>\n",
       "      <td>0</td>\n",
       "      <td>1</td>\n",
       "      <td>0</td>\n",
       "      <td>0</td>\n",
       "      <td>1</td>\n",
       "      <td>0</td>\n",
       "      <td>0</td>\n",
       "      <td>1</td>\n",
       "      <td>0</td>\n",
       "    </tr>\n",
       "    <tr>\n",
       "      <th>7816-VGHTO</th>\n",
       "      <td>0</td>\n",
       "      <td>6</td>\n",
       "      <td>40.55</td>\n",
       "      <td>217.50</td>\n",
       "      <td>0</td>\n",
       "      <td>1</td>\n",
       "      <td>1</td>\n",
       "      <td>0</td>\n",
       "      <td>1</td>\n",
       "      <td>0</td>\n",
       "      <td>...</td>\n",
       "      <td>0</td>\n",
       "      <td>0</td>\n",
       "      <td>0</td>\n",
       "      <td>0</td>\n",
       "      <td>1</td>\n",
       "      <td>0</td>\n",
       "      <td>0</td>\n",
       "      <td>0</td>\n",
       "      <td>0</td>\n",
       "      <td>1</td>\n",
       "    </tr>\n",
       "  </tbody>\n",
       "</table>\n",
       "<p>3 rows × 30 columns</p>\n",
       "</div>"
      ],
      "text/plain": [
       "             senior_citizen  tenure  monthly_charges  total_charges  \\\n",
       "customer_id                                                           \n",
       "0486-LGCCH                0      11            19.65         225.75   \n",
       "8436-BJUMM                0      26            83.75        2070.60   \n",
       "7816-VGHTO                0       6            40.55         217.50   \n",
       "\n",
       "             gender_Male  partner_Yes  dependents_Yes  phone_service_Yes  \\\n",
       "customer_id                                                                \n",
       "0486-LGCCH             1            1               1                  1   \n",
       "8436-BJUMM             1            1               1                  1   \n",
       "7816-VGHTO             0            1               1                  0   \n",
       "\n",
       "             multiple_lines_No phone service  multiple_lines_Yes  ...  \\\n",
       "customer_id                                                       ...   \n",
       "0486-LGCCH                                 0                   0  ...   \n",
       "8436-BJUMM                                 0                   1  ...   \n",
       "7816-VGHTO                                 1                   0  ...   \n",
       "\n",
       "             streaming_movies_No internet service  streaming_movies_Yes  \\\n",
       "customer_id                                                               \n",
       "0486-LGCCH                                      1                     0   \n",
       "8436-BJUMM                                      0                     0   \n",
       "7816-VGHTO                                      0                     0   \n",
       "\n",
       "             paperless_billing_Yes  contract_type_One year  \\\n",
       "customer_id                                                  \n",
       "0486-LGCCH                       0                       0   \n",
       "8436-BJUMM                       1                       0   \n",
       "7816-VGHTO                       0                       0   \n",
       "\n",
       "             contract_type_Two year  internet_service_type_Fiber optic  \\\n",
       "customer_id                                                              \n",
       "0486-LGCCH                        1                                  0   \n",
       "8436-BJUMM                        0                                  1   \n",
       "7816-VGHTO                        1                                  0   \n",
       "\n",
       "             internet_service_type_neither  \\\n",
       "customer_id                                  \n",
       "0486-LGCCH                               1   \n",
       "8436-BJUMM                               0   \n",
       "7816-VGHTO                               0   \n",
       "\n",
       "             payment_type_Credit card (automatic)  \\\n",
       "customer_id                                         \n",
       "0486-LGCCH                                      0   \n",
       "8436-BJUMM                                      0   \n",
       "7816-VGHTO                                      0   \n",
       "\n",
       "             payment_type_Electronic check  payment_type_Mailed check  \n",
       "customer_id                                                            \n",
       "0486-LGCCH                               0                          1  \n",
       "8436-BJUMM                               1                          0  \n",
       "7816-VGHTO                               0                          1  \n",
       "\n",
       "[3 rows x 30 columns]"
      ]
     },
     "execution_count": 27,
     "metadata": {},
     "output_type": "execute_result"
    }
   ],
   "source": [
    "X_validate.head(3)"
   ]
  },
  {
   "cell_type": "code",
   "execution_count": 28,
   "id": "f75be0e7",
   "metadata": {},
   "outputs": [
    {
     "data": {
      "text/plain": [
       "customer_id\n",
       "0486-LGCCH    0\n",
       "8436-BJUMM    1\n",
       "7816-VGHTO    0\n",
       "Name: churn_Yes, dtype: int64"
      ]
     },
     "execution_count": 28,
     "metadata": {},
     "output_type": "execute_result"
    }
   ],
   "source": [
    "y_validate.head(3)"
   ]
  },
  {
   "cell_type": "markdown",
   "id": "ea4bcf91",
   "metadata": {},
   "source": [
    "# Baseline: Before i am going through all these models, i will figure out the baseline for train data which can be referenced to each encoded split.\n",
    "\n"
   ]
  },
  {
   "cell_type": "code",
   "execution_count": 29,
   "id": "c3734341",
   "metadata": {},
   "outputs": [
    {
     "data": {
      "text/plain": [
       "churn_Yes\n",
       "0    3104\n",
       "1    1121\n",
       "Name: count, dtype: int64"
      ]
     },
     "execution_count": 29,
     "metadata": {},
     "output_type": "execute_result"
    }
   ],
   "source": [
    "# i am going to find the baseline of churn\n",
    "y_train.value_counts()"
   ]
  },
  {
   "cell_type": "code",
   "execution_count": 30,
   "id": "2d299cbc",
   "metadata": {},
   "outputs": [
    {
     "data": {
      "text/plain": [
       "0    0\n",
       "Name: churn_Yes, dtype: int64"
      ]
     },
     "execution_count": 30,
     "metadata": {},
     "output_type": "execute_result"
    }
   ],
   "source": [
    "# i am going to find the baseline of churn\n",
    "y_train.mode()"
   ]
  },
  {
   "cell_type": "code",
   "execution_count": 31,
   "id": "242fcc90",
   "metadata": {},
   "outputs": [
    {
     "data": {
      "text/plain": [
       "0.7346745562130178"
      ]
     },
     "execution_count": 31,
     "metadata": {},
     "output_type": "execute_result"
    }
   ],
   "source": [
    "# code way, the baseline accuracy\n",
    "y_train.value_counts(normalize=True)[0]"
   ]
  },
  {
   "cell_type": "markdown",
   "id": "34a3e915",
   "metadata": {},
   "source": [
    "# Modeling\n",
    "\n",
    "* Baseline accuracy for 'no churn' from train dataframe is 0.7346745562130178.\n",
    "* 'no churn' makeup 73% of the data.\n",
    "* by guessing 'no churn' for every customer  could achieve an accuracy of 73%. \n",
    "* 73% will be the baseline accuracy I use for this project.\n",
    "* I will be evaluating models developed using three different model types and various hyperparameter    configurations. \n",
    "* Models will be evaluated on train and validate data.\n",
    "* The model that performs the best will then be evaluated on test data.\n"
   ]
  },
  {
   "cell_type": "markdown",
   "id": "f2989aae",
   "metadata": {},
   "source": [
    "## Model 1 for Decision Tree Algorithm "
   ]
  },
  {
   "cell_type": "code",
   "execution_count": 32,
   "id": "551a4240",
   "metadata": {},
   "outputs": [
    {
     "name": "stdout",
     "output_type": "stream",
     "text": [
      "Accuracy of Decision Tree on train data is 0.8023668639053254\n",
      "Accuracy of Decision Tree on validate data is 0.7927608232789212\n"
     ]
    }
   ],
   "source": [
    "m.get_tree(X_train, X_validate, y_train, y_validate)"
   ]
  },
  {
   "cell_type": "markdown",
   "id": "049f38c9",
   "metadata": {},
   "source": [
    "## Model 2 for Random forest algorithm "
   ]
  },
  {
   "cell_type": "code",
   "execution_count": 33,
   "id": "f51ab4f4",
   "metadata": {},
   "outputs": [
    {
     "name": "stdout",
     "output_type": "stream",
     "text": [
      "Accuracy of Random Forest on train is 0.8068639053254438\n",
      "Accuracy of Random Forest on validate is 0.7991483321504613\n"
     ]
    }
   ],
   "source": [
    "m.get_forest(X_train, X_validate, y_train, y_validate)"
   ]
  },
  {
   "cell_type": "markdown",
   "id": "177b601f",
   "metadata": {},
   "source": [
    "## Model 3 for logistic Regression algorithm"
   ]
  },
  {
   "cell_type": "code",
   "execution_count": 34,
   "id": "b97617e9",
   "metadata": {},
   "outputs": [
    {
     "name": "stdout",
     "output_type": "stream",
     "text": [
      "Accuracy of Logistic Regression on train is 0.8040236686390533\n",
      "Accuracy of Logistic Regression on validate is 0.8034066713981547\n"
     ]
    },
    {
     "name": "stderr",
     "output_type": "stream",
     "text": [
      "/opt/homebrew/anaconda3/lib/python3.11/site-packages/sklearn/linear_model/_logistic.py:460: ConvergenceWarning: lbfgs failed to converge (status=1):\n",
      "STOP: TOTAL NO. of ITERATIONS REACHED LIMIT.\n",
      "\n",
      "Increase the number of iterations (max_iter) or scale the data as shown in:\n",
      "    https://scikit-learn.org/stable/modules/preprocessing.html\n",
      "Please also refer to the documentation for alternative solver options:\n",
      "    https://scikit-learn.org/stable/modules/linear_model.html#logistic-regression\n",
      "  n_iter_i = _check_optimize_result(\n"
     ]
    }
   ],
   "source": [
    "m.get_log_reg(X_train, X_validate, y_train, y_validate)"
   ]
  },
  {
   "cell_type": "markdown",
   "id": "977429d6",
   "metadata": {},
   "source": [
    "## Comparing Models \n",
    "- Decision Tree, Random Forest, and Logistic Regression models all performed about equal to baseline on train and validate.\n",
    "\n",
    "- Decision Tree is overfitted,and Random forest is better on train but it slightly overfitted as compare to validate data.  \n",
    "\n",
    "- The logistic regression model performed better on train data and  it is neither over or under fitted.\n",
    "\n",
    "- Because the results of the Decision Tree, Random Forest, and Logistic Regression models were all very similar I   could proceed to test with model of algorithm logistic regression.\n",
    "\n",
    "* I have chosen to move forward with the logistic regression model.\n"
   ]
  },
  {
   "cell_type": "markdown",
   "id": "2ceafdf2",
   "metadata": {},
   "source": [
    "## model with logistic regression algo  apply on  test data"
   ]
  },
  {
   "cell_type": "code",
   "execution_count": 35,
   "id": "dca721b0",
   "metadata": {},
   "outputs": [
    {
     "name": "stderr",
     "output_type": "stream",
     "text": [
      "/opt/homebrew/anaconda3/lib/python3.11/site-packages/sklearn/linear_model/_logistic.py:460: ConvergenceWarning: lbfgs failed to converge (status=1):\n",
      "STOP: TOTAL NO. of ITERATIONS REACHED LIMIT.\n",
      "\n",
      "Increase the number of iterations (max_iter) or scale the data as shown in:\n",
      "    https://scikit-learn.org/stable/modules/preprocessing.html\n",
      "Please also refer to the documentation for alternative solver options:\n",
      "    https://scikit-learn.org/stable/modules/linear_model.html#logistic-regression\n",
      "  n_iter_i = _check_optimize_result(\n"
     ]
    },
    {
     "data": {
      "text/html": [
       "<style>#sk-container-id-1 {color: black;}#sk-container-id-1 pre{padding: 0;}#sk-container-id-1 div.sk-toggleable {background-color: white;}#sk-container-id-1 label.sk-toggleable__label {cursor: pointer;display: block;width: 100%;margin-bottom: 0;padding: 0.3em;box-sizing: border-box;text-align: center;}#sk-container-id-1 label.sk-toggleable__label-arrow:before {content: \"▸\";float: left;margin-right: 0.25em;color: #696969;}#sk-container-id-1 label.sk-toggleable__label-arrow:hover:before {color: black;}#sk-container-id-1 div.sk-estimator:hover label.sk-toggleable__label-arrow:before {color: black;}#sk-container-id-1 div.sk-toggleable__content {max-height: 0;max-width: 0;overflow: hidden;text-align: left;background-color: #f0f8ff;}#sk-container-id-1 div.sk-toggleable__content pre {margin: 0.2em;color: black;border-radius: 0.25em;background-color: #f0f8ff;}#sk-container-id-1 input.sk-toggleable__control:checked~div.sk-toggleable__content {max-height: 200px;max-width: 100%;overflow: auto;}#sk-container-id-1 input.sk-toggleable__control:checked~label.sk-toggleable__label-arrow:before {content: \"▾\";}#sk-container-id-1 div.sk-estimator input.sk-toggleable__control:checked~label.sk-toggleable__label {background-color: #d4ebff;}#sk-container-id-1 div.sk-label input.sk-toggleable__control:checked~label.sk-toggleable__label {background-color: #d4ebff;}#sk-container-id-1 input.sk-hidden--visually {border: 0;clip: rect(1px 1px 1px 1px);clip: rect(1px, 1px, 1px, 1px);height: 1px;margin: -1px;overflow: hidden;padding: 0;position: absolute;width: 1px;}#sk-container-id-1 div.sk-estimator {font-family: monospace;background-color: #f0f8ff;border: 1px dotted black;border-radius: 0.25em;box-sizing: border-box;margin-bottom: 0.5em;}#sk-container-id-1 div.sk-estimator:hover {background-color: #d4ebff;}#sk-container-id-1 div.sk-parallel-item::after {content: \"\";width: 100%;border-bottom: 1px solid gray;flex-grow: 1;}#sk-container-id-1 div.sk-label:hover label.sk-toggleable__label {background-color: #d4ebff;}#sk-container-id-1 div.sk-serial::before {content: \"\";position: absolute;border-left: 1px solid gray;box-sizing: border-box;top: 0;bottom: 0;left: 50%;z-index: 0;}#sk-container-id-1 div.sk-serial {display: flex;flex-direction: column;align-items: center;background-color: white;padding-right: 0.2em;padding-left: 0.2em;position: relative;}#sk-container-id-1 div.sk-item {position: relative;z-index: 1;}#sk-container-id-1 div.sk-parallel {display: flex;align-items: stretch;justify-content: center;background-color: white;position: relative;}#sk-container-id-1 div.sk-item::before, #sk-container-id-1 div.sk-parallel-item::before {content: \"\";position: absolute;border-left: 1px solid gray;box-sizing: border-box;top: 0;bottom: 0;left: 50%;z-index: -1;}#sk-container-id-1 div.sk-parallel-item {display: flex;flex-direction: column;z-index: 1;position: relative;background-color: white;}#sk-container-id-1 div.sk-parallel-item:first-child::after {align-self: flex-end;width: 50%;}#sk-container-id-1 div.sk-parallel-item:last-child::after {align-self: flex-start;width: 50%;}#sk-container-id-1 div.sk-parallel-item:only-child::after {width: 0;}#sk-container-id-1 div.sk-dashed-wrapped {border: 1px dashed gray;margin: 0 0.4em 0.5em 0.4em;box-sizing: border-box;padding-bottom: 0.4em;background-color: white;}#sk-container-id-1 div.sk-label label {font-family: monospace;font-weight: bold;display: inline-block;line-height: 1.2em;}#sk-container-id-1 div.sk-label-container {text-align: center;}#sk-container-id-1 div.sk-container {/* jupyter's `normalize.less` sets `[hidden] { display: none; }` but bootstrap.min.css set `[hidden] { display: none !important; }` so we also need the `!important` here to be able to override the default hidden behavior on the sphinx rendered scikit-learn.org. See: https://github.com/scikit-learn/scikit-learn/issues/21755 */display: inline-block !important;position: relative;}#sk-container-id-1 div.sk-text-repr-fallback {display: none;}</style><div id=\"sk-container-id-1\" class=\"sk-top-container\"><div class=\"sk-text-repr-fallback\"><pre>LogisticRegression(C=1, random_state=123)</pre><b>In a Jupyter environment, please rerun this cell to show the HTML representation or trust the notebook. <br />On GitHub, the HTML representation is unable to render, please try loading this page with nbviewer.org.</b></div><div class=\"sk-container\" hidden><div class=\"sk-item\"><div class=\"sk-estimator sk-toggleable\"><input class=\"sk-toggleable__control sk-hidden--visually\" id=\"sk-estimator-id-1\" type=\"checkbox\" checked><label for=\"sk-estimator-id-1\" class=\"sk-toggleable__label sk-toggleable__label-arrow\">LogisticRegression</label><div class=\"sk-toggleable__content\"><pre>LogisticRegression(C=1, random_state=123)</pre></div></div></div></div></div>"
      ],
      "text/plain": [
       "LogisticRegression(C=1, random_state=123)"
      ]
     },
     "execution_count": 35,
     "metadata": {},
     "output_type": "execute_result"
    }
   ],
   "source": [
    "lr= LogisticRegression(C=1,random_state=123)\n",
    "lr.fit(X_train, y_train)\n"
   ]
  },
  {
   "cell_type": "code",
   "execution_count": 36,
   "id": "658e2bb3",
   "metadata": {},
   "outputs": [
    {
     "data": {
      "text/plain": [
       "0.8019872249822569"
      ]
     },
     "execution_count": 36,
     "metadata": {},
     "output_type": "execute_result"
    }
   ],
   "source": [
    "acc_test=lr.score(X_test,y_test)\n",
    "acc_test"
   ]
  },
  {
   "cell_type": "code",
   "execution_count": 37,
   "id": "7b1d577c",
   "metadata": {},
   "outputs": [
    {
     "data": {
      "text/plain": [
       "array([0, 0, 1, ..., 0, 0, 0])"
      ]
     },
     "execution_count": 37,
     "metadata": {},
     "output_type": "execute_result"
    }
   ],
   "source": [
    "# predicted values from X_test\n",
    "y_pred=lr.predict(X_test)\n",
    "y_pred"
   ]
  },
  {
   "cell_type": "code",
   "execution_count": 38,
   "id": "ae319f1b",
   "metadata": {},
   "outputs": [
    {
     "data": {
      "text/plain": [
       "array([[0.90025678, 0.09974322],\n",
       "       [0.98756494, 0.01243506],\n",
       "       [0.4697977 , 0.5302023 ],\n",
       "       ...,\n",
       "       [0.70694159, 0.29305841],\n",
       "       [0.9761163 , 0.0238837 ],\n",
       "       [0.97447751, 0.02552249]])"
      ]
     },
     "execution_count": 38,
     "metadata": {},
     "output_type": "execute_result"
    }
   ],
   "source": [
    "# predicted probabilities from X_test\n",
    "y_proba=lr.predict_proba(X_test)\n",
    "y_proba"
   ]
  },
  {
   "cell_type": "code",
   "execution_count": 39,
   "id": "1e63c8fe",
   "metadata": {},
   "outputs": [
    {
     "name": "stdout",
     "output_type": "stream",
     "text": [
      "accuracy of logistic regression on test data: 0.8019872249822569\n"
     ]
    }
   ],
   "source": [
    "acc_test=lr.score(X_test,y_test)\n",
    "print(f'accuracy of logistic regression on test data: {acc_test}')"
   ]
  },
  {
   "cell_type": "markdown",
   "id": "69b77038",
   "metadata": {},
   "source": [
    "## Modeling Summary\n",
    "\n",
    "* Decision Tree, Random Forest, and Logistic Regression models all performed about equal to baseline on train and validate.\n",
    "* The Random Forest model performed slightly better on train data but slightly overfitted on validate data. It is slightly overfit.\n",
    "* A Logistic Regression model selected as the final model and had an accuracy of about 80% which is higher than baseline accuracy 73% as compare to others models."
   ]
  },
  {
   "cell_type": "markdown",
   "id": "e6c23c77",
   "metadata": {},
   "source": [
    "## prediction csv file on test dataset"
   ]
  },
  {
   "cell_type": "code",
   "execution_count": 40,
   "id": "bcdcf536",
   "metadata": {},
   "outputs": [
    {
     "data": {
      "text/plain": [
       "[0.09974322293601806,\n",
       " 0.012435061416363481,\n",
       " 0.5302022971586398,\n",
       " 0.051665255681008805,\n",
       " 0.22136026782396284,\n",
       " 0.07802921177171902,\n",
       " 0.027420222215197278,\n",
       " 0.49465185692603214,\n",
       " 0.19748607413277125,\n",
       " 0.6532867338642788]"
      ]
     },
     "execution_count": 40,
     "metadata": {},
     "output_type": "execute_result"
    }
   ],
   "source": [
    "probs_churn=[]\n",
    "for item in y_proba:\n",
    "    probs_churn.append(item[1])\n",
    "probs_churn[:10]"
   ]
  },
  {
   "cell_type": "code",
   "execution_count": 41,
   "id": "22c23b63",
   "metadata": {},
   "outputs": [],
   "source": [
    "X_test['probability_of_churn']=probs_churn"
   ]
  },
  {
   "cell_type": "code",
   "execution_count": 42,
   "id": "e65e2041",
   "metadata": {},
   "outputs": [
    {
     "data": {
      "text/html": [
       "<div>\n",
       "<style scoped>\n",
       "    .dataframe tbody tr th:only-of-type {\n",
       "        vertical-align: middle;\n",
       "    }\n",
       "\n",
       "    .dataframe tbody tr th {\n",
       "        vertical-align: top;\n",
       "    }\n",
       "\n",
       "    .dataframe thead th {\n",
       "        text-align: right;\n",
       "    }\n",
       "</style>\n",
       "<table border=\"1\" class=\"dataframe\">\n",
       "  <thead>\n",
       "    <tr style=\"text-align: right;\">\n",
       "      <th></th>\n",
       "      <th>senior_citizen</th>\n",
       "      <th>tenure</th>\n",
       "      <th>monthly_charges</th>\n",
       "      <th>total_charges</th>\n",
       "      <th>gender_Male</th>\n",
       "      <th>partner_Yes</th>\n",
       "      <th>dependents_Yes</th>\n",
       "      <th>phone_service_Yes</th>\n",
       "      <th>multiple_lines_No phone service</th>\n",
       "      <th>multiple_lines_Yes</th>\n",
       "      <th>...</th>\n",
       "      <th>streaming_movies_Yes</th>\n",
       "      <th>paperless_billing_Yes</th>\n",
       "      <th>contract_type_One year</th>\n",
       "      <th>contract_type_Two year</th>\n",
       "      <th>internet_service_type_Fiber optic</th>\n",
       "      <th>internet_service_type_neither</th>\n",
       "      <th>payment_type_Credit card (automatic)</th>\n",
       "      <th>payment_type_Electronic check</th>\n",
       "      <th>payment_type_Mailed check</th>\n",
       "      <th>probability_of_churn</th>\n",
       "    </tr>\n",
       "    <tr>\n",
       "      <th>customer_id</th>\n",
       "      <th></th>\n",
       "      <th></th>\n",
       "      <th></th>\n",
       "      <th></th>\n",
       "      <th></th>\n",
       "      <th></th>\n",
       "      <th></th>\n",
       "      <th></th>\n",
       "      <th></th>\n",
       "      <th></th>\n",
       "      <th></th>\n",
       "      <th></th>\n",
       "      <th></th>\n",
       "      <th></th>\n",
       "      <th></th>\n",
       "      <th></th>\n",
       "      <th></th>\n",
       "      <th></th>\n",
       "      <th></th>\n",
       "      <th></th>\n",
       "      <th></th>\n",
       "    </tr>\n",
       "  </thead>\n",
       "  <tbody>\n",
       "    <tr>\n",
       "      <th>6941-KXRRV</th>\n",
       "      <td>1</td>\n",
       "      <td>48</td>\n",
       "      <td>58.95</td>\n",
       "      <td>2789.7</td>\n",
       "      <td>0</td>\n",
       "      <td>1</td>\n",
       "      <td>0</td>\n",
       "      <td>1</td>\n",
       "      <td>0</td>\n",
       "      <td>0</td>\n",
       "      <td>...</td>\n",
       "      <td>1</td>\n",
       "      <td>1</td>\n",
       "      <td>1</td>\n",
       "      <td>0</td>\n",
       "      <td>0</td>\n",
       "      <td>0</td>\n",
       "      <td>0</td>\n",
       "      <td>0</td>\n",
       "      <td>0</td>\n",
       "      <td>0.099743</td>\n",
       "    </tr>\n",
       "    <tr>\n",
       "      <th>0206-OYVOC</th>\n",
       "      <td>0</td>\n",
       "      <td>46</td>\n",
       "      <td>19.25</td>\n",
       "      <td>864.2</td>\n",
       "      <td>0</td>\n",
       "      <td>1</td>\n",
       "      <td>1</td>\n",
       "      <td>1</td>\n",
       "      <td>0</td>\n",
       "      <td>0</td>\n",
       "      <td>...</td>\n",
       "      <td>0</td>\n",
       "      <td>1</td>\n",
       "      <td>0</td>\n",
       "      <td>1</td>\n",
       "      <td>0</td>\n",
       "      <td>1</td>\n",
       "      <td>0</td>\n",
       "      <td>0</td>\n",
       "      <td>1</td>\n",
       "      <td>0.012435</td>\n",
       "    </tr>\n",
       "    <tr>\n",
       "      <th>7442-YGZFK</th>\n",
       "      <td>0</td>\n",
       "      <td>1</td>\n",
       "      <td>49.80</td>\n",
       "      <td>49.8</td>\n",
       "      <td>1</td>\n",
       "      <td>0</td>\n",
       "      <td>0</td>\n",
       "      <td>1</td>\n",
       "      <td>0</td>\n",
       "      <td>1</td>\n",
       "      <td>...</td>\n",
       "      <td>0</td>\n",
       "      <td>1</td>\n",
       "      <td>0</td>\n",
       "      <td>0</td>\n",
       "      <td>0</td>\n",
       "      <td>0</td>\n",
       "      <td>1</td>\n",
       "      <td>0</td>\n",
       "      <td>0</td>\n",
       "      <td>0.530202</td>\n",
       "    </tr>\n",
       "  </tbody>\n",
       "</table>\n",
       "<p>3 rows × 31 columns</p>\n",
       "</div>"
      ],
      "text/plain": [
       "             senior_citizen  tenure  monthly_charges  total_charges  \\\n",
       "customer_id                                                           \n",
       "6941-KXRRV                1      48            58.95         2789.7   \n",
       "0206-OYVOC                0      46            19.25          864.2   \n",
       "7442-YGZFK                0       1            49.80           49.8   \n",
       "\n",
       "             gender_Male  partner_Yes  dependents_Yes  phone_service_Yes  \\\n",
       "customer_id                                                                \n",
       "6941-KXRRV             0            1               0                  1   \n",
       "0206-OYVOC             0            1               1                  1   \n",
       "7442-YGZFK             1            0               0                  1   \n",
       "\n",
       "             multiple_lines_No phone service  multiple_lines_Yes  ...  \\\n",
       "customer_id                                                       ...   \n",
       "6941-KXRRV                                 0                   0  ...   \n",
       "0206-OYVOC                                 0                   0  ...   \n",
       "7442-YGZFK                                 0                   1  ...   \n",
       "\n",
       "             streaming_movies_Yes  paperless_billing_Yes  \\\n",
       "customer_id                                                \n",
       "6941-KXRRV                      1                      1   \n",
       "0206-OYVOC                      0                      1   \n",
       "7442-YGZFK                      0                      1   \n",
       "\n",
       "             contract_type_One year  contract_type_Two year  \\\n",
       "customer_id                                                   \n",
       "6941-KXRRV                        1                       0   \n",
       "0206-OYVOC                        0                       1   \n",
       "7442-YGZFK                        0                       0   \n",
       "\n",
       "             internet_service_type_Fiber optic  internet_service_type_neither  \\\n",
       "customer_id                                                                     \n",
       "6941-KXRRV                                   0                              0   \n",
       "0206-OYVOC                                   0                              1   \n",
       "7442-YGZFK                                   0                              0   \n",
       "\n",
       "             payment_type_Credit card (automatic)  \\\n",
       "customer_id                                         \n",
       "6941-KXRRV                                      0   \n",
       "0206-OYVOC                                      0   \n",
       "7442-YGZFK                                      1   \n",
       "\n",
       "             payment_type_Electronic check  payment_type_Mailed check  \\\n",
       "customer_id                                                             \n",
       "6941-KXRRV                               0                          0   \n",
       "0206-OYVOC                               0                          1   \n",
       "7442-YGZFK                               0                          0   \n",
       "\n",
       "             probability_of_churn  \n",
       "customer_id                        \n",
       "6941-KXRRV               0.099743  \n",
       "0206-OYVOC               0.012435  \n",
       "7442-YGZFK               0.530202  \n",
       "\n",
       "[3 rows x 31 columns]"
      ]
     },
     "execution_count": 42,
     "metadata": {},
     "output_type": "execute_result"
    }
   ],
   "source": [
    "X_test.head(3)"
   ]
  },
  {
   "cell_type": "code",
   "execution_count": 43,
   "id": "ffd96fc0",
   "metadata": {},
   "outputs": [],
   "source": [
    "X_test['churn_predict']=y_pred"
   ]
  },
  {
   "cell_type": "code",
   "execution_count": 44,
   "id": "ce708390",
   "metadata": {},
   "outputs": [
    {
     "data": {
      "text/html": [
       "<div>\n",
       "<style scoped>\n",
       "    .dataframe tbody tr th:only-of-type {\n",
       "        vertical-align: middle;\n",
       "    }\n",
       "\n",
       "    .dataframe tbody tr th {\n",
       "        vertical-align: top;\n",
       "    }\n",
       "\n",
       "    .dataframe thead th {\n",
       "        text-align: right;\n",
       "    }\n",
       "</style>\n",
       "<table border=\"1\" class=\"dataframe\">\n",
       "  <thead>\n",
       "    <tr style=\"text-align: right;\">\n",
       "      <th></th>\n",
       "      <th>senior_citizen</th>\n",
       "      <th>tenure</th>\n",
       "      <th>monthly_charges</th>\n",
       "      <th>total_charges</th>\n",
       "      <th>gender_Male</th>\n",
       "      <th>partner_Yes</th>\n",
       "      <th>dependents_Yes</th>\n",
       "      <th>phone_service_Yes</th>\n",
       "      <th>multiple_lines_No phone service</th>\n",
       "      <th>multiple_lines_Yes</th>\n",
       "      <th>...</th>\n",
       "      <th>paperless_billing_Yes</th>\n",
       "      <th>contract_type_One year</th>\n",
       "      <th>contract_type_Two year</th>\n",
       "      <th>internet_service_type_Fiber optic</th>\n",
       "      <th>internet_service_type_neither</th>\n",
       "      <th>payment_type_Credit card (automatic)</th>\n",
       "      <th>payment_type_Electronic check</th>\n",
       "      <th>payment_type_Mailed check</th>\n",
       "      <th>probability_of_churn</th>\n",
       "      <th>churn_predict</th>\n",
       "    </tr>\n",
       "    <tr>\n",
       "      <th>customer_id</th>\n",
       "      <th></th>\n",
       "      <th></th>\n",
       "      <th></th>\n",
       "      <th></th>\n",
       "      <th></th>\n",
       "      <th></th>\n",
       "      <th></th>\n",
       "      <th></th>\n",
       "      <th></th>\n",
       "      <th></th>\n",
       "      <th></th>\n",
       "      <th></th>\n",
       "      <th></th>\n",
       "      <th></th>\n",
       "      <th></th>\n",
       "      <th></th>\n",
       "      <th></th>\n",
       "      <th></th>\n",
       "      <th></th>\n",
       "      <th></th>\n",
       "      <th></th>\n",
       "    </tr>\n",
       "  </thead>\n",
       "  <tbody>\n",
       "    <tr>\n",
       "      <th>6941-KXRRV</th>\n",
       "      <td>1</td>\n",
       "      <td>48</td>\n",
       "      <td>58.95</td>\n",
       "      <td>2789.7</td>\n",
       "      <td>0</td>\n",
       "      <td>1</td>\n",
       "      <td>0</td>\n",
       "      <td>1</td>\n",
       "      <td>0</td>\n",
       "      <td>0</td>\n",
       "      <td>...</td>\n",
       "      <td>1</td>\n",
       "      <td>1</td>\n",
       "      <td>0</td>\n",
       "      <td>0</td>\n",
       "      <td>0</td>\n",
       "      <td>0</td>\n",
       "      <td>0</td>\n",
       "      <td>0</td>\n",
       "      <td>0.099743</td>\n",
       "      <td>0</td>\n",
       "    </tr>\n",
       "    <tr>\n",
       "      <th>0206-OYVOC</th>\n",
       "      <td>0</td>\n",
       "      <td>46</td>\n",
       "      <td>19.25</td>\n",
       "      <td>864.2</td>\n",
       "      <td>0</td>\n",
       "      <td>1</td>\n",
       "      <td>1</td>\n",
       "      <td>1</td>\n",
       "      <td>0</td>\n",
       "      <td>0</td>\n",
       "      <td>...</td>\n",
       "      <td>1</td>\n",
       "      <td>0</td>\n",
       "      <td>1</td>\n",
       "      <td>0</td>\n",
       "      <td>1</td>\n",
       "      <td>0</td>\n",
       "      <td>0</td>\n",
       "      <td>1</td>\n",
       "      <td>0.012435</td>\n",
       "      <td>0</td>\n",
       "    </tr>\n",
       "    <tr>\n",
       "      <th>7442-YGZFK</th>\n",
       "      <td>0</td>\n",
       "      <td>1</td>\n",
       "      <td>49.80</td>\n",
       "      <td>49.8</td>\n",
       "      <td>1</td>\n",
       "      <td>0</td>\n",
       "      <td>0</td>\n",
       "      <td>1</td>\n",
       "      <td>0</td>\n",
       "      <td>1</td>\n",
       "      <td>...</td>\n",
       "      <td>1</td>\n",
       "      <td>0</td>\n",
       "      <td>0</td>\n",
       "      <td>0</td>\n",
       "      <td>0</td>\n",
       "      <td>1</td>\n",
       "      <td>0</td>\n",
       "      <td>0</td>\n",
       "      <td>0.530202</td>\n",
       "      <td>1</td>\n",
       "    </tr>\n",
       "  </tbody>\n",
       "</table>\n",
       "<p>3 rows × 32 columns</p>\n",
       "</div>"
      ],
      "text/plain": [
       "             senior_citizen  tenure  monthly_charges  total_charges  \\\n",
       "customer_id                                                           \n",
       "6941-KXRRV                1      48            58.95         2789.7   \n",
       "0206-OYVOC                0      46            19.25          864.2   \n",
       "7442-YGZFK                0       1            49.80           49.8   \n",
       "\n",
       "             gender_Male  partner_Yes  dependents_Yes  phone_service_Yes  \\\n",
       "customer_id                                                                \n",
       "6941-KXRRV             0            1               0                  1   \n",
       "0206-OYVOC             0            1               1                  1   \n",
       "7442-YGZFK             1            0               0                  1   \n",
       "\n",
       "             multiple_lines_No phone service  multiple_lines_Yes  ...  \\\n",
       "customer_id                                                       ...   \n",
       "6941-KXRRV                                 0                   0  ...   \n",
       "0206-OYVOC                                 0                   0  ...   \n",
       "7442-YGZFK                                 0                   1  ...   \n",
       "\n",
       "             paperless_billing_Yes  contract_type_One year  \\\n",
       "customer_id                                                  \n",
       "6941-KXRRV                       1                       1   \n",
       "0206-OYVOC                       1                       0   \n",
       "7442-YGZFK                       1                       0   \n",
       "\n",
       "             contract_type_Two year  internet_service_type_Fiber optic  \\\n",
       "customer_id                                                              \n",
       "6941-KXRRV                        0                                  0   \n",
       "0206-OYVOC                        1                                  0   \n",
       "7442-YGZFK                        0                                  0   \n",
       "\n",
       "             internet_service_type_neither  \\\n",
       "customer_id                                  \n",
       "6941-KXRRV                               0   \n",
       "0206-OYVOC                               1   \n",
       "7442-YGZFK                               0   \n",
       "\n",
       "             payment_type_Credit card (automatic)  \\\n",
       "customer_id                                         \n",
       "6941-KXRRV                                      0   \n",
       "0206-OYVOC                                      0   \n",
       "7442-YGZFK                                      1   \n",
       "\n",
       "             payment_type_Electronic check  payment_type_Mailed check  \\\n",
       "customer_id                                                             \n",
       "6941-KXRRV                               0                          0   \n",
       "0206-OYVOC                               0                          1   \n",
       "7442-YGZFK                               0                          0   \n",
       "\n",
       "             probability_of_churn  churn_predict  \n",
       "customer_id                                       \n",
       "6941-KXRRV               0.099743              0  \n",
       "0206-OYVOC               0.012435              0  \n",
       "7442-YGZFK               0.530202              1  \n",
       "\n",
       "[3 rows x 32 columns]"
      ]
     },
     "execution_count": 44,
     "metadata": {},
     "output_type": "execute_result"
    }
   ],
   "source": [
    "X_test.head(3)"
   ]
  },
  {
   "cell_type": "code",
   "execution_count": 45,
   "id": "90e8528d",
   "metadata": {},
   "outputs": [
    {
     "data": {
      "text/html": [
       "<div>\n",
       "<style scoped>\n",
       "    .dataframe tbody tr th:only-of-type {\n",
       "        vertical-align: middle;\n",
       "    }\n",
       "\n",
       "    .dataframe tbody tr th {\n",
       "        vertical-align: top;\n",
       "    }\n",
       "\n",
       "    .dataframe thead th {\n",
       "        text-align: right;\n",
       "    }\n",
       "</style>\n",
       "<table border=\"1\" class=\"dataframe\">\n",
       "  <thead>\n",
       "    <tr style=\"text-align: right;\">\n",
       "      <th></th>\n",
       "      <th>customer_id</th>\n",
       "      <th>probability_of_churn</th>\n",
       "      <th>churn_predict</th>\n",
       "    </tr>\n",
       "  </thead>\n",
       "  <tbody>\n",
       "    <tr>\n",
       "      <th>0</th>\n",
       "      <td>6941-KXRRV</td>\n",
       "      <td>0.099743</td>\n",
       "      <td>0</td>\n",
       "    </tr>\n",
       "    <tr>\n",
       "      <th>1</th>\n",
       "      <td>0206-OYVOC</td>\n",
       "      <td>0.012435</td>\n",
       "      <td>0</td>\n",
       "    </tr>\n",
       "    <tr>\n",
       "      <th>2</th>\n",
       "      <td>7442-YGZFK</td>\n",
       "      <td>0.530202</td>\n",
       "      <td>1</td>\n",
       "    </tr>\n",
       "    <tr>\n",
       "      <th>3</th>\n",
       "      <td>9018-PCIOK</td>\n",
       "      <td>0.051665</td>\n",
       "      <td>0</td>\n",
       "    </tr>\n",
       "    <tr>\n",
       "      <th>4</th>\n",
       "      <td>1591-MQJTP</td>\n",
       "      <td>0.221360</td>\n",
       "      <td>0</td>\n",
       "    </tr>\n",
       "    <tr>\n",
       "      <th>...</th>\n",
       "      <td>...</td>\n",
       "      <td>...</td>\n",
       "      <td>...</td>\n",
       "    </tr>\n",
       "    <tr>\n",
       "      <th>1404</th>\n",
       "      <td>0378-CJKPV</td>\n",
       "      <td>0.050893</td>\n",
       "      <td>0</td>\n",
       "    </tr>\n",
       "    <tr>\n",
       "      <th>1405</th>\n",
       "      <td>3551-HUAZH</td>\n",
       "      <td>0.817284</td>\n",
       "      <td>1</td>\n",
       "    </tr>\n",
       "    <tr>\n",
       "      <th>1406</th>\n",
       "      <td>6322-PJJDJ</td>\n",
       "      <td>0.293058</td>\n",
       "      <td>0</td>\n",
       "    </tr>\n",
       "    <tr>\n",
       "      <th>1407</th>\n",
       "      <td>4227-OJHAL</td>\n",
       "      <td>0.023884</td>\n",
       "      <td>0</td>\n",
       "    </tr>\n",
       "    <tr>\n",
       "      <th>1408</th>\n",
       "      <td>6522-OIQSX</td>\n",
       "      <td>0.025522</td>\n",
       "      <td>0</td>\n",
       "    </tr>\n",
       "  </tbody>\n",
       "</table>\n",
       "<p>1409 rows × 3 columns</p>\n",
       "</div>"
      ],
      "text/plain": [
       "     customer_id  probability_of_churn  churn_predict\n",
       "0     6941-KXRRV              0.099743              0\n",
       "1     0206-OYVOC              0.012435              0\n",
       "2     7442-YGZFK              0.530202              1\n",
       "3     9018-PCIOK              0.051665              0\n",
       "4     1591-MQJTP              0.221360              0\n",
       "...          ...                   ...            ...\n",
       "1404  0378-CJKPV              0.050893              0\n",
       "1405  3551-HUAZH              0.817284              1\n",
       "1406  6322-PJJDJ              0.293058              0\n",
       "1407  4227-OJHAL              0.023884              0\n",
       "1408  6522-OIQSX              0.025522              0\n",
       "\n",
       "[1409 rows x 3 columns]"
      ]
     },
     "execution_count": 45,
     "metadata": {},
     "output_type": "execute_result"
    }
   ],
   "source": [
    "prediction_csv=X_test.reset_index()[['customer_id','probability_of_churn','churn_predict']]\n",
    "prediction_csv"
   ]
  },
  {
   "cell_type": "code",
   "execution_count": 46,
   "id": "3b6dc40b",
   "metadata": {},
   "outputs": [
    {
     "data": {
      "image/png": "[encoded data removed]",
      "text/plain": [
       "<Figure size 640x480 with 1 Axes>"
      ]
     },
     "metadata": {},
     "output_type": "display_data"
    }
   ],
   "source": [
    "# Scatter plot between 'probability of churn'  VS 'chrun predict'\n",
    "plt.scatter(prediction_csv.probability_of_churn,prediction_csv.churn_predict)\n",
    "plt.xlabel('churn_predict')\n",
    "plt.ylabel('probability_of_churn')\n",
    "plt.title('scatter plot between probability of churn VS chrun predict');"
   ]
  },
  {
   "cell_type": "code",
   "execution_count": 47,
   "id": "b9d34ae8",
   "metadata": {},
   "outputs": [],
   "source": [
    "# Read to csv file\n",
    "\n",
    "prediction_csv.to_csv('prediction_telco.csv')"
   ]
  },
  {
   "cell_type": "markdown",
   "id": "3b412de9",
   "metadata": {},
   "source": [
    "# Conclusions\n",
    "\n",
    "> ### Exploration\n",
    "\n",
    "* churn in Telco  occur in about baseline 73% (~3/4).\n",
    "* Customer with having phone_service,online_security,online_backup,device_protection,tech_support, is less churned.\n",
    "* Those customers whose sign up for only month-to-month contract, could high possible rate to churn.\n",
    "* The customer with high monthly charge is more likely to churn.\n",
    "* we have evidence to support that \"payment_type\" and \"churn\" are related. One particular type of payment method (Electronic check) shows a lot of customer churn. This might be due to some factor related to fees or delivery speed.\n",
    "\n",
    "\n",
    "> ### Modeling\n",
    "\n",
    "* The final model(logistic regression) success to significantly perform the baseline over the test dataset.\n",
    "* A Logistic Regression model selected as the final model and had an accuracy of about 80% which is higher than  baseline accuracy 73%.\n",
    " \n",
    ">### Recommendations\n",
    "\n",
    "* we might recommend and give attractive discount offer to customers for over a year, to prevent their churn rate is going high.\n",
    "\n",
    "* Will need to investigate further asking are these fees associated with each payment type or what are their delivery speeds or how thes are conveience to make a payment.\n",
    "\n",
    "* Identify high-risk tenure periods when churn rates tend to increase.Implement targeted retention campaigns during these phases, offering personalized support, exclusive benefits, or loyalty rewards to prevent churn.\n",
    "\n",
    "* communication to address concerns and improve service quality.\n",
    "\n",
    "* Implement continuous improvements in service quality, network coverage, or additional features that align with customer preferences like payment_type, contract_type, online security, tech supports e.t.c.\n",
    "\n",
    "\n",
    "\n",
    "> ### Next Steps\n",
    "\n",
    "* Remember, these steps are iterative, and revisiting earlier stages might be necessary to refine the model or address new findings.\n",
    "\n",
    "* Communication of results and actionable insights to stakeholders is also crucial for the success of the project.\n",
    "\n",
    " "
   ]
  },
  {
   "cell_type": "code",
   "execution_count": null,
   "id": "f2c5200a",
   "metadata": {},
   "outputs": [],
   "source": []
  },
  {
   "cell_type": "code",
   "execution_count": null,
   "id": "571a49dc",
   "metadata": {},
   "outputs": [],
   "source": []
  },
  {
   "cell_type": "code",
   "execution_count": null,
   "id": "f47998b8",
   "metadata": {},
   "outputs": [],
   "source": []
  }
 ],
 "metadata": {
  "kernelspec": {
   "display_name": "Python 3 (ipykernel)",
   "language": "python",
   "name": "python3"
  },
  "language_info": {
   "codemirror_mode": {
    "name": "ipython",
    "version": 3
   },
   "file_extension": ".py",
   "mimetype": "text/x-python",
   "name": "python",
   "nbconvert_exporter": "python",
   "pygments_lexer": "ipython3",
   "version": "3.11.5"
  }
 },
 "nbformat": 4,
 "nbformat_minor": 5
}
