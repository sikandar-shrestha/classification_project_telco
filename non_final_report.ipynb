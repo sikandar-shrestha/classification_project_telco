{
 "cells": [
  {
   "cell_type": "code",
   "execution_count": 1,
   "id": "12dc0ae7",
   "metadata": {},
   "outputs": [],
   "source": [
    "# custom modules for data prep:\n",
    "import acquire as a\n",
    "import prepare as p\n",
    "import model as m\n",
    "\n",
    "# tabular manipulation\n",
    "import numpy as np\n",
    "import pandas as pd\n",
    "\n",
    "\n",
    "#visualization\n",
    "import matplotlib.pyplot as plt\n",
    "import seaborn as sns\n",
    "\n",
    "#stats is great\n",
    "from scipy import stats\n",
    "\n",
    "\n",
    "# ML stuff:\n",
    "from sklearn.metrics import accuracy_score, confusion_matrix, classification_report,recall_score,\\\n",
    "precision_score, f1_score\n",
    "from sklearn.tree import DecisionTreeClassifier, \\\n",
    "export_text, plot_tree\n",
    "from sklearn.ensemble import RandomForestClassifier\n",
    "from sklearn.linear_model import LogisticRegression #logistic not linear!\n",
    "from sklearn.neighbors import KNeighborsClassifier #pick the classifier one"
   ]
  },
  {
   "cell_type": "code",
   "execution_count": 2,
   "id": "c6c4389d",
   "metadata": {},
   "outputs": [
    {
     "name": "stdout",
     "output_type": "stream",
     "text": [
      "this file exists, reading csv\n"
     ]
    }
   ],
   "source": [
    "df=a.get_telco_data()"
   ]
  },
  {
   "cell_type": "code",
   "execution_count": 3,
   "id": "883687cc",
   "metadata": {},
   "outputs": [
    {
     "data": {
      "text/html": [
       "<div>\n",
       "<style scoped>\n",
       "    .dataframe tbody tr th:only-of-type {\n",
       "        vertical-align: middle;\n",
       "    }\n",
       "\n",
       "    .dataframe tbody tr th {\n",
       "        vertical-align: top;\n",
       "    }\n",
       "\n",
       "    .dataframe thead th {\n",
       "        text-align: right;\n",
       "    }\n",
       "</style>\n",
       "<table border=\"1\" class=\"dataframe\">\n",
       "  <thead>\n",
       "    <tr style=\"text-align: right;\">\n",
       "      <th></th>\n",
       "      <th>gender</th>\n",
       "      <th>senior_citizen</th>\n",
       "      <th>partner</th>\n",
       "      <th>dependents</th>\n",
       "      <th>tenure</th>\n",
       "      <th>phone_service</th>\n",
       "      <th>multiple_lines</th>\n",
       "      <th>online_security</th>\n",
       "      <th>online_backup</th>\n",
       "      <th>device_protection</th>\n",
       "      <th>tech_support</th>\n",
       "      <th>streaming_tv</th>\n",
       "      <th>streaming_movies</th>\n",
       "      <th>paperless_billing</th>\n",
       "      <th>monthly_charges</th>\n",
       "      <th>total_charges</th>\n",
       "      <th>churn</th>\n",
       "      <th>contract_type</th>\n",
       "      <th>internet_service_type</th>\n",
       "      <th>payment_type</th>\n",
       "    </tr>\n",
       "    <tr>\n",
       "      <th>customer_id</th>\n",
       "      <th></th>\n",
       "      <th></th>\n",
       "      <th></th>\n",
       "      <th></th>\n",
       "      <th></th>\n",
       "      <th></th>\n",
       "      <th></th>\n",
       "      <th></th>\n",
       "      <th></th>\n",
       "      <th></th>\n",
       "      <th></th>\n",
       "      <th></th>\n",
       "      <th></th>\n",
       "      <th></th>\n",
       "      <th></th>\n",
       "      <th></th>\n",
       "      <th></th>\n",
       "      <th></th>\n",
       "      <th></th>\n",
       "      <th></th>\n",
       "    </tr>\n",
       "  </thead>\n",
       "  <tbody>\n",
       "    <tr>\n",
       "      <th>0002-ORFBO</th>\n",
       "      <td>Female</td>\n",
       "      <td>0</td>\n",
       "      <td>Yes</td>\n",
       "      <td>Yes</td>\n",
       "      <td>9</td>\n",
       "      <td>Yes</td>\n",
       "      <td>No</td>\n",
       "      <td>No</td>\n",
       "      <td>Yes</td>\n",
       "      <td>No</td>\n",
       "      <td>Yes</td>\n",
       "      <td>Yes</td>\n",
       "      <td>No</td>\n",
       "      <td>Yes</td>\n",
       "      <td>65.60</td>\n",
       "      <td>593.30</td>\n",
       "      <td>No</td>\n",
       "      <td>One year</td>\n",
       "      <td>DSL</td>\n",
       "      <td>Mailed check</td>\n",
       "    </tr>\n",
       "    <tr>\n",
       "      <th>0003-MKNFE</th>\n",
       "      <td>Male</td>\n",
       "      <td>0</td>\n",
       "      <td>No</td>\n",
       "      <td>No</td>\n",
       "      <td>9</td>\n",
       "      <td>Yes</td>\n",
       "      <td>Yes</td>\n",
       "      <td>No</td>\n",
       "      <td>No</td>\n",
       "      <td>No</td>\n",
       "      <td>No</td>\n",
       "      <td>No</td>\n",
       "      <td>Yes</td>\n",
       "      <td>No</td>\n",
       "      <td>59.90</td>\n",
       "      <td>542.40</td>\n",
       "      <td>No</td>\n",
       "      <td>Month-to-month</td>\n",
       "      <td>DSL</td>\n",
       "      <td>Mailed check</td>\n",
       "    </tr>\n",
       "    <tr>\n",
       "      <th>0004-TLHLJ</th>\n",
       "      <td>Male</td>\n",
       "      <td>0</td>\n",
       "      <td>No</td>\n",
       "      <td>No</td>\n",
       "      <td>4</td>\n",
       "      <td>Yes</td>\n",
       "      <td>No</td>\n",
       "      <td>No</td>\n",
       "      <td>No</td>\n",
       "      <td>Yes</td>\n",
       "      <td>No</td>\n",
       "      <td>No</td>\n",
       "      <td>No</td>\n",
       "      <td>Yes</td>\n",
       "      <td>73.90</td>\n",
       "      <td>280.85</td>\n",
       "      <td>Yes</td>\n",
       "      <td>Month-to-month</td>\n",
       "      <td>Fiber optic</td>\n",
       "      <td>Electronic check</td>\n",
       "    </tr>\n",
       "    <tr>\n",
       "      <th>0011-IGKFF</th>\n",
       "      <td>Male</td>\n",
       "      <td>1</td>\n",
       "      <td>Yes</td>\n",
       "      <td>No</td>\n",
       "      <td>13</td>\n",
       "      <td>Yes</td>\n",
       "      <td>No</td>\n",
       "      <td>No</td>\n",
       "      <td>Yes</td>\n",
       "      <td>Yes</td>\n",
       "      <td>No</td>\n",
       "      <td>Yes</td>\n",
       "      <td>Yes</td>\n",
       "      <td>Yes</td>\n",
       "      <td>98.00</td>\n",
       "      <td>1237.85</td>\n",
       "      <td>Yes</td>\n",
       "      <td>Month-to-month</td>\n",
       "      <td>Fiber optic</td>\n",
       "      <td>Electronic check</td>\n",
       "    </tr>\n",
       "    <tr>\n",
       "      <th>0013-EXCHZ</th>\n",
       "      <td>Female</td>\n",
       "      <td>1</td>\n",
       "      <td>Yes</td>\n",
       "      <td>No</td>\n",
       "      <td>3</td>\n",
       "      <td>Yes</td>\n",
       "      <td>No</td>\n",
       "      <td>No</td>\n",
       "      <td>No</td>\n",
       "      <td>No</td>\n",
       "      <td>Yes</td>\n",
       "      <td>Yes</td>\n",
       "      <td>No</td>\n",
       "      <td>Yes</td>\n",
       "      <td>83.90</td>\n",
       "      <td>267.40</td>\n",
       "      <td>Yes</td>\n",
       "      <td>Month-to-month</td>\n",
       "      <td>Fiber optic</td>\n",
       "      <td>Mailed check</td>\n",
       "    </tr>\n",
       "    <tr>\n",
       "      <th>...</th>\n",
       "      <td>...</td>\n",
       "      <td>...</td>\n",
       "      <td>...</td>\n",
       "      <td>...</td>\n",
       "      <td>...</td>\n",
       "      <td>...</td>\n",
       "      <td>...</td>\n",
       "      <td>...</td>\n",
       "      <td>...</td>\n",
       "      <td>...</td>\n",
       "      <td>...</td>\n",
       "      <td>...</td>\n",
       "      <td>...</td>\n",
       "      <td>...</td>\n",
       "      <td>...</td>\n",
       "      <td>...</td>\n",
       "      <td>...</td>\n",
       "      <td>...</td>\n",
       "      <td>...</td>\n",
       "      <td>...</td>\n",
       "    </tr>\n",
       "    <tr>\n",
       "      <th>9987-LUTYD</th>\n",
       "      <td>Female</td>\n",
       "      <td>0</td>\n",
       "      <td>No</td>\n",
       "      <td>No</td>\n",
       "      <td>13</td>\n",
       "      <td>Yes</td>\n",
       "      <td>No</td>\n",
       "      <td>Yes</td>\n",
       "      <td>No</td>\n",
       "      <td>No</td>\n",
       "      <td>Yes</td>\n",
       "      <td>No</td>\n",
       "      <td>No</td>\n",
       "      <td>No</td>\n",
       "      <td>55.15</td>\n",
       "      <td>742.90</td>\n",
       "      <td>No</td>\n",
       "      <td>One year</td>\n",
       "      <td>DSL</td>\n",
       "      <td>Mailed check</td>\n",
       "    </tr>\n",
       "    <tr>\n",
       "      <th>9992-RRAMN</th>\n",
       "      <td>Male</td>\n",
       "      <td>0</td>\n",
       "      <td>Yes</td>\n",
       "      <td>No</td>\n",
       "      <td>22</td>\n",
       "      <td>Yes</td>\n",
       "      <td>Yes</td>\n",
       "      <td>No</td>\n",
       "      <td>No</td>\n",
       "      <td>No</td>\n",
       "      <td>No</td>\n",
       "      <td>No</td>\n",
       "      <td>Yes</td>\n",
       "      <td>Yes</td>\n",
       "      <td>85.10</td>\n",
       "      <td>1873.70</td>\n",
       "      <td>Yes</td>\n",
       "      <td>Month-to-month</td>\n",
       "      <td>Fiber optic</td>\n",
       "      <td>Electronic check</td>\n",
       "    </tr>\n",
       "    <tr>\n",
       "      <th>9992-UJOEL</th>\n",
       "      <td>Male</td>\n",
       "      <td>0</td>\n",
       "      <td>No</td>\n",
       "      <td>No</td>\n",
       "      <td>2</td>\n",
       "      <td>Yes</td>\n",
       "      <td>No</td>\n",
       "      <td>No</td>\n",
       "      <td>Yes</td>\n",
       "      <td>No</td>\n",
       "      <td>No</td>\n",
       "      <td>No</td>\n",
       "      <td>No</td>\n",
       "      <td>Yes</td>\n",
       "      <td>50.30</td>\n",
       "      <td>92.75</td>\n",
       "      <td>No</td>\n",
       "      <td>Month-to-month</td>\n",
       "      <td>DSL</td>\n",
       "      <td>Mailed check</td>\n",
       "    </tr>\n",
       "    <tr>\n",
       "      <th>9993-LHIEB</th>\n",
       "      <td>Male</td>\n",
       "      <td>0</td>\n",
       "      <td>Yes</td>\n",
       "      <td>Yes</td>\n",
       "      <td>67</td>\n",
       "      <td>Yes</td>\n",
       "      <td>No</td>\n",
       "      <td>Yes</td>\n",
       "      <td>No</td>\n",
       "      <td>Yes</td>\n",
       "      <td>Yes</td>\n",
       "      <td>No</td>\n",
       "      <td>Yes</td>\n",
       "      <td>No</td>\n",
       "      <td>67.85</td>\n",
       "      <td>4627.65</td>\n",
       "      <td>No</td>\n",
       "      <td>Two year</td>\n",
       "      <td>DSL</td>\n",
       "      <td>Mailed check</td>\n",
       "    </tr>\n",
       "    <tr>\n",
       "      <th>9995-HOTOH</th>\n",
       "      <td>Male</td>\n",
       "      <td>0</td>\n",
       "      <td>Yes</td>\n",
       "      <td>Yes</td>\n",
       "      <td>63</td>\n",
       "      <td>No</td>\n",
       "      <td>No phone service</td>\n",
       "      <td>Yes</td>\n",
       "      <td>Yes</td>\n",
       "      <td>Yes</td>\n",
       "      <td>No</td>\n",
       "      <td>Yes</td>\n",
       "      <td>Yes</td>\n",
       "      <td>No</td>\n",
       "      <td>59.00</td>\n",
       "      <td>3707.60</td>\n",
       "      <td>No</td>\n",
       "      <td>Two year</td>\n",
       "      <td>DSL</td>\n",
       "      <td>Electronic check</td>\n",
       "    </tr>\n",
       "  </tbody>\n",
       "</table>\n",
       "<p>7043 rows × 20 columns</p>\n",
       "</div>"
      ],
      "text/plain": [
       "             gender  senior_citizen partner dependents  tenure phone_service  \\\n",
       "customer_id                                                                    \n",
       "0002-ORFBO   Female               0     Yes        Yes       9           Yes   \n",
       "0003-MKNFE     Male               0      No         No       9           Yes   \n",
       "0004-TLHLJ     Male               0      No         No       4           Yes   \n",
       "0011-IGKFF     Male               1     Yes         No      13           Yes   \n",
       "0013-EXCHZ   Female               1     Yes         No       3           Yes   \n",
       "...             ...             ...     ...        ...     ...           ...   \n",
       "9987-LUTYD   Female               0      No         No      13           Yes   \n",
       "9992-RRAMN     Male               0     Yes         No      22           Yes   \n",
       "9992-UJOEL     Male               0      No         No       2           Yes   \n",
       "9993-LHIEB     Male               0     Yes        Yes      67           Yes   \n",
       "9995-HOTOH     Male               0     Yes        Yes      63            No   \n",
       "\n",
       "               multiple_lines online_security online_backup device_protection  \\\n",
       "customer_id                                                                     \n",
       "0002-ORFBO                 No              No           Yes                No   \n",
       "0003-MKNFE                Yes              No            No                No   \n",
       "0004-TLHLJ                 No              No            No               Yes   \n",
       "0011-IGKFF                 No              No           Yes               Yes   \n",
       "0013-EXCHZ                 No              No            No                No   \n",
       "...                       ...             ...           ...               ...   \n",
       "9987-LUTYD                 No             Yes            No                No   \n",
       "9992-RRAMN                Yes              No            No                No   \n",
       "9992-UJOEL                 No              No           Yes                No   \n",
       "9993-LHIEB                 No             Yes            No               Yes   \n",
       "9995-HOTOH   No phone service             Yes           Yes               Yes   \n",
       "\n",
       "            tech_support streaming_tv streaming_movies paperless_billing  \\\n",
       "customer_id                                                                \n",
       "0002-ORFBO           Yes          Yes               No               Yes   \n",
       "0003-MKNFE            No           No              Yes                No   \n",
       "0004-TLHLJ            No           No               No               Yes   \n",
       "0011-IGKFF            No          Yes              Yes               Yes   \n",
       "0013-EXCHZ           Yes          Yes               No               Yes   \n",
       "...                  ...          ...              ...               ...   \n",
       "9987-LUTYD           Yes           No               No                No   \n",
       "9992-RRAMN            No           No              Yes               Yes   \n",
       "9992-UJOEL            No           No               No               Yes   \n",
       "9993-LHIEB           Yes           No              Yes                No   \n",
       "9995-HOTOH            No          Yes              Yes                No   \n",
       "\n",
       "             monthly_charges  total_charges churn   contract_type  \\\n",
       "customer_id                                                         \n",
       "0002-ORFBO             65.60         593.30    No        One year   \n",
       "0003-MKNFE             59.90         542.40    No  Month-to-month   \n",
       "0004-TLHLJ             73.90         280.85   Yes  Month-to-month   \n",
       "0011-IGKFF             98.00        1237.85   Yes  Month-to-month   \n",
       "0013-EXCHZ             83.90         267.40   Yes  Month-to-month   \n",
       "...                      ...            ...   ...             ...   \n",
       "9987-LUTYD             55.15         742.90    No        One year   \n",
       "9992-RRAMN             85.10        1873.70   Yes  Month-to-month   \n",
       "9992-UJOEL             50.30          92.75    No  Month-to-month   \n",
       "9993-LHIEB             67.85        4627.65    No        Two year   \n",
       "9995-HOTOH             59.00        3707.60    No        Two year   \n",
       "\n",
       "            internet_service_type      payment_type  \n",
       "customer_id                                          \n",
       "0002-ORFBO                    DSL      Mailed check  \n",
       "0003-MKNFE                    DSL      Mailed check  \n",
       "0004-TLHLJ            Fiber optic  Electronic check  \n",
       "0011-IGKFF            Fiber optic  Electronic check  \n",
       "0013-EXCHZ            Fiber optic      Mailed check  \n",
       "...                           ...               ...  \n",
       "9987-LUTYD                    DSL      Mailed check  \n",
       "9992-RRAMN            Fiber optic  Electronic check  \n",
       "9992-UJOEL                    DSL      Mailed check  \n",
       "9993-LHIEB                    DSL      Mailed check  \n",
       "9995-HOTOH                    DSL  Electronic check  \n",
       "\n",
       "[7043 rows x 20 columns]"
      ]
     },
     "execution_count": 3,
     "metadata": {},
     "output_type": "execute_result"
    }
   ],
   "source": [
    "df=p.prep_telco(df)\n",
    "df"
   ]
  },
  {
   "cell_type": "code",
   "execution_count": 4,
   "id": "a1c7609e",
   "metadata": {
    "scrolled": true
   },
   "outputs": [
    {
     "name": "stdout",
     "output_type": "stream",
     "text": [
      "<class 'pandas.core.frame.DataFrame'>\n",
      "Index: 7043 entries, 0002-ORFBO to 9995-HOTOH\n",
      "Data columns (total 20 columns):\n",
      " #   Column                 Non-Null Count  Dtype  \n",
      "---  ------                 --------------  -----  \n",
      " 0   gender                 7043 non-null   object \n",
      " 1   senior_citizen         7043 non-null   int64  \n",
      " 2   partner                7043 non-null   object \n",
      " 3   dependents             7043 non-null   object \n",
      " 4   tenure                 7043 non-null   int64  \n",
      " 5   phone_service          7043 non-null   object \n",
      " 6   multiple_lines         7043 non-null   object \n",
      " 7   online_security        7043 non-null   object \n",
      " 8   online_backup          7043 non-null   object \n",
      " 9   device_protection      7043 non-null   object \n",
      " 10  tech_support           7043 non-null   object \n",
      " 11  streaming_tv           7043 non-null   object \n",
      " 12  streaming_movies       7043 non-null   object \n",
      " 13  paperless_billing      7043 non-null   object \n",
      " 14  monthly_charges        7043 non-null   float64\n",
      " 15  total_charges          7043 non-null   float64\n",
      " 16  churn                  7043 non-null   object \n",
      " 17  contract_type          7043 non-null   object \n",
      " 18  internet_service_type  7043 non-null   object \n",
      " 19  payment_type           7043 non-null   object \n",
      "dtypes: float64(2), int64(2), object(16)\n",
      "memory usage: 1.1+ MB\n"
     ]
    }
   ],
   "source": [
    "df.info()"
   ]
  },
  {
   "cell_type": "code",
   "execution_count": 5,
   "id": "eb98c539",
   "metadata": {},
   "outputs": [],
   "source": [
    "train,val,test=p.splitting_data(df,'churn')"
   ]
  },
  {
   "cell_type": "code",
   "execution_count": 6,
   "id": "70b59bfd",
   "metadata": {},
   "outputs": [
    {
     "name": "stdout",
     "output_type": "stream",
     "text": [
      "shape of iris DB: (7043, 20)\n",
      "-----------------------------\n",
      "shape of train_iris: (4225, 20)\n",
      "shape of validate_iris: (1409, 20)\n",
      "shape of test_iris: (1409, 20)\n"
     ]
    }
   ],
   "source": [
    "print(f'shape of iris DB: {df.shape}')\n",
    "print('-----------------------------')\n",
    "print(f'shape of train_iris: {train.shape}')\n",
    "print(f'shape of validate_iris: {val.shape}')\n",
    "print(f'shape of test_iris: {test.shape}')"
   ]
  },
  {
   "cell_type": "markdown",
   "id": "d7fa7061",
   "metadata": {},
   "source": [
    "## Exploration on train telco dataframe"
   ]
  },
  {
   "cell_type": "code",
   "execution_count": 7,
   "id": "cb2f7036",
   "metadata": {},
   "outputs": [],
   "source": [
    "# make two lists, one with all categorical variables and another with all continouus vairables\n",
    "#intializing empty lists\n",
    "cat_col = []\n",
    "con_col = []\n",
    "\n",
    "#looping through all columns\n",
    "for col in train.columns:\n",
    "        #finding all my categorical columns by checking for how many unique values\n",
    "        # if less than 100, append to cat_col\n",
    "        if train[col].nunique() < 100:\n",
    "            cat_col.append(col)\n",
    "        else: \n",
    "            #if it has more than 100 unique values, append to continous column variable\n",
    "            con_col.append(col)"
   ]
  },
  {
   "cell_type": "code",
   "execution_count": 8,
   "id": "d3d53529",
   "metadata": {},
   "outputs": [
    {
     "data": {
      "text/plain": [
       "['gender',\n",
       " 'senior_citizen',\n",
       " 'partner',\n",
       " 'dependents',\n",
       " 'tenure',\n",
       " 'phone_service',\n",
       " 'multiple_lines',\n",
       " 'online_security',\n",
       " 'online_backup',\n",
       " 'device_protection',\n",
       " 'tech_support',\n",
       " 'streaming_tv',\n",
       " 'streaming_movies',\n",
       " 'paperless_billing',\n",
       " 'churn',\n",
       " 'contract_type',\n",
       " 'internet_service_type',\n",
       " 'payment_type']"
      ]
     },
     "execution_count": 8,
     "metadata": {},
     "output_type": "execute_result"
    }
   ],
   "source": [
    "# check categorical lists\n",
    "cat_col"
   ]
  },
  {
   "cell_type": "code",
   "execution_count": 9,
   "id": "fde3d098",
   "metadata": {},
   "outputs": [
    {
     "data": {
      "text/plain": [
       "['monthly_charges', 'total_charges']"
      ]
     },
     "execution_count": 9,
     "metadata": {},
     "output_type": "execute_result"
    }
   ],
   "source": [
    "# check continuous lists\n",
    "con_col"
   ]
  },
  {
   "cell_type": "code",
   "execution_count": 10,
   "id": "318cf2f3",
   "metadata": {},
   "outputs": [
    {
     "data": {
      "text/html": [
       "<div>\n",
       "<style scoped>\n",
       "    .dataframe tbody tr th:only-of-type {\n",
       "        vertical-align: middle;\n",
       "    }\n",
       "\n",
       "    .dataframe tbody tr th {\n",
       "        vertical-align: top;\n",
       "    }\n",
       "\n",
       "    .dataframe thead th {\n",
       "        text-align: right;\n",
       "    }\n",
       "</style>\n",
       "<table border=\"1\" class=\"dataframe\">\n",
       "  <thead>\n",
       "    <tr style=\"text-align: right;\">\n",
       "      <th></th>\n",
       "      <th>gender</th>\n",
       "      <th>senior_citizen</th>\n",
       "      <th>partner</th>\n",
       "      <th>dependents</th>\n",
       "      <th>tenure</th>\n",
       "      <th>phone_service</th>\n",
       "      <th>multiple_lines</th>\n",
       "      <th>online_security</th>\n",
       "      <th>online_backup</th>\n",
       "      <th>device_protection</th>\n",
       "      <th>tech_support</th>\n",
       "      <th>streaming_tv</th>\n",
       "      <th>streaming_movies</th>\n",
       "      <th>paperless_billing</th>\n",
       "      <th>monthly_charges</th>\n",
       "      <th>total_charges</th>\n",
       "      <th>churn</th>\n",
       "      <th>contract_type</th>\n",
       "      <th>internet_service_type</th>\n",
       "      <th>payment_type</th>\n",
       "    </tr>\n",
       "    <tr>\n",
       "      <th>customer_id</th>\n",
       "      <th></th>\n",
       "      <th></th>\n",
       "      <th></th>\n",
       "      <th></th>\n",
       "      <th></th>\n",
       "      <th></th>\n",
       "      <th></th>\n",
       "      <th></th>\n",
       "      <th></th>\n",
       "      <th></th>\n",
       "      <th></th>\n",
       "      <th></th>\n",
       "      <th></th>\n",
       "      <th></th>\n",
       "      <th></th>\n",
       "      <th></th>\n",
       "      <th></th>\n",
       "      <th></th>\n",
       "      <th></th>\n",
       "      <th></th>\n",
       "    </tr>\n",
       "  </thead>\n",
       "  <tbody>\n",
       "    <tr>\n",
       "      <th>4083-BFNYK</th>\n",
       "      <td>Female</td>\n",
       "      <td>1</td>\n",
       "      <td>Yes</td>\n",
       "      <td>No</td>\n",
       "      <td>38</td>\n",
       "      <td>Yes</td>\n",
       "      <td>Yes</td>\n",
       "      <td>Yes</td>\n",
       "      <td>Yes</td>\n",
       "      <td>No</td>\n",
       "      <td>No</td>\n",
       "      <td>No</td>\n",
       "      <td>Yes</td>\n",
       "      <td>No</td>\n",
       "      <td>95.00</td>\n",
       "      <td>3591.25</td>\n",
       "      <td>No</td>\n",
       "      <td>One year</td>\n",
       "      <td>Fiber optic</td>\n",
       "      <td>Credit card (automatic)</td>\n",
       "    </tr>\n",
       "    <tr>\n",
       "      <th>5804-LEPIM</th>\n",
       "      <td>Female</td>\n",
       "      <td>1</td>\n",
       "      <td>No</td>\n",
       "      <td>No</td>\n",
       "      <td>2</td>\n",
       "      <td>Yes</td>\n",
       "      <td>No</td>\n",
       "      <td>No</td>\n",
       "      <td>No</td>\n",
       "      <td>No</td>\n",
       "      <td>No</td>\n",
       "      <td>No</td>\n",
       "      <td>No</td>\n",
       "      <td>Yes</td>\n",
       "      <td>70.35</td>\n",
       "      <td>139.05</td>\n",
       "      <td>Yes</td>\n",
       "      <td>Month-to-month</td>\n",
       "      <td>Fiber optic</td>\n",
       "      <td>Electronic check</td>\n",
       "    </tr>\n",
       "    <tr>\n",
       "      <th>4895-TMWIR</th>\n",
       "      <td>Male</td>\n",
       "      <td>1</td>\n",
       "      <td>Yes</td>\n",
       "      <td>No</td>\n",
       "      <td>11</td>\n",
       "      <td>Yes</td>\n",
       "      <td>No</td>\n",
       "      <td>No internet service</td>\n",
       "      <td>No internet service</td>\n",
       "      <td>No internet service</td>\n",
       "      <td>No internet service</td>\n",
       "      <td>No internet service</td>\n",
       "      <td>No internet service</td>\n",
       "      <td>No</td>\n",
       "      <td>19.95</td>\n",
       "      <td>214.75</td>\n",
       "      <td>Yes</td>\n",
       "      <td>Month-to-month</td>\n",
       "      <td>neither</td>\n",
       "      <td>Mailed check</td>\n",
       "    </tr>\n",
       "  </tbody>\n",
       "</table>\n",
       "</div>"
      ],
      "text/plain": [
       "             gender  senior_citizen partner dependents  tenure phone_service  \\\n",
       "customer_id                                                                    \n",
       "4083-BFNYK   Female               1     Yes         No      38           Yes   \n",
       "5804-LEPIM   Female               1      No         No       2           Yes   \n",
       "4895-TMWIR     Male               1     Yes         No      11           Yes   \n",
       "\n",
       "            multiple_lines      online_security        online_backup  \\\n",
       "customer_id                                                            \n",
       "4083-BFNYK             Yes                  Yes                  Yes   \n",
       "5804-LEPIM              No                   No                   No   \n",
       "4895-TMWIR              No  No internet service  No internet service   \n",
       "\n",
       "               device_protection         tech_support         streaming_tv  \\\n",
       "customer_id                                                                  \n",
       "4083-BFNYK                    No                   No                   No   \n",
       "5804-LEPIM                    No                   No                   No   \n",
       "4895-TMWIR   No internet service  No internet service  No internet service   \n",
       "\n",
       "                streaming_movies paperless_billing  monthly_charges  \\\n",
       "customer_id                                                           \n",
       "4083-BFNYK                   Yes                No            95.00   \n",
       "5804-LEPIM                    No               Yes            70.35   \n",
       "4895-TMWIR   No internet service                No            19.95   \n",
       "\n",
       "             total_charges churn   contract_type internet_service_type  \\\n",
       "customer_id                                                              \n",
       "4083-BFNYK         3591.25    No        One year           Fiber optic   \n",
       "5804-LEPIM          139.05   Yes  Month-to-month           Fiber optic   \n",
       "4895-TMWIR          214.75   Yes  Month-to-month               neither   \n",
       "\n",
       "                        payment_type  \n",
       "customer_id                           \n",
       "4083-BFNYK   Credit card (automatic)  \n",
       "5804-LEPIM          Electronic check  \n",
       "4895-TMWIR              Mailed check  "
      ]
     },
     "execution_count": 10,
     "metadata": {},
     "output_type": "execute_result"
    }
   ],
   "source": [
    "train.head(3)"
   ]
  },
  {
   "cell_type": "code",
   "execution_count": 11,
   "id": "a89c9371",
   "metadata": {},
   "outputs": [],
   "source": [
    "# Target variable is churn\n",
    "target_variable = 'churn'\n",
    "\n",
    "# Initialize an empty list to store columns for comparison\n",
    "columns_to_compare = []\n",
    "\n",
    "# Create a for loop to iterate through each column in the categorical column list\n",
    "# appending our comparision list as long as the column is not churn\n",
    "for column in cat_col:\n",
    "    if column != target_variable:\n",
    "        columns_to_compare.append(column)\n",
    "    else:\n",
    "        pass"
   ]
  },
  {
   "cell_type": "code",
   "execution_count": 12,
   "id": "b0e4dfa6",
   "metadata": {},
   "outputs": [
    {
     "data": {
      "text/plain": [
       "['gender',\n",
       " 'senior_citizen',\n",
       " 'partner',\n",
       " 'dependents',\n",
       " 'tenure',\n",
       " 'phone_service',\n",
       " 'multiple_lines',\n",
       " 'online_security',\n",
       " 'online_backup',\n",
       " 'device_protection',\n",
       " 'tech_support',\n",
       " 'streaming_tv',\n",
       " 'streaming_movies',\n",
       " 'paperless_billing',\n",
       " 'contract_type',\n",
       " 'internet_service_type',\n",
       " 'payment_type']"
      ]
     },
     "execution_count": 12,
     "metadata": {},
     "output_type": "execute_result"
    }
   ],
   "source": [
    "columns_to_compare"
   ]
  },
  {
   "cell_type": "markdown",
   "id": "65231f9a",
   "metadata": {},
   "source": [
    "## Bar plot visualization categorical column VS 'churn'"
   ]
  },
  {
   "cell_type": "code",
   "execution_count": 13,
   "id": "9a299571",
   "metadata": {
    "scrolled": true
   },
   "outputs": [
    {
     "data": {
      "text/plain": [
       "tech_support\n",
       "No                     2096\n",
       "Yes                    1211\n",
       "No internet service     918\n",
       "Name: count, dtype: int64"
      ]
     },
     "execution_count": 13,
     "metadata": {},
     "output_type": "execute_result"
    }
   ],
   "source": [
    "train.tech_support.value_counts()"
   ]
  },
  {
   "cell_type": "code",
   "execution_count": 14,
   "id": "ad2f23e2",
   "metadata": {},
   "outputs": [
    {
     "data": {
      "text/plain": [
       "streaming_movies\n",
       "No                     1655\n",
       "Yes                    1652\n",
       "No internet service     918\n",
       "Name: count, dtype: int64"
      ]
     },
     "execution_count": 14,
     "metadata": {},
     "output_type": "execute_result"
    }
   ],
   "source": [
    "train.streaming_movies.value_counts()"
   ]
  },
  {
   "cell_type": "code",
   "execution_count": 15,
   "id": "582b6177",
   "metadata": {},
   "outputs": [
    {
     "data": {
      "text/plain": [
       "streaming_tv\n",
       "No                     1673\n",
       "Yes                    1634\n",
       "No internet service     918\n",
       "Name: count, dtype: int64"
      ]
     },
     "execution_count": 15,
     "metadata": {},
     "output_type": "execute_result"
    }
   ],
   "source": [
    "train.streaming_tv.value_counts()"
   ]
  },
  {
   "cell_type": "code",
   "execution_count": 16,
   "id": "4092e749",
   "metadata": {},
   "outputs": [
    {
     "name": "stdout",
     "output_type": "stream",
     "text": [
      "\n",
      "Contingency Table for gender vs. churn:\n",
      "\n",
      "churn     No  Yes\n",
      "gender           \n",
      "Female  1550  559\n",
      "Male    1554  562\n"
     ]
    },
    {
     "data": {
      "image/png": "[encoded data removed]",
      "text/plain": [
       "<Figure size 640x480 with 1 Axes>"
      ]
     },
     "metadata": {},
     "output_type": "display_data"
    },
    {
     "name": "stdout",
     "output_type": "stream",
     "text": [
      "\n",
      "Contingency Table for senior_citizen vs. churn:\n",
      "\n",
      "churn             No  Yes\n",
      "senior_citizen           \n",
      "0               2696  835\n",
      "1                408  286\n"
     ]
    },
    {
     "data": {
      "image/png": "[encoded data removed]",
      "text/plain": [
       "<Figure size 640x480 with 1 Axes>"
      ]
     },
     "metadata": {},
     "output_type": "display_data"
    },
    {
     "name": "stdout",
     "output_type": "stream",
     "text": [
      "\n",
      "Contingency Table for partner vs. churn:\n",
      "\n",
      "churn      No  Yes\n",
      "partner           \n",
      "No       1445  715\n",
      "Yes      1659  406\n"
     ]
    },
    {
     "data": {
      "image/png": "[encoded data removed]",
      "text/plain": [
       "<Figure size 640x480 with 1 Axes>"
      ]
     },
     "metadata": {},
     "output_type": "display_data"
    },
    {
     "name": "stdout",
     "output_type": "stream",
     "text": [
      "\n",
      "Contingency Table for dependents vs. churn:\n",
      "\n",
      "churn         No  Yes\n",
      "dependents           \n",
      "No          2042  919\n",
      "Yes         1062  202\n"
     ]
    },
    {
     "data": {
      "image/png": "[encoded data removed]",
      "text/plain": [
       "<Figure size 640x480 with 1 Axes>"
      ]
     },
     "metadata": {},
     "output_type": "display_data"
    },
    {
     "name": "stdout",
     "output_type": "stream",
     "text": [
      "\n",
      "Contingency Table for tenure vs. churn:\n",
      "\n",
      "churn    No  Yes\n",
      "tenure          \n",
      "0         8    0\n",
      "1       128  225\n",
      "2        61   81\n",
      "3        67   57\n",
      "4        57   51\n",
      "...     ...  ...\n",
      "68       51    6\n",
      "69       60    4\n",
      "70       65    5\n",
      "71       94    4\n",
      "72      228    5\n",
      "\n",
      "[73 rows x 2 columns]\n"
     ]
    },
    {
     "data": {
      "image/png": "[encoded data removed]",
      "text/plain": [
       "<Figure size 640x480 with 1 Axes>"
      ]
     },
     "metadata": {},
     "output_type": "display_data"
    },
    {
     "name": "stdout",
     "output_type": "stream",
     "text": [
      "\n",
      "Contingency Table for phone_service vs. churn:\n",
      "\n",
      "churn            No   Yes\n",
      "phone_service            \n",
      "No              295    99\n",
      "Yes            2809  1022\n"
     ]
    },
    {
     "data": {
      "image/png": "[encoded data removed]",
      "text/plain": [
       "<Figure size 640x480 with 1 Axes>"
      ]
     },
     "metadata": {},
     "output_type": "display_data"
    },
    {
     "name": "stdout",
     "output_type": "stream",
     "text": [
      "\n",
      "Contingency Table for multiple_lines vs. churn:\n",
      "\n",
      "churn               No  Yes\n",
      "multiple_lines             \n",
      "No                1500  520\n",
      "No phone service   295   99\n",
      "Yes               1309  502\n"
     ]
    },
    {
     "data": {
      "image/png": "[encoded data removed]",
      "text/plain": [
       "<Figure size 640x480 with 1 Axes>"
      ]
     },
     "metadata": {},
     "output_type": "display_data"
    },
    {
     "name": "stdout",
     "output_type": "stream",
     "text": [
      "\n",
      "Contingency Table for online_security vs. churn:\n",
      "\n",
      "churn                  No  Yes\n",
      "online_security               \n",
      "No                   1230  885\n",
      "No internet service   848   70\n",
      "Yes                  1026  166\n"
     ]
    },
    {
     "data": {
      "image/png": "[encoded data removed]",
      "text/plain": [
       "<Figure size 640x480 with 1 Axes>"
      ]
     },
     "metadata": {},
     "output_type": "display_data"
    },
    {
     "name": "stdout",
     "output_type": "stream",
     "text": [
      "\n",
      "Contingency Table for online_backup vs. churn:\n",
      "\n",
      "churn                  No  Yes\n",
      "online_backup                 \n",
      "No                   1097  732\n",
      "No internet service   848   70\n",
      "Yes                  1159  319\n"
     ]
    },
    {
     "data": {
      "image/png": "[encoded data removed]",
      "text/plain": [
       "<Figure size 640x480 with 1 Axes>"
      ]
     },
     "metadata": {},
     "output_type": "display_data"
    },
    {
     "name": "stdout",
     "output_type": "stream",
     "text": [
      "\n",
      "Contingency Table for device_protection vs. churn:\n",
      "\n",
      "churn                  No  Yes\n",
      "device_protection             \n",
      "No                   1119  702\n",
      "No internet service   848   70\n",
      "Yes                  1137  349\n"
     ]
    },
    {
     "data": {
      "image/png": "[encoded data removed]",
      "text/plain": [
       "<Figure size 640x480 with 1 Axes>"
      ]
     },
     "metadata": {},
     "output_type": "display_data"
    },
    {
     "name": "stdout",
     "output_type": "stream",
     "text": [
      "\n",
      "Contingency Table for tech_support vs. churn:\n",
      "\n",
      "churn                  No  Yes\n",
      "tech_support                  \n",
      "No                   1230  866\n",
      "No internet service   848   70\n",
      "Yes                  1026  185\n"
     ]
    },
    {
     "data": {
      "image/png": "[encoded data removed]",
      "text/plain": [
       "<Figure size 640x480 with 1 Axes>"
      ]
     },
     "metadata": {},
     "output_type": "display_data"
    },
    {
     "name": "stdout",
     "output_type": "stream",
     "text": [
      "\n",
      "Contingency Table for streaming_tv vs. churn:\n",
      "\n",
      "churn                  No  Yes\n",
      "streaming_tv                  \n",
      "No                   1100  573\n",
      "No internet service   848   70\n",
      "Yes                  1156  478\n"
     ]
    },
    {
     "data": {
      "image/png": "[encoded data removed]",
      "text/plain": [
       "<Figure size 640x480 with 1 Axes>"
      ]
     },
     "metadata": {},
     "output_type": "display_data"
    },
    {
     "name": "stdout",
     "output_type": "stream",
     "text": [
      "\n",
      "Contingency Table for streaming_movies vs. churn:\n",
      "\n",
      "churn                  No  Yes\n",
      "streaming_movies              \n",
      "No                   1101  554\n",
      "No internet service   848   70\n",
      "Yes                  1155  497\n"
     ]
    },
    {
     "data": {
      "image/png": "[encoded data removed]",
      "text/plain": [
       "<Figure size 640x480 with 1 Axes>"
      ]
     },
     "metadata": {},
     "output_type": "display_data"
    },
    {
     "name": "stdout",
     "output_type": "stream",
     "text": [
      "\n",
      "Contingency Table for paperless_billing vs. churn:\n",
      "\n",
      "churn                No  Yes\n",
      "paperless_billing           \n",
      "No                 1437  281\n",
      "Yes                1667  840\n"
     ]
    },
    {
     "data": {
      "image/png": "[encoded data removed]",
      "text/plain": [
       "<Figure size 640x480 with 1 Axes>"
      ]
     },
     "metadata": {},
     "output_type": "display_data"
    },
    {
     "name": "stdout",
     "output_type": "stream",
     "text": [
      "\n",
      "Contingency Table for contract_type vs. churn:\n",
      "\n",
      "churn             No  Yes\n",
      "contract_type            \n",
      "Month-to-month  1338  997\n",
      "One year         785   94\n",
      "Two year         981   30\n"
     ]
    },
    {
     "data": {
      "image/png": "[encoded data removed]",
      "text/plain": [
       "<Figure size 640x480 with 1 Axes>"
      ]
     },
     "metadata": {},
     "output_type": "display_data"
    },
    {
     "name": "stdout",
     "output_type": "stream",
     "text": [
      "\n",
      "Contingency Table for internet_service_type vs. churn:\n",
      "\n",
      "churn                    No  Yes\n",
      "internet_service_type           \n",
      "DSL                    1140  269\n",
      "Fiber optic            1116  782\n",
      "neither                 848   70\n"
     ]
    },
    {
     "data": {
      "image/png": "[encoded data removed]",
      "text/plain": [
       "<Figure size 640x480 with 1 Axes>"
      ]
     },
     "metadata": {},
     "output_type": "display_data"
    },
    {
     "name": "stdout",
     "output_type": "stream",
     "text": [
      "\n",
      "Contingency Table for payment_type vs. churn:\n",
      "\n",
      "churn                       No  Yes\n",
      "payment_type                       \n",
      "Bank transfer (automatic)  778  157\n",
      "Credit card (automatic)    783  138\n",
      "Electronic check           788  646\n",
      "Mailed check               755  180\n"
     ]
    },
    {
     "data": {
      "image/png": "[encoded data removed]",
      "text/plain": [
       "<Figure size 640x480 with 1 Axes>"
      ]
     },
     "metadata": {},
     "output_type": "display_data"
    }
   ],
   "source": [
    "# For loop to create contingency table and bar plot for each comparision column vs churn\n",
    "# describe and visualize the distribution of categorical variables and make inferences about \n",
    "# the equality of proportions, independence of the variables, or agreement between variables.\n",
    "for column in columns_to_compare:\n",
    "    # Create a contingency table\n",
    "    contingency_table = pd.crosstab(train[column], train[target_variable])\n",
    "    \n",
    "    # Display the contingency table\n",
    "    print(f\"\\nContingency Table for {column} vs. {target_variable}:\\n\")\n",
    "    print(contingency_table)\n",
    "    \n",
    "    # To help visualize the contingency table, we can use a stacked bar plot\n",
    "    contingency_table.plot.bar()\n",
    "    plt.title(f'{column} vs. {target_variable}')\n",
    "    plt.xlabel(column)\n",
    "    plt.ylabel('Count')\n",
    "    plt.show()"
   ]
  },
  {
   "cell_type": "markdown",
   "id": "32c4bf74",
   "metadata": {},
   "source": [
    "## Box plot visualization Continuous column VS 'churn'"
   ]
  },
  {
   "cell_type": "code",
   "execution_count": 17,
   "id": "b3e8ae40",
   "metadata": {},
   "outputs": [
    {
     "data": {
      "image/png": "[encoded data removed]",
      "text/plain": [
       "<Figure size 600x400 with 1 Axes>"
      ]
     },
     "metadata": {},
     "output_type": "display_data"
    },
    {
     "data": {
      "image/png": "[encoded data removed]",
      "text/plain": [
       "<Figure size 600x400 with 1 Axes>"
      ]
     },
     "metadata": {},
     "output_type": "display_data"
    }
   ],
   "source": [
    "\n",
    "# Create a for loop to compare each continuous variable to the target variable\n",
    "for column in con_col:\n",
    "    \n",
    "    # Visualize the distribution of the continuous variable \n",
    "    plt.figure(figsize=(6, 4))\n",
    "    \n",
    "    \n",
    "\n",
    "    # Box plot with target variable and count\n",
    "    sns.boxplot(x=target_variable, y=column, data=train)\n",
    "    plt.title(f'{column} vs. {target_variable}')\n",
    "    plt.xlabel(target_variable)\n",
    "    plt.ylabel(column)\n",
    "    plt.show()"
   ]
  },
  {
   "cell_type": "code",
   "execution_count": 21,
   "id": "aed6ce23",
   "metadata": {
    "scrolled": true
   },
   "outputs": [
    {
     "name": "stdout",
     "output_type": "stream",
     "text": [
      "Chi-square test for gender against churn:\n",
      "Chi2 statistic: 2.4733283637992e-05\n",
      "P-value: 0.996031931504371\n",
      "Fail to reject the null hypothesis. There is not enough evidence of association between gender and churn.\n",
      "\n",
      "==================================================\n",
      "\n",
      "Chi-square test for senior_citizen against churn:\n",
      "Chi2 statistic: 90.8791641507161\n",
      "P-value: 1.5271938515844278e-21\n",
      "Reject the null hypothesis. There is evidence of association between senior_citizen and churn.\n",
      "\n",
      "==================================================\n",
      "\n",
      "Chi-square test for partner against churn:\n",
      "Chi2 statistic: 97.15376877725984\n",
      "P-value: 6.414706667955165e-23\n",
      "Reject the null hypothesis. There is evidence of association between partner and churn.\n",
      "\n",
      "==================================================\n",
      "\n",
      "Chi-square test for dependents against churn:\n",
      "Chi2 statistic: 102.24217978518547\n",
      "P-value: 4.91325418673439e-24\n",
      "Reject the null hypothesis. There is evidence of association between dependents and churn.\n",
      "\n",
      "==================================================\n",
      "\n",
      "Chi-square test for tenure against churn:\n",
      "Chi2 statistic: 699.0204275095577\n",
      "P-value: 1.82885051344591e-103\n",
      "Reject the null hypothesis. There is evidence of association between tenure and churn.\n",
      "\n",
      "==================================================\n",
      "\n",
      "Chi-square test for phone_service against churn:\n",
      "Chi2 statistic: 0.36450167846667736\n",
      "P-value: 0.5460166860258362\n",
      "Fail to reject the null hypothesis. There is not enough evidence of association between phone_service and churn.\n",
      "\n",
      "==================================================\n",
      "\n",
      "Chi-square test for multiple_lines against churn:\n",
      "Chi2 statistic: 2.354963498704825\n",
      "P-value: 0.3080535186193003\n",
      "Fail to reject the null hypothesis. There is not enough evidence of association between multiple_lines and churn.\n",
      "\n",
      "==================================================\n",
      "\n",
      "Chi-square test for online_security against churn:\n",
      "Chi2 statistic: 519.9075727814743\n",
      "P-value: 1.2691268160566882e-113\n",
      "Reject the null hypothesis. There is evidence of association between online_security and churn.\n",
      "\n",
      "==================================================\n",
      "\n",
      "Chi-square test for online_backup against churn:\n",
      "Chi2 statistic: 357.6627366765705\n",
      "P-value: 2.1603471259668605e-78\n",
      "Reject the null hypothesis. There is evidence of association between online_backup and churn.\n",
      "\n",
      "==================================================\n",
      "\n",
      "Chi-square test for device_protection against churn:\n",
      "Chi2 statistic: 310.3521726486928\n",
      "P-value: 4.053983586274719e-68\n",
      "Reject the null hypothesis. There is evidence of association between device_protection and churn.\n",
      "\n",
      "==================================================\n",
      "\n",
      "Chi-square test for tech_support against churn:\n",
      "Chi2 statistic: 482.09154879788\n",
      "P-value: 2.0660950273127288e-105\n",
      "Reject the null hypothesis. There is evidence of association between tech_support and churn.\n",
      "\n",
      "==================================================\n",
      "\n",
      "Chi-square test for streaming_tv against churn:\n",
      "Chi2 statistic: 225.67632408564876\n",
      "P-value: 9.885733002449685e-50\n",
      "Reject the null hypothesis. There is evidence of association between streaming_tv and churn.\n",
      "\n",
      "==================================================\n",
      "\n",
      "Chi-square test for streaming_movies against churn:\n",
      "Chi2 statistic: 219.96235088923024\n",
      "P-value: 1.7210060267282456e-48\n",
      "Reject the null hypothesis. There is evidence of association between streaming_movies and churn.\n",
      "\n",
      "==================================================\n",
      "\n",
      "Chi-square test for paperless_billing against churn:\n",
      "Chi2 statistic: 152.93791291496842\n",
      "P-value: 3.952227763871639e-35\n",
      "Reject the null hypothesis. There is evidence of association between paperless_billing and churn.\n",
      "\n",
      "==================================================\n",
      "\n",
      "Chi-square test for churn against churn:\n",
      "Chi2 statistic: 4219.871454079424\n",
      "P-value: 0.0\n",
      "Reject the null hypothesis. There is evidence of association between churn and churn.\n",
      "\n",
      "==================================================\n",
      "\n",
      "Chi-square test for contract_type against churn:\n",
      "Chi2 statistic: 714.1745080997528\n",
      "P-value: 8.298049251133243e-156\n",
      "Reject the null hypothesis. There is evidence of association between contract_type and churn.\n",
      "\n",
      "==================================================\n",
      "\n",
      "Chi-square test for internet_service_type against churn:\n",
      "Chi2 statistic: 417.88813854093104\n",
      "P-value: 1.8061078882405112e-91\n",
      "Reject the null hypothesis. There is evidence of association between internet_service_type and churn.\n",
      "\n",
      "==================================================\n",
      "\n",
      "Chi-square test for payment_type against churn:\n",
      "Chi2 statistic: 386.1839951483273\n",
      "P-value: 2.1760476161221612e-83\n",
      "Reject the null hypothesis. There is evidence of association between payment_type and churn.\n",
      "\n",
      "==================================================\n",
      "\n"
     ]
    }
   ],
   "source": [
    "# loop for chi^2 test between 'churn' vs 'categorical variables'\n",
    "for column in cat_col:\n",
    "    # Create a contingency table\n",
    "    contingency_table = pd.crosstab(train[column], train['churn'])\n",
    "\n",
    "    # Perform chi-square test\n",
    "    chi2, p,degf, expected = stats.chi2_contingency(contingency_table)\n",
    "\n",
    "    # Print the results\n",
    "    print(f\"Chi-square test for {column} against churn:\")\n",
    "    print(f\"Chi2 statistic: {chi2}\")\n",
    "    print(f\"P-value: {p}\")\n",
    "\n",
    "    # Check if the p-value is less than the significance level (e.g., 0.05)\n",
    "    alpha = 0.05\n",
    "    if p < alpha:\n",
    "        print(\"Reject the null hypothesis. There is evidence of association between\", column, \"and churn.\")\n",
    "    else:\n",
    "        print(\"Fail to reject the null hypothesis. There is not enough evidence of association between\", column, \"and churn.\")\n",
    "\n",
    "    print(\"\\n\" + \"=\"*50 + \"\\n\")"
   ]
  },
  {
   "cell_type": "markdown",
   "id": "3a33826b",
   "metadata": {},
   "source": [
    "## 1st Hypothesis Test\n",
    "\n",
    "\n",
    "\n"
   ]
  },
  {
   "cell_type": "markdown",
   "id": "e934685c",
   "metadata": {},
   "source": [
    "> 1. Hypothesis:\n",
    "\n",
    "Q: does payment_type affect whether or not someone churned?"
   ]
  },
  {
   "cell_type": "markdown",
   "id": "9ea08134",
   "metadata": {},
   "source": [
    "> 2. Visualize"
   ]
  },
  {
   "cell_type": "code",
   "execution_count": 22,
   "id": "5eb08622",
   "metadata": {},
   "outputs": [
    {
     "data": {
      "text/plain": [
       "payment_type\n",
       "Electronic check             1434\n",
       "Mailed check                  935\n",
       "Bank transfer (automatic)     935\n",
       "Credit card (automatic)       921\n",
       "Name: count, dtype: int64"
      ]
     },
     "execution_count": 22,
     "metadata": {},
     "output_type": "execute_result"
    }
   ],
   "source": [
    "train.payment_type.value_counts()"
   ]
  },
  {
   "cell_type": "code",
   "execution_count": 23,
   "id": "3125443b",
   "metadata": {},
   "outputs": [
    {
     "data": {
      "text/plain": [
       "churn\n",
       "No     3104\n",
       "Yes    1121\n",
       "Name: count, dtype: int64"
      ]
     },
     "execution_count": 23,
     "metadata": {},
     "output_type": "execute_result"
    }
   ],
   "source": [
    "train.churn.value_counts()"
   ]
  },
  {
   "cell_type": "code",
   "execution_count": 24,
   "id": "43d53554",
   "metadata": {},
   "outputs": [
    {
     "data": {
      "image/png": "[encoded data removed]",
      "text/plain": [
       "<Figure size 1000x600 with 1 Axes>"
      ]
     },
     "metadata": {},
     "output_type": "display_data"
    }
   ],
   "source": [
    "# customers with electronic check payment types churned a lot\n",
    "plt.figure(figsize=(10, 6))\n",
    "sns. countplot(data=train,x='payment_type', hue='churn' )\n",
    "plt.title('Churn by Payment Type')\n",
    "plt.xlabel('Payment Type')\n",
    "plt.ylabel('Count')\n",
    "plt.show()"
   ]
  },
  {
   "cell_type": "markdown",
   "id": "d821b9d8",
   "metadata": {},
   "source": [
    "note:- customers with electronic check payment type churned a lot more than other payment types."
   ]
  },
  {
   "cell_type": "markdown",
   "id": "8defd3bd",
   "metadata": {},
   "source": [
    "> 3. Analyze with stats"
   ]
  },
  {
   "cell_type": "markdown",
   "id": "b91f3818",
   "metadata": {},
   "source": [
    "Hypothesis Setting:(two categorical variables: use chi^2)\n",
    "\n",
    "Ho: There is no relationship between payment_type and churn.\n",
    "\n",
    "Ha: There is relationship between payment_type and churn.\n",
    "\n",
    "alpha=0.05\n",
    "\n"
   ]
  },
  {
   "cell_type": "code",
   "execution_count": 25,
   "id": "c79371df",
   "metadata": {},
   "outputs": [],
   "source": [
    "alpha=0.05\n"
   ]
  },
  {
   "cell_type": "code",
   "execution_count": 26,
   "id": "b5932121",
   "metadata": {},
   "outputs": [
    {
     "data": {
      "text/html": [
       "<div>\n",
       "<style scoped>\n",
       "    .dataframe tbody tr th:only-of-type {\n",
       "        vertical-align: middle;\n",
       "    }\n",
       "\n",
       "    .dataframe tbody tr th {\n",
       "        vertical-align: top;\n",
       "    }\n",
       "\n",
       "    .dataframe thead th {\n",
       "        text-align: right;\n",
       "    }\n",
       "</style>\n",
       "<table border=\"1\" class=\"dataframe\">\n",
       "  <thead>\n",
       "    <tr style=\"text-align: right;\">\n",
       "      <th>payment_type</th>\n",
       "      <th>Bank transfer (automatic)</th>\n",
       "      <th>Credit card (automatic)</th>\n",
       "      <th>Electronic check</th>\n",
       "      <th>Mailed check</th>\n",
       "    </tr>\n",
       "    <tr>\n",
       "      <th>churn</th>\n",
       "      <th></th>\n",
       "      <th></th>\n",
       "      <th></th>\n",
       "      <th></th>\n",
       "    </tr>\n",
       "  </thead>\n",
       "  <tbody>\n",
       "    <tr>\n",
       "      <th>No</th>\n",
       "      <td>778</td>\n",
       "      <td>783</td>\n",
       "      <td>788</td>\n",
       "      <td>755</td>\n",
       "    </tr>\n",
       "    <tr>\n",
       "      <th>Yes</th>\n",
       "      <td>157</td>\n",
       "      <td>138</td>\n",
       "      <td>646</td>\n",
       "      <td>180</td>\n",
       "    </tr>\n",
       "  </tbody>\n",
       "</table>\n",
       "</div>"
      ],
      "text/plain": [
       "payment_type  Bank transfer (automatic)  Credit card (automatic)  \\\n",
       "churn                                                              \n",
       "No                                  778                      783   \n",
       "Yes                                 157                      138   \n",
       "\n",
       "payment_type  Electronic check  Mailed check  \n",
       "churn                                         \n",
       "No                         788           755  \n",
       "Yes                        646           180  "
      ]
     },
     "execution_count": 26,
     "metadata": {},
     "output_type": "execute_result"
    }
   ],
   "source": [
    "# create crosstab\n",
    "observed = pd.crosstab(train.churn, train.payment_type)\n",
    "observed"
   ]
  },
  {
   "cell_type": "code",
   "execution_count": 27,
   "id": "cdfef701",
   "metadata": {},
   "outputs": [],
   "source": [
    "#chi2_contingency prints out 4 values - chi2, p-value, degrees of freedom, and expected values\n",
    "chi2, p, dof, expected = stats.chi2_contingency(observed)"
   ]
  },
  {
   "cell_type": "code",
   "execution_count": 28,
   "id": "7b3e8cc6",
   "metadata": {},
   "outputs": [
    {
     "name": "stdout",
     "output_type": "stream",
     "text": [
      "Observed\n",
      "[[778 783 788 755]\n",
      " [157 138 646 180]]\n",
      "\n",
      "Expected\n",
      "[[ 686  676 1053  686]\n",
      " [ 248  244  380  248]]\n",
      "\n",
      "----\n",
      "chi^2 = 386.1840\n",
      "p     = 0.0000\n"
     ]
    }
   ],
   "source": [
    "#output values\n",
    "print('Observed')\n",
    "print(observed.values)\n",
    "print('\\nExpected')\n",
    "print(expected.astype(int))\n",
    "print('\\n----')\n",
    "print(f'chi^2 = {chi2:.4f}')\n",
    "print(f'p     = {p:.4f}')"
   ]
  },
  {
   "cell_type": "code",
   "execution_count": 29,
   "id": "ec56070f",
   "metadata": {},
   "outputs": [
    {
     "name": "stdout",
     "output_type": "stream",
     "text": [
      "reject the null hypothesis\n"
     ]
    }
   ],
   "source": [
    "# conclusion:\n",
    "#compare our p-value and alpha\n",
    "if p < alpha:\n",
    "    print('reject the null hypothesis')\n",
    "else:\n",
    "    print('fail to reject the null hypothesis')"
   ]
  },
  {
   "cell_type": "markdown",
   "id": "0c9aaa75",
   "metadata": {},
   "source": [
    "Thats means, there is relationship between 'payment_type' and 'churn',"
   ]
  },
  {
   "cell_type": "markdown",
   "id": "4272c63b",
   "metadata": {},
   "source": [
    "> 4. Summarize\n",
    "\n",
    "One particular type of payment method (Electronic check) shows a lot of customer churn. This might be due to some factor related to fees or delivery speed. Will need to investigate further asking are there fees associated with each payment type, what are their delivery speeds?\n",
    "\n"
   ]
  },
  {
   "cell_type": "markdown",
   "id": "45069825",
   "metadata": {},
   "source": [
    "## 2nd Hypothesis Test"
   ]
  },
  {
   "cell_type": "markdown",
   "id": "212bc557",
   "metadata": {},
   "source": [
    ">1. Hypothesis\n",
    "\n",
    "Q: does contract type affect whether or not someone has churned? "
   ]
  },
  {
   "cell_type": "code",
   "execution_count": 30,
   "id": "5a9e06f7",
   "metadata": {},
   "outputs": [
    {
     "data": {
      "text/plain": [
       "contract_type\n",
       "Month-to-month    2335\n",
       "Two year          1011\n",
       "One year           879\n",
       "Name: count, dtype: int64"
      ]
     },
     "execution_count": 30,
     "metadata": {},
     "output_type": "execute_result"
    }
   ],
   "source": [
    "train.contract_type.value_counts()"
   ]
  },
  {
   "cell_type": "code",
   "execution_count": 31,
   "id": "f098b4cc",
   "metadata": {},
   "outputs": [
    {
     "data": {
      "text/plain": [
       "churn\n",
       "No     3104\n",
       "Yes    1121\n",
       "Name: count, dtype: int64"
      ]
     },
     "execution_count": 31,
     "metadata": {},
     "output_type": "execute_result"
    }
   ],
   "source": [
    "train.churn.value_counts()"
   ]
  },
  {
   "cell_type": "markdown",
   "id": "08aafb06",
   "metadata": {},
   "source": [
    "> 2. Visualize"
   ]
  },
  {
   "cell_type": "code",
   "execution_count": 32,
   "id": "28a92667",
   "metadata": {},
   "outputs": [
    {
     "data": {
      "image/png": "[encoded data removed]",
      "text/plain": [
       "<Figure size 1000x600 with 1 Axes>"
      ]
     },
     "metadata": {},
     "output_type": "display_data"
    }
   ],
   "source": [
    "# customers with month to month contract types churned a lot\n",
    "plt.figure(figsize=(10, 6))\n",
    "sns. countplot(data=train,x='contract_type', hue='churn')\n",
    "plt.title('Churn by Contract Type')\n",
    "plt.xlabel('Contract Type')\n",
    "plt.ylabel('Count')\n",
    "plt.show()"
   ]
  },
  {
   "cell_type": "markdown",
   "id": "e94c2a83",
   "metadata": {},
   "source": [
    "From this bar diagram shows customers with Month-to-month contract type has more churn number than others."
   ]
  },
  {
   "cell_type": "markdown",
   "id": "550c9279",
   "metadata": {},
   "source": [
    "> 3. Analyze with stats\n",
    "\n",
    "Hypothesis Setting:(two categorical variables: use chi^2)\n",
    "\n",
    "Ho: There is no relationship between contract_type and churn.\n",
    "\n",
    "Ha: There is relationship between contract_type and churn.\n",
    "\n",
    "alpha=0.05"
   ]
  },
  {
   "cell_type": "code",
   "execution_count": 33,
   "id": "4a0e34b4",
   "metadata": {},
   "outputs": [
    {
     "data": {
      "text/html": [
       "<div>\n",
       "<style scoped>\n",
       "    .dataframe tbody tr th:only-of-type {\n",
       "        vertical-align: middle;\n",
       "    }\n",
       "\n",
       "    .dataframe tbody tr th {\n",
       "        vertical-align: top;\n",
       "    }\n",
       "\n",
       "    .dataframe thead th {\n",
       "        text-align: right;\n",
       "    }\n",
       "</style>\n",
       "<table border=\"1\" class=\"dataframe\">\n",
       "  <thead>\n",
       "    <tr style=\"text-align: right;\">\n",
       "      <th>contract_type</th>\n",
       "      <th>Month-to-month</th>\n",
       "      <th>One year</th>\n",
       "      <th>Two year</th>\n",
       "    </tr>\n",
       "    <tr>\n",
       "      <th>churn</th>\n",
       "      <th></th>\n",
       "      <th></th>\n",
       "      <th></th>\n",
       "    </tr>\n",
       "  </thead>\n",
       "  <tbody>\n",
       "    <tr>\n",
       "      <th>No</th>\n",
       "      <td>1338</td>\n",
       "      <td>785</td>\n",
       "      <td>981</td>\n",
       "    </tr>\n",
       "    <tr>\n",
       "      <th>Yes</th>\n",
       "      <td>997</td>\n",
       "      <td>94</td>\n",
       "      <td>30</td>\n",
       "    </tr>\n",
       "  </tbody>\n",
       "</table>\n",
       "</div>"
      ],
      "text/plain": [
       "contract_type  Month-to-month  One year  Two year\n",
       "churn                                            \n",
       "No                       1338       785       981\n",
       "Yes                       997        94        30"
      ]
     },
     "execution_count": 33,
     "metadata": {},
     "output_type": "execute_result"
    }
   ],
   "source": [
    "# create crosstab\n",
    "observed_ct = pd.crosstab(train.churn, train.contract_type)\n",
    "observed_ct"
   ]
  },
  {
   "cell_type": "code",
   "execution_count": 34,
   "id": "6e429b9b",
   "metadata": {},
   "outputs": [],
   "source": [
    "\n",
    "chi2, p, dof, expected = stats.chi2_contingency(observed_ct)"
   ]
  },
  {
   "cell_type": "code",
   "execution_count": 35,
   "id": "cb870c68",
   "metadata": {},
   "outputs": [
    {
     "name": "stdout",
     "output_type": "stream",
     "text": [
      "Observed\n",
      "[[1338  785  981]\n",
      " [ 997   94   30]]\n",
      "\n",
      "Expected\n",
      "[[1715  645  742]\n",
      " [ 619  233  268]]\n",
      "\n",
      "----\n",
      "chi^2 = 714.1745\n",
      "p     = 0.0000\n"
     ]
    }
   ],
   "source": [
    "#output values\n",
    "print('Observed')\n",
    "print(observed_ct.values)\n",
    "print('\\nExpected')\n",
    "print(expected.astype(int))\n",
    "print('\\n----')\n",
    "print(f'chi^2 = {chi2:.4f}')\n",
    "print(f'p     = {p:.4f}')"
   ]
  },
  {
   "cell_type": "code",
   "execution_count": 36,
   "id": "ccecebc2",
   "metadata": {},
   "outputs": [
    {
     "name": "stdout",
     "output_type": "stream",
     "text": [
      "reject the null hypothesis\n"
     ]
    }
   ],
   "source": [
    "#compare our p-value and alpha\n",
    "if p < alpha:\n",
    "    print('reject the null hypothesis')\n",
    "else:\n",
    "    print('fail to reject the null hypothesis')"
   ]
  },
  {
   "cell_type": "markdown",
   "id": "eacc5c3e",
   "metadata": {},
   "source": [
    "This concludes that there is relationship between contract_type and churn."
   ]
  },
  {
   "cell_type": "markdown",
   "id": "9148319c",
   "metadata": {},
   "source": [
    ">4. Summarize\n",
    "\n",
    "One particular contract type (month-to-month) has a lot of customers with churned status. This would make sense becuase people with long contracts can not churn as easily as customers with month to month contracts. \n",
    "Suggestion: we might recommend to customers for over a year to prevent their churn rate is going high."
   ]
  },
  {
   "cell_type": "markdown",
   "id": "57bab5a9",
   "metadata": {},
   "source": [
    "## 3rd Hypothesis Test\n",
    "\n",
    "1. Hypothesis:\n",
    "\n",
    "Q: Does tenure affects the churned customer?"
   ]
  },
  {
   "cell_type": "markdown",
   "id": "720f26cb",
   "metadata": {},
   "source": [
    "> 2. visualize"
   ]
  },
  {
   "cell_type": "code",
   "execution_count": 37,
   "id": "3691059a",
   "metadata": {},
   "outputs": [
    {
     "data": {
      "image/png": "[encoded data removed]",
      "text/plain": [
       "<Figure size 640x480 with 1 Axes>"
      ]
     },
     "metadata": {},
     "output_type": "display_data"
    }
   ],
   "source": [
    "sns.boxplot(data=train, y='tenure', x='churn');"
   ]
  },
  {
   "cell_type": "markdown",
   "id": "7e920424",
   "metadata": {},
   "source": [
    "it appears customers are churning early on in their tenure. Customers who have stayed with telco are still with telco"
   ]
  },
  {
   "cell_type": "markdown",
   "id": "00906eb6",
   "metadata": {},
   "source": [
    "> 3. Analyze with stats\n",
    "\n",
    "comparing categorical to categorical because we are going to bin tenure into years, of which the higest tenure is 72 months.\n",
    "\n",
    "Ho: There is no relationship between tenure and whether or not someone has churned\n",
    "\n",
    "Ha: There is a relationship between tenure and whether or not someone has churned\n",
    "\n"
   ]
  },
  {
   "cell_type": "code",
   "execution_count": 38,
   "id": "792614df",
   "metadata": {},
   "outputs": [
    {
     "name": "stdout",
     "output_type": "stream",
     "text": [
      "             tenure tenure_years\n",
      "customer_id                     \n",
      "4083-BFNYK       38            3\n",
      "5804-LEPIM        2            0\n",
      "4895-TMWIR       11            0\n",
      "1342-JPNKI       10            0\n",
      "3397-AVTKU       43            3\n",
      "...             ...          ...\n",
      "1915-IOFGU        1            0\n",
      "7025-WCBNE       47            3\n",
      "9788-HNGUT       72            6\n",
      "5229-PRWKT        8            0\n",
      "7562-UXTPG       13            1\n",
      "\n",
      "[4225 rows x 2 columns]\n"
     ]
    }
   ],
   "source": [
    "# Create bins for tenure in terms of years\n",
    "bins = [0, 12, 24, 36, 48, 60, 72, 84]  # adjust as needed\n",
    "\n",
    "# Create labels for the bins (representing years)\n",
    "labels = ['0', '1', '2', '3', '4', '5', '6']\n",
    "\n",
    "# Bin the 'tenure' column\n",
    "train['tenure_years'] = pd.cut(train['tenure'], bins=bins, labels=labels, right=False)\n",
    "\n",
    "# Display the DataFrame with the new 'tenure_years' column\n",
    "print(train[['tenure', 'tenure_years']])"
   ]
  },
  {
   "cell_type": "code",
   "execution_count": 39,
   "id": "f5ac1634",
   "metadata": {},
   "outputs": [
    {
     "data": {
      "text/html": [
       "<div>\n",
       "<style scoped>\n",
       "    .dataframe tbody tr th:only-of-type {\n",
       "        vertical-align: middle;\n",
       "    }\n",
       "\n",
       "    .dataframe tbody tr th {\n",
       "        vertical-align: top;\n",
       "    }\n",
       "\n",
       "    .dataframe thead th {\n",
       "        text-align: right;\n",
       "    }\n",
       "</style>\n",
       "<table border=\"1\" class=\"dataframe\">\n",
       "  <thead>\n",
       "    <tr style=\"text-align: right;\">\n",
       "      <th>tenure_years</th>\n",
       "      <th>0</th>\n",
       "      <th>1</th>\n",
       "      <th>2</th>\n",
       "      <th>3</th>\n",
       "      <th>4</th>\n",
       "      <th>5</th>\n",
       "      <th>6</th>\n",
       "    </tr>\n",
       "    <tr>\n",
       "      <th>churn</th>\n",
       "      <th></th>\n",
       "      <th></th>\n",
       "      <th></th>\n",
       "      <th></th>\n",
       "      <th></th>\n",
       "      <th></th>\n",
       "      <th></th>\n",
       "    </tr>\n",
       "  </thead>\n",
       "  <tbody>\n",
       "    <tr>\n",
       "      <th>No</th>\n",
       "      <td>626</td>\n",
       "      <td>448</td>\n",
       "      <td>422</td>\n",
       "      <td>343</td>\n",
       "      <td>417</td>\n",
       "      <td>620</td>\n",
       "      <td>228</td>\n",
       "    </tr>\n",
       "    <tr>\n",
       "      <th>Yes</th>\n",
       "      <td>609</td>\n",
       "      <td>164</td>\n",
       "      <td>110</td>\n",
       "      <td>95</td>\n",
       "      <td>89</td>\n",
       "      <td>49</td>\n",
       "      <td>5</td>\n",
       "    </tr>\n",
       "  </tbody>\n",
       "</table>\n",
       "</div>"
      ],
      "text/plain": [
       "tenure_years    0    1    2    3    4    5    6\n",
       "churn                                          \n",
       "No            626  448  422  343  417  620  228\n",
       "Yes           609  164  110   95   89   49    5"
      ]
     },
     "execution_count": 39,
     "metadata": {},
     "output_type": "execute_result"
    }
   ],
   "source": [
    "observed_tenure = pd.crosstab(train.churn, train.tenure_years)\n",
    "observed_tenure"
   ]
  },
  {
   "cell_type": "code",
   "execution_count": 40,
   "id": "b60b848a",
   "metadata": {},
   "outputs": [],
   "source": [
    "\n",
    "chi2, p, dof, expected = stats.chi2_contingency(observed_tenure)"
   ]
  },
  {
   "cell_type": "code",
   "execution_count": 41,
   "id": "5a34ee7e",
   "metadata": {},
   "outputs": [
    {
     "name": "stdout",
     "output_type": "stream",
     "text": [
      "Observed\n",
      "[[626 448 422 343 417 620 228]\n",
      " [609 164 110  95  89  49   5]]\n",
      "\n",
      "Expected\n",
      "[[907 449 390 321 371 491 171]\n",
      " [327 162 141 116 134 177  61]]\n",
      "\n",
      "----\n",
      "chi^2 = 561.8805\n",
      "p     = 0.0000\n"
     ]
    }
   ],
   "source": [
    "#output values\n",
    "print('Observed')\n",
    "print(observed_tenure.values)\n",
    "print('\\nExpected')\n",
    "print(expected.astype(int))\n",
    "print('\\n----')\n",
    "print(f'chi^2 = {chi2:.4f}')\n",
    "print(f'p     = {p:.4f}')"
   ]
  },
  {
   "cell_type": "code",
   "execution_count": 42,
   "id": "a76c2406",
   "metadata": {},
   "outputs": [
    {
     "name": "stdout",
     "output_type": "stream",
     "text": [
      "reject the null hypothesis\n"
     ]
    }
   ],
   "source": [
    "# conclusion\n",
    "#compare our p-value and alpha\n",
    "if p < alpha:\n",
    "    print('reject the null hypothesis')\n",
    "else:\n",
    "    print('fail to reject the null hypothesis')"
   ]
  },
  {
   "cell_type": "markdown",
   "id": "38951fc9",
   "metadata": {},
   "source": [
    "This concludes that there is relationship between tenure and churn."
   ]
  },
  {
   "cell_type": "markdown",
   "id": "140135ba",
   "metadata": {},
   "source": [
    "> 4. Summarize\n",
    "\n",
    "New customers are more churned than the low tenure customers."
   ]
  },
  {
   "cell_type": "code",
   "execution_count": 43,
   "id": "852af22a",
   "metadata": {},
   "outputs": [
    {
     "data": {
      "text/html": [
       "<div>\n",
       "<style scoped>\n",
       "    .dataframe tbody tr th:only-of-type {\n",
       "        vertical-align: middle;\n",
       "    }\n",
       "\n",
       "    .dataframe tbody tr th {\n",
       "        vertical-align: top;\n",
       "    }\n",
       "\n",
       "    .dataframe thead th {\n",
       "        text-align: right;\n",
       "    }\n",
       "</style>\n",
       "<table border=\"1\" class=\"dataframe\">\n",
       "  <thead>\n",
       "    <tr style=\"text-align: right;\">\n",
       "      <th></th>\n",
       "      <th>gender</th>\n",
       "      <th>senior_citizen</th>\n",
       "      <th>partner</th>\n",
       "      <th>dependents</th>\n",
       "      <th>tenure</th>\n",
       "      <th>phone_service</th>\n",
       "      <th>multiple_lines</th>\n",
       "      <th>online_security</th>\n",
       "      <th>online_backup</th>\n",
       "      <th>device_protection</th>\n",
       "      <th>...</th>\n",
       "      <th>streaming_tv</th>\n",
       "      <th>streaming_movies</th>\n",
       "      <th>paperless_billing</th>\n",
       "      <th>monthly_charges</th>\n",
       "      <th>total_charges</th>\n",
       "      <th>churn</th>\n",
       "      <th>contract_type</th>\n",
       "      <th>internet_service_type</th>\n",
       "      <th>payment_type</th>\n",
       "      <th>tenure_years</th>\n",
       "    </tr>\n",
       "    <tr>\n",
       "      <th>customer_id</th>\n",
       "      <th></th>\n",
       "      <th></th>\n",
       "      <th></th>\n",
       "      <th></th>\n",
       "      <th></th>\n",
       "      <th></th>\n",
       "      <th></th>\n",
       "      <th></th>\n",
       "      <th></th>\n",
       "      <th></th>\n",
       "      <th></th>\n",
       "      <th></th>\n",
       "      <th></th>\n",
       "      <th></th>\n",
       "      <th></th>\n",
       "      <th></th>\n",
       "      <th></th>\n",
       "      <th></th>\n",
       "      <th></th>\n",
       "      <th></th>\n",
       "      <th></th>\n",
       "    </tr>\n",
       "  </thead>\n",
       "  <tbody>\n",
       "    <tr>\n",
       "      <th>4083-BFNYK</th>\n",
       "      <td>Female</td>\n",
       "      <td>1</td>\n",
       "      <td>Yes</td>\n",
       "      <td>No</td>\n",
       "      <td>38</td>\n",
       "      <td>Yes</td>\n",
       "      <td>Yes</td>\n",
       "      <td>Yes</td>\n",
       "      <td>Yes</td>\n",
       "      <td>No</td>\n",
       "      <td>...</td>\n",
       "      <td>No</td>\n",
       "      <td>Yes</td>\n",
       "      <td>No</td>\n",
       "      <td>95.00</td>\n",
       "      <td>3591.25</td>\n",
       "      <td>No</td>\n",
       "      <td>One year</td>\n",
       "      <td>Fiber optic</td>\n",
       "      <td>Credit card (automatic)</td>\n",
       "      <td>3</td>\n",
       "    </tr>\n",
       "    <tr>\n",
       "      <th>5804-LEPIM</th>\n",
       "      <td>Female</td>\n",
       "      <td>1</td>\n",
       "      <td>No</td>\n",
       "      <td>No</td>\n",
       "      <td>2</td>\n",
       "      <td>Yes</td>\n",
       "      <td>No</td>\n",
       "      <td>No</td>\n",
       "      <td>No</td>\n",
       "      <td>No</td>\n",
       "      <td>...</td>\n",
       "      <td>No</td>\n",
       "      <td>No</td>\n",
       "      <td>Yes</td>\n",
       "      <td>70.35</td>\n",
       "      <td>139.05</td>\n",
       "      <td>Yes</td>\n",
       "      <td>Month-to-month</td>\n",
       "      <td>Fiber optic</td>\n",
       "      <td>Electronic check</td>\n",
       "      <td>0</td>\n",
       "    </tr>\n",
       "    <tr>\n",
       "      <th>4895-TMWIR</th>\n",
       "      <td>Male</td>\n",
       "      <td>1</td>\n",
       "      <td>Yes</td>\n",
       "      <td>No</td>\n",
       "      <td>11</td>\n",
       "      <td>Yes</td>\n",
       "      <td>No</td>\n",
       "      <td>No internet service</td>\n",
       "      <td>No internet service</td>\n",
       "      <td>No internet service</td>\n",
       "      <td>...</td>\n",
       "      <td>No internet service</td>\n",
       "      <td>No internet service</td>\n",
       "      <td>No</td>\n",
       "      <td>19.95</td>\n",
       "      <td>214.75</td>\n",
       "      <td>Yes</td>\n",
       "      <td>Month-to-month</td>\n",
       "      <td>neither</td>\n",
       "      <td>Mailed check</td>\n",
       "      <td>0</td>\n",
       "    </tr>\n",
       "  </tbody>\n",
       "</table>\n",
       "<p>3 rows × 21 columns</p>\n",
       "</div>"
      ],
      "text/plain": [
       "             gender  senior_citizen partner dependents  tenure phone_service  \\\n",
       "customer_id                                                                    \n",
       "4083-BFNYK   Female               1     Yes         No      38           Yes   \n",
       "5804-LEPIM   Female               1      No         No       2           Yes   \n",
       "4895-TMWIR     Male               1     Yes         No      11           Yes   \n",
       "\n",
       "            multiple_lines      online_security        online_backup  \\\n",
       "customer_id                                                            \n",
       "4083-BFNYK             Yes                  Yes                  Yes   \n",
       "5804-LEPIM              No                   No                   No   \n",
       "4895-TMWIR              No  No internet service  No internet service   \n",
       "\n",
       "               device_protection  ...         streaming_tv  \\\n",
       "customer_id                       ...                        \n",
       "4083-BFNYK                    No  ...                   No   \n",
       "5804-LEPIM                    No  ...                   No   \n",
       "4895-TMWIR   No internet service  ...  No internet service   \n",
       "\n",
       "                streaming_movies paperless_billing monthly_charges  \\\n",
       "customer_id                                                          \n",
       "4083-BFNYK                   Yes                No           95.00   \n",
       "5804-LEPIM                    No               Yes           70.35   \n",
       "4895-TMWIR   No internet service                No           19.95   \n",
       "\n",
       "             total_charges  churn   contract_type internet_service_type  \\\n",
       "customer_id                                                               \n",
       "4083-BFNYK         3591.25     No        One year           Fiber optic   \n",
       "5804-LEPIM          139.05    Yes  Month-to-month           Fiber optic   \n",
       "4895-TMWIR          214.75    Yes  Month-to-month               neither   \n",
       "\n",
       "                        payment_type tenure_years  \n",
       "customer_id                                        \n",
       "4083-BFNYK   Credit card (automatic)            3  \n",
       "5804-LEPIM          Electronic check            0  \n",
       "4895-TMWIR              Mailed check            0  \n",
       "\n",
       "[3 rows x 21 columns]"
      ]
     },
     "execution_count": 43,
     "metadata": {},
     "output_type": "execute_result"
    }
   ],
   "source": [
    "train.head(3)"
   ]
  },
  {
   "cell_type": "markdown",
   "id": "d34d8c54",
   "metadata": {},
   "source": [
    "## 4th Hypothesis Test ( relationship test)"
   ]
  },
  {
   "cell_type": "markdown",
   "id": "5941a26d",
   "metadata": {},
   "source": [
    "### Hypothesis:\n",
    "### Q: Does monthly charges indicate whether or not someone churned?"
   ]
  },
  {
   "cell_type": "markdown",
   "id": "0a64038c",
   "metadata": {},
   "source": [
    "## visualization\n"
   ]
  },
  {
   "cell_type": "code",
   "execution_count": 44,
   "id": "cccfa553",
   "metadata": {},
   "outputs": [
    {
     "data": {
      "image/png": "[encoded data removed]",
      "text/plain": [
       "<Figure size 640x480 with 1 Axes>"
      ]
     },
     "metadata": {},
     "output_type": "display_data"
    }
   ],
   "source": [
    "sns.boxplot(data=train, x='churn', y='monthly_charges',hue='churn')\n",
    "plt.show()"
   ]
  },
  {
   "cell_type": "code",
   "execution_count": 45,
   "id": "a613d2aa",
   "metadata": {},
   "outputs": [
    {
     "data": {
      "text/plain": [
       "<Axes: xlabel='monthly_charges', ylabel='Count'>"
      ]
     },
     "execution_count": 45,
     "metadata": {},
     "output_type": "execute_result"
    },
    {
     "data": {
      "image/png": "[encoded data removed]",
      "text/plain": [
       "<Figure size 640x480 with 1 Axes>"
      ]
     },
     "metadata": {},
     "output_type": "display_data"
    }
   ],
   "source": [
    "# histogram of 'monthly_charges'\n",
    "sns.histplot(train.monthly_charges)"
   ]
  },
  {
   "cell_type": "code",
   "execution_count": 46,
   "id": "3161b13d",
   "metadata": {},
   "outputs": [],
   "source": [
    "#make two arrays of peoples for churned and not churned\n",
    "\n",
    "#all the fares for people that survived\n",
    "churned = train[train.churn == 'Yes'].monthly_charges\n",
    "\n",
    "#all the fares for people that didnt survive\n",
    "not_churned = train[train.churn == 'No'].monthly_charges"
   ]
  },
  {
   "cell_type": "code",
   "execution_count": 47,
   "id": "a6b14877",
   "metadata": {},
   "outputs": [
    {
     "name": "stdout",
     "output_type": "stream",
     "text": [
      "churned shape:(1121,)\n",
      "not_churned shape:(3104,)\n"
     ]
    }
   ],
   "source": [
    "print(f'churned shape:{churned.shape}')\n",
    "print(f'not_churned shape:{not_churned.shape}')\n"
   ]
  },
  {
   "cell_type": "code",
   "execution_count": 48,
   "id": "6d64223a",
   "metadata": {},
   "outputs": [
    {
     "data": {
      "text/plain": [
       "(0.9185670018196106, 5.647232811229013e-43)"
      ]
     },
     "execution_count": 48,
     "metadata": {},
     "output_type": "execute_result"
    }
   ],
   "source": [
    "# for normality check\n",
    "sha_stat, p_val = stats.shapiro(train.monthly_charges)\n",
    "sha_stat, p_val"
   ]
  },
  {
   "cell_type": "markdown",
   "id": "42947729",
   "metadata": {},
   "source": [
    "since p_val<alpha, so we reject Ho. This conclude that monthly_charges does not follow the normal distribution."
   ]
  },
  {
   "cell_type": "markdown",
   "id": "da3eb5b9",
   "metadata": {},
   "source": [
    "### Analyze:\n",
    "Ho: there is no relationship between 'churn' and 'monthly_charges'.\n",
    "\n",
    "Ha: there is relationship between 'churn' and 'monthly_charges'."
   ]
  },
  {
   "cell_type": "code",
   "execution_count": 49,
   "id": "8fec86ea",
   "metadata": {},
   "outputs": [
    {
     "name": "stdout",
     "output_type": "stream",
     "text": [
      "stat:2136241.0\n",
      "p_value:9.83259830397179e-30\n"
     ]
    }
   ],
   "source": [
    "# since 'monthly_charges' does not follow the normal distribution, so \n",
    "# for the comparision of two sample means (churned vs not_churned), we use mann-whitney test\n",
    "\n",
    "# Performing a mann-whitney\n",
    "\n",
    "stat, p_value = stats.mannwhitneyu(churned,not_churned)\n",
    "print(f'stat:{stat}')\n",
    "print(f'p_value:{p_value}')"
   ]
  },
  {
   "cell_type": "markdown",
   "id": "55fe0eef",
   "metadata": {},
   "source": [
    "since p_value < alpha, so we reject Ho. This conclude that there is relationship between 'churn' and 'monthly_charges'."
   ]
  },
  {
   "cell_type": "markdown",
   "id": "47e0af26",
   "metadata": {},
   "source": [
    "## summarize:\n",
    "By visualization shows that whose customer has monthly charges high, they churned. Further, mannwhitneyu test shows there is a storng relation between 'churn' and 'monthly_charges. \n",
    "\n",
    "so i might put some recommendation that instead of monthly contract customer, we might offer some good discount rate those customers who will sign up for a year contract."
   ]
  },
  {
   "cell_type": "markdown",
   "id": "7df990b3",
   "metadata": {},
   "source": [
    "### drop 'tenure_years'"
   ]
  },
  {
   "cell_type": "code",
   "execution_count": 50,
   "id": "5fa193ad",
   "metadata": {},
   "outputs": [],
   "source": [
    "train=train.drop(columns='tenure_years')"
   ]
  },
  {
   "cell_type": "code",
   "execution_count": 51,
   "id": "71c6fa1e",
   "metadata": {},
   "outputs": [
    {
     "data": {
      "text/html": [
       "<div>\n",
       "<style scoped>\n",
       "    .dataframe tbody tr th:only-of-type {\n",
       "        vertical-align: middle;\n",
       "    }\n",
       "\n",
       "    .dataframe tbody tr th {\n",
       "        vertical-align: top;\n",
       "    }\n",
       "\n",
       "    .dataframe thead th {\n",
       "        text-align: right;\n",
       "    }\n",
       "</style>\n",
       "<table border=\"1\" class=\"dataframe\">\n",
       "  <thead>\n",
       "    <tr style=\"text-align: right;\">\n",
       "      <th></th>\n",
       "      <th>gender</th>\n",
       "      <th>senior_citizen</th>\n",
       "      <th>partner</th>\n",
       "      <th>dependents</th>\n",
       "      <th>tenure</th>\n",
       "      <th>phone_service</th>\n",
       "      <th>multiple_lines</th>\n",
       "      <th>online_security</th>\n",
       "      <th>online_backup</th>\n",
       "      <th>device_protection</th>\n",
       "      <th>tech_support</th>\n",
       "      <th>streaming_tv</th>\n",
       "      <th>streaming_movies</th>\n",
       "      <th>paperless_billing</th>\n",
       "      <th>monthly_charges</th>\n",
       "      <th>total_charges</th>\n",
       "      <th>churn</th>\n",
       "      <th>contract_type</th>\n",
       "      <th>internet_service_type</th>\n",
       "      <th>payment_type</th>\n",
       "    </tr>\n",
       "    <tr>\n",
       "      <th>customer_id</th>\n",
       "      <th></th>\n",
       "      <th></th>\n",
       "      <th></th>\n",
       "      <th></th>\n",
       "      <th></th>\n",
       "      <th></th>\n",
       "      <th></th>\n",
       "      <th></th>\n",
       "      <th></th>\n",
       "      <th></th>\n",
       "      <th></th>\n",
       "      <th></th>\n",
       "      <th></th>\n",
       "      <th></th>\n",
       "      <th></th>\n",
       "      <th></th>\n",
       "      <th></th>\n",
       "      <th></th>\n",
       "      <th></th>\n",
       "      <th></th>\n",
       "    </tr>\n",
       "  </thead>\n",
       "  <tbody>\n",
       "    <tr>\n",
       "      <th>4083-BFNYK</th>\n",
       "      <td>Female</td>\n",
       "      <td>1</td>\n",
       "      <td>Yes</td>\n",
       "      <td>No</td>\n",
       "      <td>38</td>\n",
       "      <td>Yes</td>\n",
       "      <td>Yes</td>\n",
       "      <td>Yes</td>\n",
       "      <td>Yes</td>\n",
       "      <td>No</td>\n",
       "      <td>No</td>\n",
       "      <td>No</td>\n",
       "      <td>Yes</td>\n",
       "      <td>No</td>\n",
       "      <td>95.00</td>\n",
       "      <td>3591.25</td>\n",
       "      <td>No</td>\n",
       "      <td>One year</td>\n",
       "      <td>Fiber optic</td>\n",
       "      <td>Credit card (automatic)</td>\n",
       "    </tr>\n",
       "    <tr>\n",
       "      <th>5804-LEPIM</th>\n",
       "      <td>Female</td>\n",
       "      <td>1</td>\n",
       "      <td>No</td>\n",
       "      <td>No</td>\n",
       "      <td>2</td>\n",
       "      <td>Yes</td>\n",
       "      <td>No</td>\n",
       "      <td>No</td>\n",
       "      <td>No</td>\n",
       "      <td>No</td>\n",
       "      <td>No</td>\n",
       "      <td>No</td>\n",
       "      <td>No</td>\n",
       "      <td>Yes</td>\n",
       "      <td>70.35</td>\n",
       "      <td>139.05</td>\n",
       "      <td>Yes</td>\n",
       "      <td>Month-to-month</td>\n",
       "      <td>Fiber optic</td>\n",
       "      <td>Electronic check</td>\n",
       "    </tr>\n",
       "    <tr>\n",
       "      <th>4895-TMWIR</th>\n",
       "      <td>Male</td>\n",
       "      <td>1</td>\n",
       "      <td>Yes</td>\n",
       "      <td>No</td>\n",
       "      <td>11</td>\n",
       "      <td>Yes</td>\n",
       "      <td>No</td>\n",
       "      <td>No internet service</td>\n",
       "      <td>No internet service</td>\n",
       "      <td>No internet service</td>\n",
       "      <td>No internet service</td>\n",
       "      <td>No internet service</td>\n",
       "      <td>No internet service</td>\n",
       "      <td>No</td>\n",
       "      <td>19.95</td>\n",
       "      <td>214.75</td>\n",
       "      <td>Yes</td>\n",
       "      <td>Month-to-month</td>\n",
       "      <td>neither</td>\n",
       "      <td>Mailed check</td>\n",
       "    </tr>\n",
       "  </tbody>\n",
       "</table>\n",
       "</div>"
      ],
      "text/plain": [
       "             gender  senior_citizen partner dependents  tenure phone_service  \\\n",
       "customer_id                                                                    \n",
       "4083-BFNYK   Female               1     Yes         No      38           Yes   \n",
       "5804-LEPIM   Female               1      No         No       2           Yes   \n",
       "4895-TMWIR     Male               1     Yes         No      11           Yes   \n",
       "\n",
       "            multiple_lines      online_security        online_backup  \\\n",
       "customer_id                                                            \n",
       "4083-BFNYK             Yes                  Yes                  Yes   \n",
       "5804-LEPIM              No                   No                   No   \n",
       "4895-TMWIR              No  No internet service  No internet service   \n",
       "\n",
       "               device_protection         tech_support         streaming_tv  \\\n",
       "customer_id                                                                  \n",
       "4083-BFNYK                    No                   No                   No   \n",
       "5804-LEPIM                    No                   No                   No   \n",
       "4895-TMWIR   No internet service  No internet service  No internet service   \n",
       "\n",
       "                streaming_movies paperless_billing  monthly_charges  \\\n",
       "customer_id                                                           \n",
       "4083-BFNYK                   Yes                No            95.00   \n",
       "5804-LEPIM                    No               Yes            70.35   \n",
       "4895-TMWIR   No internet service                No            19.95   \n",
       "\n",
       "             total_charges churn   contract_type internet_service_type  \\\n",
       "customer_id                                                              \n",
       "4083-BFNYK         3591.25    No        One year           Fiber optic   \n",
       "5804-LEPIM          139.05   Yes  Month-to-month           Fiber optic   \n",
       "4895-TMWIR          214.75   Yes  Month-to-month               neither   \n",
       "\n",
       "                        payment_type  \n",
       "customer_id                           \n",
       "4083-BFNYK   Credit card (automatic)  \n",
       "5804-LEPIM          Electronic check  \n",
       "4895-TMWIR              Mailed check  "
      ]
     },
     "execution_count": 51,
     "metadata": {},
     "output_type": "execute_result"
    }
   ],
   "source": [
    "train.head(3)"
   ]
  },
  {
   "cell_type": "markdown",
   "id": "de153d1b",
   "metadata": {},
   "source": [
    "# preprocessing "
   ]
  },
  {
   "cell_type": "code",
   "execution_count": 52,
   "id": "706ad51e",
   "metadata": {},
   "outputs": [],
   "source": [
    "# encoding with each dataframes train, validate, and test"
   ]
  },
  {
   "cell_type": "code",
   "execution_count": 53,
   "id": "0824ef0c",
   "metadata": {},
   "outputs": [],
   "source": [
    "train_en,val_en,test_en=m.preprocess_telco(train,val,test) \n"
   ]
  },
  {
   "cell_type": "code",
   "execution_count": 54,
   "id": "f51b7651",
   "metadata": {},
   "outputs": [
    {
     "data": {
      "text/html": [
       "<div>\n",
       "<style scoped>\n",
       "    .dataframe tbody tr th:only-of-type {\n",
       "        vertical-align: middle;\n",
       "    }\n",
       "\n",
       "    .dataframe tbody tr th {\n",
       "        vertical-align: top;\n",
       "    }\n",
       "\n",
       "    .dataframe thead th {\n",
       "        text-align: right;\n",
       "    }\n",
       "</style>\n",
       "<table border=\"1\" class=\"dataframe\">\n",
       "  <thead>\n",
       "    <tr style=\"text-align: right;\">\n",
       "      <th></th>\n",
       "      <th>senior_citizen</th>\n",
       "      <th>tenure</th>\n",
       "      <th>monthly_charges</th>\n",
       "      <th>total_charges</th>\n",
       "      <th>gender_Male</th>\n",
       "      <th>partner_Yes</th>\n",
       "      <th>dependents_Yes</th>\n",
       "      <th>phone_service_Yes</th>\n",
       "      <th>multiple_lines_No phone service</th>\n",
       "      <th>multiple_lines_Yes</th>\n",
       "      <th>...</th>\n",
       "      <th>streaming_movies_Yes</th>\n",
       "      <th>paperless_billing_Yes</th>\n",
       "      <th>churn_Yes</th>\n",
       "      <th>contract_type_One year</th>\n",
       "      <th>contract_type_Two year</th>\n",
       "      <th>internet_service_type_Fiber optic</th>\n",
       "      <th>internet_service_type_neither</th>\n",
       "      <th>payment_type_Credit card (automatic)</th>\n",
       "      <th>payment_type_Electronic check</th>\n",
       "      <th>payment_type_Mailed check</th>\n",
       "    </tr>\n",
       "    <tr>\n",
       "      <th>customer_id</th>\n",
       "      <th></th>\n",
       "      <th></th>\n",
       "      <th></th>\n",
       "      <th></th>\n",
       "      <th></th>\n",
       "      <th></th>\n",
       "      <th></th>\n",
       "      <th></th>\n",
       "      <th></th>\n",
       "      <th></th>\n",
       "      <th></th>\n",
       "      <th></th>\n",
       "      <th></th>\n",
       "      <th></th>\n",
       "      <th></th>\n",
       "      <th></th>\n",
       "      <th></th>\n",
       "      <th></th>\n",
       "      <th></th>\n",
       "      <th></th>\n",
       "      <th></th>\n",
       "    </tr>\n",
       "  </thead>\n",
       "  <tbody>\n",
       "    <tr>\n",
       "      <th>4083-BFNYK</th>\n",
       "      <td>1</td>\n",
       "      <td>38</td>\n",
       "      <td>95.00</td>\n",
       "      <td>3591.25</td>\n",
       "      <td>0</td>\n",
       "      <td>1</td>\n",
       "      <td>0</td>\n",
       "      <td>1</td>\n",
       "      <td>0</td>\n",
       "      <td>1</td>\n",
       "      <td>...</td>\n",
       "      <td>1</td>\n",
       "      <td>0</td>\n",
       "      <td>0</td>\n",
       "      <td>1</td>\n",
       "      <td>0</td>\n",
       "      <td>1</td>\n",
       "      <td>0</td>\n",
       "      <td>1</td>\n",
       "      <td>0</td>\n",
       "      <td>0</td>\n",
       "    </tr>\n",
       "    <tr>\n",
       "      <th>5804-LEPIM</th>\n",
       "      <td>1</td>\n",
       "      <td>2</td>\n",
       "      <td>70.35</td>\n",
       "      <td>139.05</td>\n",
       "      <td>0</td>\n",
       "      <td>0</td>\n",
       "      <td>0</td>\n",
       "      <td>1</td>\n",
       "      <td>0</td>\n",
       "      <td>0</td>\n",
       "      <td>...</td>\n",
       "      <td>0</td>\n",
       "      <td>1</td>\n",
       "      <td>1</td>\n",
       "      <td>0</td>\n",
       "      <td>0</td>\n",
       "      <td>1</td>\n",
       "      <td>0</td>\n",
       "      <td>0</td>\n",
       "      <td>1</td>\n",
       "      <td>0</td>\n",
       "    </tr>\n",
       "    <tr>\n",
       "      <th>4895-TMWIR</th>\n",
       "      <td>1</td>\n",
       "      <td>11</td>\n",
       "      <td>19.95</td>\n",
       "      <td>214.75</td>\n",
       "      <td>1</td>\n",
       "      <td>1</td>\n",
       "      <td>0</td>\n",
       "      <td>1</td>\n",
       "      <td>0</td>\n",
       "      <td>0</td>\n",
       "      <td>...</td>\n",
       "      <td>0</td>\n",
       "      <td>0</td>\n",
       "      <td>1</td>\n",
       "      <td>0</td>\n",
       "      <td>0</td>\n",
       "      <td>0</td>\n",
       "      <td>1</td>\n",
       "      <td>0</td>\n",
       "      <td>0</td>\n",
       "      <td>1</td>\n",
       "    </tr>\n",
       "  </tbody>\n",
       "</table>\n",
       "<p>3 rows × 31 columns</p>\n",
       "</div>"
      ],
      "text/plain": [
       "             senior_citizen  tenure  monthly_charges  total_charges  \\\n",
       "customer_id                                                           \n",
       "4083-BFNYK                1      38            95.00        3591.25   \n",
       "5804-LEPIM                1       2            70.35         139.05   \n",
       "4895-TMWIR                1      11            19.95         214.75   \n",
       "\n",
       "             gender_Male  partner_Yes  dependents_Yes  phone_service_Yes  \\\n",
       "customer_id                                                                \n",
       "4083-BFNYK             0            1               0                  1   \n",
       "5804-LEPIM             0            0               0                  1   \n",
       "4895-TMWIR             1            1               0                  1   \n",
       "\n",
       "             multiple_lines_No phone service  multiple_lines_Yes  ...  \\\n",
       "customer_id                                                       ...   \n",
       "4083-BFNYK                                 0                   1  ...   \n",
       "5804-LEPIM                                 0                   0  ...   \n",
       "4895-TMWIR                                 0                   0  ...   \n",
       "\n",
       "             streaming_movies_Yes  paperless_billing_Yes  churn_Yes  \\\n",
       "customer_id                                                           \n",
       "4083-BFNYK                      1                      0          0   \n",
       "5804-LEPIM                      0                      1          1   \n",
       "4895-TMWIR                      0                      0          1   \n",
       "\n",
       "             contract_type_One year  contract_type_Two year  \\\n",
       "customer_id                                                   \n",
       "4083-BFNYK                        1                       0   \n",
       "5804-LEPIM                        0                       0   \n",
       "4895-TMWIR                        0                       0   \n",
       "\n",
       "             internet_service_type_Fiber optic  internet_service_type_neither  \\\n",
       "customer_id                                                                     \n",
       "4083-BFNYK                                   1                              0   \n",
       "5804-LEPIM                                   1                              0   \n",
       "4895-TMWIR                                   0                              1   \n",
       "\n",
       "             payment_type_Credit card (automatic)  \\\n",
       "customer_id                                         \n",
       "4083-BFNYK                                      1   \n",
       "5804-LEPIM                                      0   \n",
       "4895-TMWIR                                      0   \n",
       "\n",
       "             payment_type_Electronic check  payment_type_Mailed check  \n",
       "customer_id                                                            \n",
       "4083-BFNYK                               0                          0  \n",
       "5804-LEPIM                               1                          0  \n",
       "4895-TMWIR                               0                          1  \n",
       "\n",
       "[3 rows x 31 columns]"
      ]
     },
     "execution_count": 54,
     "metadata": {},
     "output_type": "execute_result"
    }
   ],
   "source": [
    "train_en.head(3)"
   ]
  },
  {
   "cell_type": "code",
   "execution_count": 55,
   "id": "6c050afd",
   "metadata": {},
   "outputs": [],
   "source": [
    "# separate independents feature & target\n",
    "\n",
    "X_train, y_train = train_en.drop(columns='churn_Yes'), train_en.churn_Yes\n",
    "X_validate, y_validate = val_en.drop(columns='churn_Yes'), val_en.churn_Yes\n",
    "X_test, y_test = test_en.drop(columns='churn_Yes'), test_en.churn_Yes"
   ]
  },
  {
   "cell_type": "code",
   "execution_count": 56,
   "id": "77f4ec96",
   "metadata": {},
   "outputs": [
    {
     "data": {
      "text/html": [
       "<div>\n",
       "<style scoped>\n",
       "    .dataframe tbody tr th:only-of-type {\n",
       "        vertical-align: middle;\n",
       "    }\n",
       "\n",
       "    .dataframe tbody tr th {\n",
       "        vertical-align: top;\n",
       "    }\n",
       "\n",
       "    .dataframe thead th {\n",
       "        text-align: right;\n",
       "    }\n",
       "</style>\n",
       "<table border=\"1\" class=\"dataframe\">\n",
       "  <thead>\n",
       "    <tr style=\"text-align: right;\">\n",
       "      <th></th>\n",
       "      <th>senior_citizen</th>\n",
       "      <th>tenure</th>\n",
       "      <th>monthly_charges</th>\n",
       "      <th>total_charges</th>\n",
       "      <th>gender_Male</th>\n",
       "      <th>partner_Yes</th>\n",
       "      <th>dependents_Yes</th>\n",
       "      <th>phone_service_Yes</th>\n",
       "      <th>multiple_lines_No phone service</th>\n",
       "      <th>multiple_lines_Yes</th>\n",
       "      <th>...</th>\n",
       "      <th>streaming_movies_No internet service</th>\n",
       "      <th>streaming_movies_Yes</th>\n",
       "      <th>paperless_billing_Yes</th>\n",
       "      <th>contract_type_One year</th>\n",
       "      <th>contract_type_Two year</th>\n",
       "      <th>internet_service_type_Fiber optic</th>\n",
       "      <th>internet_service_type_neither</th>\n",
       "      <th>payment_type_Credit card (automatic)</th>\n",
       "      <th>payment_type_Electronic check</th>\n",
       "      <th>payment_type_Mailed check</th>\n",
       "    </tr>\n",
       "    <tr>\n",
       "      <th>customer_id</th>\n",
       "      <th></th>\n",
       "      <th></th>\n",
       "      <th></th>\n",
       "      <th></th>\n",
       "      <th></th>\n",
       "      <th></th>\n",
       "      <th></th>\n",
       "      <th></th>\n",
       "      <th></th>\n",
       "      <th></th>\n",
       "      <th></th>\n",
       "      <th></th>\n",
       "      <th></th>\n",
       "      <th></th>\n",
       "      <th></th>\n",
       "      <th></th>\n",
       "      <th></th>\n",
       "      <th></th>\n",
       "      <th></th>\n",
       "      <th></th>\n",
       "      <th></th>\n",
       "    </tr>\n",
       "  </thead>\n",
       "  <tbody>\n",
       "    <tr>\n",
       "      <th>4083-BFNYK</th>\n",
       "      <td>1</td>\n",
       "      <td>38</td>\n",
       "      <td>95.00</td>\n",
       "      <td>3591.25</td>\n",
       "      <td>0</td>\n",
       "      <td>1</td>\n",
       "      <td>0</td>\n",
       "      <td>1</td>\n",
       "      <td>0</td>\n",
       "      <td>1</td>\n",
       "      <td>...</td>\n",
       "      <td>0</td>\n",
       "      <td>1</td>\n",
       "      <td>0</td>\n",
       "      <td>1</td>\n",
       "      <td>0</td>\n",
       "      <td>1</td>\n",
       "      <td>0</td>\n",
       "      <td>1</td>\n",
       "      <td>0</td>\n",
       "      <td>0</td>\n",
       "    </tr>\n",
       "    <tr>\n",
       "      <th>5804-LEPIM</th>\n",
       "      <td>1</td>\n",
       "      <td>2</td>\n",
       "      <td>70.35</td>\n",
       "      <td>139.05</td>\n",
       "      <td>0</td>\n",
       "      <td>0</td>\n",
       "      <td>0</td>\n",
       "      <td>1</td>\n",
       "      <td>0</td>\n",
       "      <td>0</td>\n",
       "      <td>...</td>\n",
       "      <td>0</td>\n",
       "      <td>0</td>\n",
       "      <td>1</td>\n",
       "      <td>0</td>\n",
       "      <td>0</td>\n",
       "      <td>1</td>\n",
       "      <td>0</td>\n",
       "      <td>0</td>\n",
       "      <td>1</td>\n",
       "      <td>0</td>\n",
       "    </tr>\n",
       "    <tr>\n",
       "      <th>4895-TMWIR</th>\n",
       "      <td>1</td>\n",
       "      <td>11</td>\n",
       "      <td>19.95</td>\n",
       "      <td>214.75</td>\n",
       "      <td>1</td>\n",
       "      <td>1</td>\n",
       "      <td>0</td>\n",
       "      <td>1</td>\n",
       "      <td>0</td>\n",
       "      <td>0</td>\n",
       "      <td>...</td>\n",
       "      <td>1</td>\n",
       "      <td>0</td>\n",
       "      <td>0</td>\n",
       "      <td>0</td>\n",
       "      <td>0</td>\n",
       "      <td>0</td>\n",
       "      <td>1</td>\n",
       "      <td>0</td>\n",
       "      <td>0</td>\n",
       "      <td>1</td>\n",
       "    </tr>\n",
       "  </tbody>\n",
       "</table>\n",
       "<p>3 rows × 30 columns</p>\n",
       "</div>"
      ],
      "text/plain": [
       "             senior_citizen  tenure  monthly_charges  total_charges  \\\n",
       "customer_id                                                           \n",
       "4083-BFNYK                1      38            95.00        3591.25   \n",
       "5804-LEPIM                1       2            70.35         139.05   \n",
       "4895-TMWIR                1      11            19.95         214.75   \n",
       "\n",
       "             gender_Male  partner_Yes  dependents_Yes  phone_service_Yes  \\\n",
       "customer_id                                                                \n",
       "4083-BFNYK             0            1               0                  1   \n",
       "5804-LEPIM             0            0               0                  1   \n",
       "4895-TMWIR             1            1               0                  1   \n",
       "\n",
       "             multiple_lines_No phone service  multiple_lines_Yes  ...  \\\n",
       "customer_id                                                       ...   \n",
       "4083-BFNYK                                 0                   1  ...   \n",
       "5804-LEPIM                                 0                   0  ...   \n",
       "4895-TMWIR                                 0                   0  ...   \n",
       "\n",
       "             streaming_movies_No internet service  streaming_movies_Yes  \\\n",
       "customer_id                                                               \n",
       "4083-BFNYK                                      0                     1   \n",
       "5804-LEPIM                                      0                     0   \n",
       "4895-TMWIR                                      1                     0   \n",
       "\n",
       "             paperless_billing_Yes  contract_type_One year  \\\n",
       "customer_id                                                  \n",
       "4083-BFNYK                       0                       1   \n",
       "5804-LEPIM                       1                       0   \n",
       "4895-TMWIR                       0                       0   \n",
       "\n",
       "             contract_type_Two year  internet_service_type_Fiber optic  \\\n",
       "customer_id                                                              \n",
       "4083-BFNYK                        0                                  1   \n",
       "5804-LEPIM                        0                                  1   \n",
       "4895-TMWIR                        0                                  0   \n",
       "\n",
       "             internet_service_type_neither  \\\n",
       "customer_id                                  \n",
       "4083-BFNYK                               0   \n",
       "5804-LEPIM                               0   \n",
       "4895-TMWIR                               1   \n",
       "\n",
       "             payment_type_Credit card (automatic)  \\\n",
       "customer_id                                         \n",
       "4083-BFNYK                                      1   \n",
       "5804-LEPIM                                      0   \n",
       "4895-TMWIR                                      0   \n",
       "\n",
       "             payment_type_Electronic check  payment_type_Mailed check  \n",
       "customer_id                                                            \n",
       "4083-BFNYK                               0                          0  \n",
       "5804-LEPIM                               1                          0  \n",
       "4895-TMWIR                               0                          1  \n",
       "\n",
       "[3 rows x 30 columns]"
      ]
     },
     "execution_count": 56,
     "metadata": {},
     "output_type": "execute_result"
    }
   ],
   "source": [
    "X_train.head(3)\n",
    "            "
   ]
  },
  {
   "cell_type": "code",
   "execution_count": 57,
   "id": "c3ba0294",
   "metadata": {},
   "outputs": [
    {
     "data": {
      "text/html": [
       "<div>\n",
       "<style scoped>\n",
       "    .dataframe tbody tr th:only-of-type {\n",
       "        vertical-align: middle;\n",
       "    }\n",
       "\n",
       "    .dataframe tbody tr th {\n",
       "        vertical-align: top;\n",
       "    }\n",
       "\n",
       "    .dataframe thead th {\n",
       "        text-align: right;\n",
       "    }\n",
       "</style>\n",
       "<table border=\"1\" class=\"dataframe\">\n",
       "  <thead>\n",
       "    <tr style=\"text-align: right;\">\n",
       "      <th></th>\n",
       "      <th>senior_citizen</th>\n",
       "      <th>tenure</th>\n",
       "      <th>monthly_charges</th>\n",
       "      <th>total_charges</th>\n",
       "      <th>gender_Male</th>\n",
       "      <th>partner_Yes</th>\n",
       "      <th>dependents_Yes</th>\n",
       "      <th>phone_service_Yes</th>\n",
       "      <th>multiple_lines_No phone service</th>\n",
       "      <th>multiple_lines_Yes</th>\n",
       "      <th>...</th>\n",
       "      <th>streaming_movies_No internet service</th>\n",
       "      <th>streaming_movies_Yes</th>\n",
       "      <th>paperless_billing_Yes</th>\n",
       "      <th>contract_type_One year</th>\n",
       "      <th>contract_type_Two year</th>\n",
       "      <th>internet_service_type_Fiber optic</th>\n",
       "      <th>internet_service_type_neither</th>\n",
       "      <th>payment_type_Credit card (automatic)</th>\n",
       "      <th>payment_type_Electronic check</th>\n",
       "      <th>payment_type_Mailed check</th>\n",
       "    </tr>\n",
       "    <tr>\n",
       "      <th>customer_id</th>\n",
       "      <th></th>\n",
       "      <th></th>\n",
       "      <th></th>\n",
       "      <th></th>\n",
       "      <th></th>\n",
       "      <th></th>\n",
       "      <th></th>\n",
       "      <th></th>\n",
       "      <th></th>\n",
       "      <th></th>\n",
       "      <th></th>\n",
       "      <th></th>\n",
       "      <th></th>\n",
       "      <th></th>\n",
       "      <th></th>\n",
       "      <th></th>\n",
       "      <th></th>\n",
       "      <th></th>\n",
       "      <th></th>\n",
       "      <th></th>\n",
       "      <th></th>\n",
       "    </tr>\n",
       "  </thead>\n",
       "  <tbody>\n",
       "    <tr>\n",
       "      <th>0486-LGCCH</th>\n",
       "      <td>0</td>\n",
       "      <td>11</td>\n",
       "      <td>19.65</td>\n",
       "      <td>225.75</td>\n",
       "      <td>1</td>\n",
       "      <td>1</td>\n",
       "      <td>1</td>\n",
       "      <td>1</td>\n",
       "      <td>0</td>\n",
       "      <td>0</td>\n",
       "      <td>...</td>\n",
       "      <td>1</td>\n",
       "      <td>0</td>\n",
       "      <td>0</td>\n",
       "      <td>0</td>\n",
       "      <td>1</td>\n",
       "      <td>0</td>\n",
       "      <td>1</td>\n",
       "      <td>0</td>\n",
       "      <td>0</td>\n",
       "      <td>1</td>\n",
       "    </tr>\n",
       "    <tr>\n",
       "      <th>8436-BJUMM</th>\n",
       "      <td>0</td>\n",
       "      <td>26</td>\n",
       "      <td>83.75</td>\n",
       "      <td>2070.60</td>\n",
       "      <td>1</td>\n",
       "      <td>1</td>\n",
       "      <td>1</td>\n",
       "      <td>1</td>\n",
       "      <td>0</td>\n",
       "      <td>1</td>\n",
       "      <td>...</td>\n",
       "      <td>0</td>\n",
       "      <td>0</td>\n",
       "      <td>1</td>\n",
       "      <td>0</td>\n",
       "      <td>0</td>\n",
       "      <td>1</td>\n",
       "      <td>0</td>\n",
       "      <td>0</td>\n",
       "      <td>1</td>\n",
       "      <td>0</td>\n",
       "    </tr>\n",
       "    <tr>\n",
       "      <th>7816-VGHTO</th>\n",
       "      <td>0</td>\n",
       "      <td>6</td>\n",
       "      <td>40.55</td>\n",
       "      <td>217.50</td>\n",
       "      <td>0</td>\n",
       "      <td>1</td>\n",
       "      <td>1</td>\n",
       "      <td>0</td>\n",
       "      <td>1</td>\n",
       "      <td>0</td>\n",
       "      <td>...</td>\n",
       "      <td>0</td>\n",
       "      <td>0</td>\n",
       "      <td>0</td>\n",
       "      <td>0</td>\n",
       "      <td>1</td>\n",
       "      <td>0</td>\n",
       "      <td>0</td>\n",
       "      <td>0</td>\n",
       "      <td>0</td>\n",
       "      <td>1</td>\n",
       "    </tr>\n",
       "  </tbody>\n",
       "</table>\n",
       "<p>3 rows × 30 columns</p>\n",
       "</div>"
      ],
      "text/plain": [
       "             senior_citizen  tenure  monthly_charges  total_charges  \\\n",
       "customer_id                                                           \n",
       "0486-LGCCH                0      11            19.65         225.75   \n",
       "8436-BJUMM                0      26            83.75        2070.60   \n",
       "7816-VGHTO                0       6            40.55         217.50   \n",
       "\n",
       "             gender_Male  partner_Yes  dependents_Yes  phone_service_Yes  \\\n",
       "customer_id                                                                \n",
       "0486-LGCCH             1            1               1                  1   \n",
       "8436-BJUMM             1            1               1                  1   \n",
       "7816-VGHTO             0            1               1                  0   \n",
       "\n",
       "             multiple_lines_No phone service  multiple_lines_Yes  ...  \\\n",
       "customer_id                                                       ...   \n",
       "0486-LGCCH                                 0                   0  ...   \n",
       "8436-BJUMM                                 0                   1  ...   \n",
       "7816-VGHTO                                 1                   0  ...   \n",
       "\n",
       "             streaming_movies_No internet service  streaming_movies_Yes  \\\n",
       "customer_id                                                               \n",
       "0486-LGCCH                                      1                     0   \n",
       "8436-BJUMM                                      0                     0   \n",
       "7816-VGHTO                                      0                     0   \n",
       "\n",
       "             paperless_billing_Yes  contract_type_One year  \\\n",
       "customer_id                                                  \n",
       "0486-LGCCH                       0                       0   \n",
       "8436-BJUMM                       1                       0   \n",
       "7816-VGHTO                       0                       0   \n",
       "\n",
       "             contract_type_Two year  internet_service_type_Fiber optic  \\\n",
       "customer_id                                                              \n",
       "0486-LGCCH                        1                                  0   \n",
       "8436-BJUMM                        0                                  1   \n",
       "7816-VGHTO                        1                                  0   \n",
       "\n",
       "             internet_service_type_neither  \\\n",
       "customer_id                                  \n",
       "0486-LGCCH                               1   \n",
       "8436-BJUMM                               0   \n",
       "7816-VGHTO                               0   \n",
       "\n",
       "             payment_type_Credit card (automatic)  \\\n",
       "customer_id                                         \n",
       "0486-LGCCH                                      0   \n",
       "8436-BJUMM                                      0   \n",
       "7816-VGHTO                                      0   \n",
       "\n",
       "             payment_type_Electronic check  payment_type_Mailed check  \n",
       "customer_id                                                            \n",
       "0486-LGCCH                               0                          1  \n",
       "8436-BJUMM                               1                          0  \n",
       "7816-VGHTO                               0                          1  \n",
       "\n",
       "[3 rows x 30 columns]"
      ]
     },
     "execution_count": 57,
     "metadata": {},
     "output_type": "execute_result"
    }
   ],
   "source": [
    "X_validate.head(3)"
   ]
  },
  {
   "cell_type": "code",
   "execution_count": 58,
   "id": "0af64fc6",
   "metadata": {
    "scrolled": true
   },
   "outputs": [
    {
     "data": {
      "text/plain": [
       "customer_id\n",
       "4083-BFNYK    0\n",
       "5804-LEPIM    1\n",
       "4895-TMWIR    1\n",
       "Name: churn_Yes, dtype: int64"
      ]
     },
     "execution_count": 58,
     "metadata": {},
     "output_type": "execute_result"
    }
   ],
   "source": [
    "y_train.head(3)"
   ]
  },
  {
   "cell_type": "markdown",
   "id": "0282ebdf",
   "metadata": {},
   "source": [
    "### baseline from train dataframe"
   ]
  },
  {
   "cell_type": "code",
   "execution_count": 59,
   "id": "34f3223d",
   "metadata": {
    "scrolled": true
   },
   "outputs": [
    {
     "data": {
      "text/plain": [
       "churn_Yes\n",
       "0    3104\n",
       "1    1121\n",
       "Name: count, dtype: int64"
      ]
     },
     "execution_count": 59,
     "metadata": {},
     "output_type": "execute_result"
    }
   ],
   "source": [
    "# i am going to find the baseline of churn\n",
    "y_train.value_counts()"
   ]
  },
  {
   "cell_type": "code",
   "execution_count": 60,
   "id": "561ea004",
   "metadata": {},
   "outputs": [
    {
     "data": {
      "text/plain": [
       "0    0\n",
       "Name: churn_Yes, dtype: int64"
      ]
     },
     "execution_count": 60,
     "metadata": {},
     "output_type": "execute_result"
    }
   ],
   "source": [
    "# i am going to find the baseline of churn\n",
    "y_train.mode()"
   ]
  },
  {
   "cell_type": "code",
   "execution_count": 61,
   "id": "ad5a95bf",
   "metadata": {},
   "outputs": [
    {
     "data": {
      "text/plain": [
       "0.7346745562130178"
      ]
     },
     "execution_count": 61,
     "metadata": {},
     "output_type": "execute_result"
    }
   ],
   "source": [
    "# by manually calculating, the baseline accuracy\n",
    "3104/4225"
   ]
  },
  {
   "cell_type": "code",
   "execution_count": 62,
   "id": "7383656f",
   "metadata": {},
   "outputs": [
    {
     "data": {
      "text/plain": [
       "0.7346745562130178"
      ]
     },
     "execution_count": 62,
     "metadata": {},
     "output_type": "execute_result"
    }
   ],
   "source": [
    "# code way, the baseline accuracy\n",
    "y_train.value_counts(normalize=True)[0]\n"
   ]
  },
  {
   "cell_type": "markdown",
   "id": "3dfc6244",
   "metadata": {},
   "source": [
    "# model1 to 20:  Decision Tree "
   ]
  },
  {
   "cell_type": "code",
   "execution_count": 63,
   "id": "ab459e88",
   "metadata": {},
   "outputs": [
    {
     "data": {
      "text/html": [
       "<style>#sk-container-id-1 {color: black;}#sk-container-id-1 pre{padding: 0;}#sk-container-id-1 div.sk-toggleable {background-color: white;}#sk-container-id-1 label.sk-toggleable__label {cursor: pointer;display: block;width: 100%;margin-bottom: 0;padding: 0.3em;box-sizing: border-box;text-align: center;}#sk-container-id-1 label.sk-toggleable__label-arrow:before {content: \"▸\";float: left;margin-right: 0.25em;color: #696969;}#sk-container-id-1 label.sk-toggleable__label-arrow:hover:before {color: black;}#sk-container-id-1 div.sk-estimator:hover label.sk-toggleable__label-arrow:before {color: black;}#sk-container-id-1 div.sk-toggleable__content {max-height: 0;max-width: 0;overflow: hidden;text-align: left;background-color: #f0f8ff;}#sk-container-id-1 div.sk-toggleable__content pre {margin: 0.2em;color: black;border-radius: 0.25em;background-color: #f0f8ff;}#sk-container-id-1 input.sk-toggleable__control:checked~div.sk-toggleable__content {max-height: 200px;max-width: 100%;overflow: auto;}#sk-container-id-1 input.sk-toggleable__control:checked~label.sk-toggleable__label-arrow:before {content: \"▾\";}#sk-container-id-1 div.sk-estimator input.sk-toggleable__control:checked~label.sk-toggleable__label {background-color: #d4ebff;}#sk-container-id-1 div.sk-label input.sk-toggleable__control:checked~label.sk-toggleable__label {background-color: #d4ebff;}#sk-container-id-1 input.sk-hidden--visually {border: 0;clip: rect(1px 1px 1px 1px);clip: rect(1px, 1px, 1px, 1px);height: 1px;margin: -1px;overflow: hidden;padding: 0;position: absolute;width: 1px;}#sk-container-id-1 div.sk-estimator {font-family: monospace;background-color: #f0f8ff;border: 1px dotted black;border-radius: 0.25em;box-sizing: border-box;margin-bottom: 0.5em;}#sk-container-id-1 div.sk-estimator:hover {background-color: #d4ebff;}#sk-container-id-1 div.sk-parallel-item::after {content: \"\";width: 100%;border-bottom: 1px solid gray;flex-grow: 1;}#sk-container-id-1 div.sk-label:hover label.sk-toggleable__label {background-color: #d4ebff;}#sk-container-id-1 div.sk-serial::before {content: \"\";position: absolute;border-left: 1px solid gray;box-sizing: border-box;top: 0;bottom: 0;left: 50%;z-index: 0;}#sk-container-id-1 div.sk-serial {display: flex;flex-direction: column;align-items: center;background-color: white;padding-right: 0.2em;padding-left: 0.2em;position: relative;}#sk-container-id-1 div.sk-item {position: relative;z-index: 1;}#sk-container-id-1 div.sk-parallel {display: flex;align-items: stretch;justify-content: center;background-color: white;position: relative;}#sk-container-id-1 div.sk-item::before, #sk-container-id-1 div.sk-parallel-item::before {content: \"\";position: absolute;border-left: 1px solid gray;box-sizing: border-box;top: 0;bottom: 0;left: 50%;z-index: -1;}#sk-container-id-1 div.sk-parallel-item {display: flex;flex-direction: column;z-index: 1;position: relative;background-color: white;}#sk-container-id-1 div.sk-parallel-item:first-child::after {align-self: flex-end;width: 50%;}#sk-container-id-1 div.sk-parallel-item:last-child::after {align-self: flex-start;width: 50%;}#sk-container-id-1 div.sk-parallel-item:only-child::after {width: 0;}#sk-container-id-1 div.sk-dashed-wrapped {border: 1px dashed gray;margin: 0 0.4em 0.5em 0.4em;box-sizing: border-box;padding-bottom: 0.4em;background-color: white;}#sk-container-id-1 div.sk-label label {font-family: monospace;font-weight: bold;display: inline-block;line-height: 1.2em;}#sk-container-id-1 div.sk-label-container {text-align: center;}#sk-container-id-1 div.sk-container {/* jupyter's `normalize.less` sets `[hidden] { display: none; }` but bootstrap.min.css set `[hidden] { display: none !important; }` so we also need the `!important` here to be able to override the default hidden behavior on the sphinx rendered scikit-learn.org. See: https://github.com/scikit-learn/scikit-learn/issues/21755 */display: inline-block !important;position: relative;}#sk-container-id-1 div.sk-text-repr-fallback {display: none;}</style><div id=\"sk-container-id-1\" class=\"sk-top-container\"><div class=\"sk-text-repr-fallback\"><pre>DecisionTreeClassifier()</pre><b>In a Jupyter environment, please rerun this cell to show the HTML representation or trust the notebook. <br />On GitHub, the HTML representation is unable to render, please try loading this page with nbviewer.org.</b></div><div class=\"sk-container\" hidden><div class=\"sk-item\"><div class=\"sk-estimator sk-toggleable\"><input class=\"sk-toggleable__control sk-hidden--visually\" id=\"sk-estimator-id-1\" type=\"checkbox\" checked><label for=\"sk-estimator-id-1\" class=\"sk-toggleable__label sk-toggleable__label-arrow\">DecisionTreeClassifier</label><div class=\"sk-toggleable__content\"><pre>DecisionTreeClassifier()</pre></div></div></div></div></div>"
      ],
      "text/plain": [
       "DecisionTreeClassifier()"
      ]
     },
     "execution_count": 63,
     "metadata": {},
     "output_type": "execute_result"
    }
   ],
   "source": [
    "#create the object\n",
    "tree = DecisionTreeClassifier()  # default max_depth=None\n",
    "tree"
   ]
  },
  {
   "cell_type": "code",
   "execution_count": 64,
   "id": "6d5b296e",
   "metadata": {},
   "outputs": [
    {
     "data": {
      "text/html": [
       "<style>#sk-container-id-2 {color: black;}#sk-container-id-2 pre{padding: 0;}#sk-container-id-2 div.sk-toggleable {background-color: white;}#sk-container-id-2 label.sk-toggleable__label {cursor: pointer;display: block;width: 100%;margin-bottom: 0;padding: 0.3em;box-sizing: border-box;text-align: center;}#sk-container-id-2 label.sk-toggleable__label-arrow:before {content: \"▸\";float: left;margin-right: 0.25em;color: #696969;}#sk-container-id-2 label.sk-toggleable__label-arrow:hover:before {color: black;}#sk-container-id-2 div.sk-estimator:hover label.sk-toggleable__label-arrow:before {color: black;}#sk-container-id-2 div.sk-toggleable__content {max-height: 0;max-width: 0;overflow: hidden;text-align: left;background-color: #f0f8ff;}#sk-container-id-2 div.sk-toggleable__content pre {margin: 0.2em;color: black;border-radius: 0.25em;background-color: #f0f8ff;}#sk-container-id-2 input.sk-toggleable__control:checked~div.sk-toggleable__content {max-height: 200px;max-width: 100%;overflow: auto;}#sk-container-id-2 input.sk-toggleable__control:checked~label.sk-toggleable__label-arrow:before {content: \"▾\";}#sk-container-id-2 div.sk-estimator input.sk-toggleable__control:checked~label.sk-toggleable__label {background-color: #d4ebff;}#sk-container-id-2 div.sk-label input.sk-toggleable__control:checked~label.sk-toggleable__label {background-color: #d4ebff;}#sk-container-id-2 input.sk-hidden--visually {border: 0;clip: rect(1px 1px 1px 1px);clip: rect(1px, 1px, 1px, 1px);height: 1px;margin: -1px;overflow: hidden;padding: 0;position: absolute;width: 1px;}#sk-container-id-2 div.sk-estimator {font-family: monospace;background-color: #f0f8ff;border: 1px dotted black;border-radius: 0.25em;box-sizing: border-box;margin-bottom: 0.5em;}#sk-container-id-2 div.sk-estimator:hover {background-color: #d4ebff;}#sk-container-id-2 div.sk-parallel-item::after {content: \"\";width: 100%;border-bottom: 1px solid gray;flex-grow: 1;}#sk-container-id-2 div.sk-label:hover label.sk-toggleable__label {background-color: #d4ebff;}#sk-container-id-2 div.sk-serial::before {content: \"\";position: absolute;border-left: 1px solid gray;box-sizing: border-box;top: 0;bottom: 0;left: 50%;z-index: 0;}#sk-container-id-2 div.sk-serial {display: flex;flex-direction: column;align-items: center;background-color: white;padding-right: 0.2em;padding-left: 0.2em;position: relative;}#sk-container-id-2 div.sk-item {position: relative;z-index: 1;}#sk-container-id-2 div.sk-parallel {display: flex;align-items: stretch;justify-content: center;background-color: white;position: relative;}#sk-container-id-2 div.sk-item::before, #sk-container-id-2 div.sk-parallel-item::before {content: \"\";position: absolute;border-left: 1px solid gray;box-sizing: border-box;top: 0;bottom: 0;left: 50%;z-index: -1;}#sk-container-id-2 div.sk-parallel-item {display: flex;flex-direction: column;z-index: 1;position: relative;background-color: white;}#sk-container-id-2 div.sk-parallel-item:first-child::after {align-self: flex-end;width: 50%;}#sk-container-id-2 div.sk-parallel-item:last-child::after {align-self: flex-start;width: 50%;}#sk-container-id-2 div.sk-parallel-item:only-child::after {width: 0;}#sk-container-id-2 div.sk-dashed-wrapped {border: 1px dashed gray;margin: 0 0.4em 0.5em 0.4em;box-sizing: border-box;padding-bottom: 0.4em;background-color: white;}#sk-container-id-2 div.sk-label label {font-family: monospace;font-weight: bold;display: inline-block;line-height: 1.2em;}#sk-container-id-2 div.sk-label-container {text-align: center;}#sk-container-id-2 div.sk-container {/* jupyter's `normalize.less` sets `[hidden] { display: none; }` but bootstrap.min.css set `[hidden] { display: none !important; }` so we also need the `!important` here to be able to override the default hidden behavior on the sphinx rendered scikit-learn.org. See: https://github.com/scikit-learn/scikit-learn/issues/21755 */display: inline-block !important;position: relative;}#sk-container-id-2 div.sk-text-repr-fallback {display: none;}</style><div id=\"sk-container-id-2\" class=\"sk-top-container\"><div class=\"sk-text-repr-fallback\"><pre>DecisionTreeClassifier()</pre><b>In a Jupyter environment, please rerun this cell to show the HTML representation or trust the notebook. <br />On GitHub, the HTML representation is unable to render, please try loading this page with nbviewer.org.</b></div><div class=\"sk-container\" hidden><div class=\"sk-item\"><div class=\"sk-estimator sk-toggleable\"><input class=\"sk-toggleable__control sk-hidden--visually\" id=\"sk-estimator-id-2\" type=\"checkbox\" checked><label for=\"sk-estimator-id-2\" class=\"sk-toggleable__label sk-toggleable__label-arrow\">DecisionTreeClassifier</label><div class=\"sk-toggleable__content\"><pre>DecisionTreeClassifier()</pre></div></div></div></div></div>"
      ],
      "text/plain": [
       "DecisionTreeClassifier()"
      ]
     },
     "execution_count": 64,
     "metadata": {},
     "output_type": "execute_result"
    }
   ],
   "source": [
    "#fit the object\n",
    "tree.fit(X_train, y_train) #fit only on TRAIN DATA!"
   ]
  },
  {
   "cell_type": "code",
   "execution_count": 65,
   "id": "431a9e2d",
   "metadata": {},
   "outputs": [
    {
     "data": {
      "text/plain": [
       "array([0, 1, 1, 1, 0, 0, 1, 0, 0, 1])"
      ]
     },
     "execution_count": 65,
     "metadata": {},
     "output_type": "execute_result"
    }
   ],
   "source": [
    "#store my predicted values\n",
    "y_pred = tree.predict(X_train)\n",
    "y_pred[:10]"
   ]
  },
  {
   "cell_type": "code",
   "execution_count": 66,
   "id": "08de26ce",
   "metadata": {},
   "outputs": [
    {
     "data": {
      "text/plain": [
       "array([[1., 0.],\n",
       "       [0., 1.],\n",
       "       [0., 1.],\n",
       "       [0., 1.],\n",
       "       [1., 0.],\n",
       "       [1., 0.],\n",
       "       [0., 1.],\n",
       "       [1., 0.],\n",
       "       [1., 0.],\n",
       "       [0., 1.]])"
      ]
     },
     "execution_count": 66,
     "metadata": {},
     "output_type": "execute_result"
    }
   ],
   "source": [
    "#probabilities\n",
    "y_proba=tree.predict_proba(X_train).round(2)\n",
    "y_proba[:10]"
   ]
  },
  {
   "cell_type": "code",
   "execution_count": 67,
   "id": "09f7f62c",
   "metadata": {},
   "outputs": [
    {
     "data": {
      "text/plain": [
       "0.9978698224852071"
      ]
     },
     "execution_count": 67,
     "metadata": {},
     "output_type": "execute_result"
    }
   ],
   "source": [
    "#calculate accuracy\n",
    "tree.score(X_train, y_train)"
   ]
  },
  {
   "cell_type": "code",
   "execution_count": 68,
   "id": "b27dff1c",
   "metadata": {},
   "outputs": [
    {
     "data": {
      "text/plain": [
       "0.7416607523066004"
      ]
     },
     "execution_count": 68,
     "metadata": {},
     "output_type": "execute_result"
    }
   ],
   "source": [
    "# calculate accuracy for validate\n",
    "tree.score(X_validate,y_validate)"
   ]
  },
  {
   "cell_type": "markdown",
   "id": "8e8f971a",
   "metadata": {},
   "source": [
    "### for loop with 1 to 20 max_depth hyperparameters"
   ]
  },
  {
   "cell_type": "code",
   "execution_count": 69,
   "id": "1fa06e21",
   "metadata": {},
   "outputs": [
    {
     "name": "stdout",
     "output_type": "stream",
     "text": [
      "with a max depth of 1, the accuracy for train is 0.74\n",
      "with a max depth of 1, the accuracy for validate is 0.73\n",
      "\n",
      "with a max depth of 2, the accuracy for train is 0.78\n",
      "with a max depth of 2, the accuracy for validate is 0.79\n",
      "\n",
      "with a max depth of 3, the accuracy for train is 0.78\n",
      "with a max depth of 3, the accuracy for validate is 0.79\n",
      "\n",
      "with a max depth of 4, the accuracy for train is 0.79\n",
      "with a max depth of 4, the accuracy for validate is 0.78\n",
      "\n",
      "with a max depth of 5, the accuracy for train is 0.8\n",
      "with a max depth of 5, the accuracy for validate is 0.79\n",
      "\n",
      "with a max depth of 6, the accuracy for train is 0.81\n",
      "with a max depth of 6, the accuracy for validate is 0.79\n",
      "\n",
      "with a max depth of 7, the accuracy for train is 0.83\n",
      "with a max depth of 7, the accuracy for validate is 0.79\n",
      "\n",
      "with a max depth of 8, the accuracy for train is 0.84\n",
      "with a max depth of 8, the accuracy for validate is 0.79\n",
      "\n",
      "with a max depth of 9, the accuracy for train is 0.86\n",
      "with a max depth of 9, the accuracy for validate is 0.78\n",
      "\n",
      "with a max depth of 10, the accuracy for train is 0.88\n",
      "with a max depth of 10, the accuracy for validate is 0.77\n",
      "\n",
      "with a max depth of 11, the accuracy for train is 0.9\n",
      "with a max depth of 11, the accuracy for validate is 0.76\n",
      "\n",
      "with a max depth of 12, the accuracy for train is 0.92\n",
      "with a max depth of 12, the accuracy for validate is 0.76\n",
      "\n",
      "with a max depth of 13, the accuracy for train is 0.94\n",
      "with a max depth of 13, the accuracy for validate is 0.76\n",
      "\n",
      "with a max depth of 14, the accuracy for train is 0.95\n",
      "with a max depth of 14, the accuracy for validate is 0.76\n",
      "\n",
      "with a max depth of 15, the accuracy for train is 0.96\n",
      "with a max depth of 15, the accuracy for validate is 0.74\n",
      "\n",
      "with a max depth of 16, the accuracy for train is 0.97\n",
      "with a max depth of 16, the accuracy for validate is 0.74\n",
      "\n",
      "with a max depth of 17, the accuracy for train is 0.98\n",
      "with a max depth of 17, the accuracy for validate is 0.74\n",
      "\n",
      "with a max depth of 18, the accuracy for train is 0.98\n",
      "with a max depth of 18, the accuracy for validate is 0.73\n",
      "\n",
      "with a max depth of 19, the accuracy for train is 0.98\n",
      "with a max depth of 19, the accuracy for validate is 0.74\n",
      "\n",
      "with a max depth of 20, the accuracy for train is 0.99\n",
      "with a max depth of 20, the accuracy for validate is 0.73\n",
      "\n"
     ]
    }
   ],
   "source": [
    "for x in range(1,21):\n",
    "    #create the object\n",
    "    tree = DecisionTreeClassifier(max_depth=x)\n",
    "    \n",
    "    #fit the object\n",
    "    tree.fit(X_train, y_train) #fit only on TRAIN DATA!\n",
    "    \n",
    "    #calculate the accuracy for train\n",
    "    acc = tree.score(X_train, y_train)\n",
    "    \n",
    "    \n",
    "    #calculate the accuracy for validate\n",
    "    acc_val = tree.score(X_validate, y_validate)\n",
    "    \n",
    "    print(f'with a max depth of {x}, the accuracy for train is {round(acc,2)}')\n",
    "    print(f'with a max depth of {x}, the accuracy for validate is {round(acc_val,2)}')\n",
    "    print()"
   ]
  },
  {
   "cell_type": "markdown",
   "id": "217428b9",
   "metadata": {},
   "source": [
    "### cross validation\n",
    "From this output, max_depth=8 is the best model for decision tree algorithm.\n",
    "Since it is lies between under fitting and over fitting"
   ]
  },
  {
   "cell_type": "markdown",
   "id": "6ea7db1f",
   "metadata": {},
   "source": [
    "# model 1 to 10 with Random forest algorithm"
   ]
  },
  {
   "cell_type": "code",
   "execution_count": 70,
   "id": "03e67c0e",
   "metadata": {},
   "outputs": [
    {
     "name": "stdout",
     "output_type": "stream",
     "text": [
      "for min leaf samples = 1 and max depth = 10, the accuracy for train is 0.88\n",
      "for min leaf samples = 1 and max depth = 10, the accuracy for validate is 0.8\n",
      "\n",
      "for min leaf samples = 2 and max depth = 9, the accuracy for train is 0.84\n",
      "for min leaf samples = 2 and max depth = 9, the accuracy for validate is 0.8\n",
      "\n",
      "for min leaf samples = 3 and max depth = 8, the accuracy for train is 0.83\n",
      "for min leaf samples = 3 and max depth = 8, the accuracy for validate is 0.8\n",
      "\n",
      "for min leaf samples = 4 and max depth = 7, the accuracy for train is 0.82\n",
      "for min leaf samples = 4 and max depth = 7, the accuracy for validate is 0.8\n",
      "\n",
      "for min leaf samples = 5 and max depth = 6, the accuracy for train is 0.81\n",
      "for min leaf samples = 5 and max depth = 6, the accuracy for validate is 0.8\n",
      "\n",
      "for min leaf samples = 6 and max depth = 5, the accuracy for train is 0.8\n",
      "for min leaf samples = 6 and max depth = 5, the accuracy for validate is 0.79\n",
      "\n",
      "for min leaf samples = 7 and max depth = 4, the accuracy for train is 0.8\n",
      "for min leaf samples = 7 and max depth = 4, the accuracy for validate is 0.79\n",
      "\n",
      "for min leaf samples = 8 and max depth = 3, the accuracy for train is 0.78\n",
      "for min leaf samples = 8 and max depth = 3, the accuracy for validate is 0.78\n",
      "\n",
      "for min leaf samples = 9 and max depth = 2, the accuracy for train is 0.74\n",
      "for min leaf samples = 9 and max depth = 2, the accuracy for validate is 0.74\n",
      "\n",
      "for min leaf samples = 10 and max depth = 1, the accuracy for train is 0.73\n",
      "for min leaf samples = 10 and max depth = 1, the accuracy for validate is 0.73\n",
      "\n"
     ]
    }
   ],
   "source": [
    "for x in range(1,11):\n",
    "    rf = RandomForestClassifier(min_samples_leaf=x, max_depth=11-x, random_state=123)\n",
    "\n",
    "    rf.fit(X_train, y_train)\n",
    "\n",
    "    \n",
    "\n",
    "    acc = rf.score(X_train, y_train)\n",
    "    \n",
    "    acc_val=rf.score(X_validate,y_validate)\n",
    "    \n",
    "    print(f'for min leaf samples = {x} and max depth = {11-x}, the accuracy for train is {round(acc,2)}')\n",
    "    print(f'for min leaf samples = {x} and max depth = {11-x}, the accuracy for validate is {round(acc_val,2)}')\n",
    "    print()"
   ]
  },
  {
   "cell_type": "markdown",
   "id": "899bf65a",
   "metadata": {},
   "source": [
    "### Cross Validation\n",
    "* From this output, model (with leaf 5 and  depth 6) are the best model, since train and validate difference is only 0.01.so it lies between over fitting and under fitting, higher than baseline as well. "
   ]
  },
  {
   "cell_type": "markdown",
   "id": "b7ecab54",
   "metadata": {},
   "source": [
    "# model 1 logistic Regression for algorithm  "
   ]
  },
  {
   "cell_type": "code",
   "execution_count": 71,
   "id": "b88d44c4",
   "metadata": {},
   "outputs": [],
   "source": [
    "lr = LogisticRegression(solver='liblinear')"
   ]
  },
  {
   "cell_type": "code",
   "execution_count": 72,
   "id": "fa8a8844",
   "metadata": {},
   "outputs": [
    {
     "data": {
      "text/html": [
       "<style>#sk-container-id-3 {color: black;}#sk-container-id-3 pre{padding: 0;}#sk-container-id-3 div.sk-toggleable {background-color: white;}#sk-container-id-3 label.sk-toggleable__label {cursor: pointer;display: block;width: 100%;margin-bottom: 0;padding: 0.3em;box-sizing: border-box;text-align: center;}#sk-container-id-3 label.sk-toggleable__label-arrow:before {content: \"▸\";float: left;margin-right: 0.25em;color: #696969;}#sk-container-id-3 label.sk-toggleable__label-arrow:hover:before {color: black;}#sk-container-id-3 div.sk-estimator:hover label.sk-toggleable__label-arrow:before {color: black;}#sk-container-id-3 div.sk-toggleable__content {max-height: 0;max-width: 0;overflow: hidden;text-align: left;background-color: #f0f8ff;}#sk-container-id-3 div.sk-toggleable__content pre {margin: 0.2em;color: black;border-radius: 0.25em;background-color: #f0f8ff;}#sk-container-id-3 input.sk-toggleable__control:checked~div.sk-toggleable__content {max-height: 200px;max-width: 100%;overflow: auto;}#sk-container-id-3 input.sk-toggleable__control:checked~label.sk-toggleable__label-arrow:before {content: \"▾\";}#sk-container-id-3 div.sk-estimator input.sk-toggleable__control:checked~label.sk-toggleable__label {background-color: #d4ebff;}#sk-container-id-3 div.sk-label input.sk-toggleable__control:checked~label.sk-toggleable__label {background-color: #d4ebff;}#sk-container-id-3 input.sk-hidden--visually {border: 0;clip: rect(1px 1px 1px 1px);clip: rect(1px, 1px, 1px, 1px);height: 1px;margin: -1px;overflow: hidden;padding: 0;position: absolute;width: 1px;}#sk-container-id-3 div.sk-estimator {font-family: monospace;background-color: #f0f8ff;border: 1px dotted black;border-radius: 0.25em;box-sizing: border-box;margin-bottom: 0.5em;}#sk-container-id-3 div.sk-estimator:hover {background-color: #d4ebff;}#sk-container-id-3 div.sk-parallel-item::after {content: \"\";width: 100%;border-bottom: 1px solid gray;flex-grow: 1;}#sk-container-id-3 div.sk-label:hover label.sk-toggleable__label {background-color: #d4ebff;}#sk-container-id-3 div.sk-serial::before {content: \"\";position: absolute;border-left: 1px solid gray;box-sizing: border-box;top: 0;bottom: 0;left: 50%;z-index: 0;}#sk-container-id-3 div.sk-serial {display: flex;flex-direction: column;align-items: center;background-color: white;padding-right: 0.2em;padding-left: 0.2em;position: relative;}#sk-container-id-3 div.sk-item {position: relative;z-index: 1;}#sk-container-id-3 div.sk-parallel {display: flex;align-items: stretch;justify-content: center;background-color: white;position: relative;}#sk-container-id-3 div.sk-item::before, #sk-container-id-3 div.sk-parallel-item::before {content: \"\";position: absolute;border-left: 1px solid gray;box-sizing: border-box;top: 0;bottom: 0;left: 50%;z-index: -1;}#sk-container-id-3 div.sk-parallel-item {display: flex;flex-direction: column;z-index: 1;position: relative;background-color: white;}#sk-container-id-3 div.sk-parallel-item:first-child::after {align-self: flex-end;width: 50%;}#sk-container-id-3 div.sk-parallel-item:last-child::after {align-self: flex-start;width: 50%;}#sk-container-id-3 div.sk-parallel-item:only-child::after {width: 0;}#sk-container-id-3 div.sk-dashed-wrapped {border: 1px dashed gray;margin: 0 0.4em 0.5em 0.4em;box-sizing: border-box;padding-bottom: 0.4em;background-color: white;}#sk-container-id-3 div.sk-label label {font-family: monospace;font-weight: bold;display: inline-block;line-height: 1.2em;}#sk-container-id-3 div.sk-label-container {text-align: center;}#sk-container-id-3 div.sk-container {/* jupyter's `normalize.less` sets `[hidden] { display: none; }` but bootstrap.min.css set `[hidden] { display: none !important; }` so we also need the `!important` here to be able to override the default hidden behavior on the sphinx rendered scikit-learn.org. See: https://github.com/scikit-learn/scikit-learn/issues/21755 */display: inline-block !important;position: relative;}#sk-container-id-3 div.sk-text-repr-fallback {display: none;}</style><div id=\"sk-container-id-3\" class=\"sk-top-container\"><div class=\"sk-text-repr-fallback\"><pre>LogisticRegression(solver=&#x27;liblinear&#x27;)</pre><b>In a Jupyter environment, please rerun this cell to show the HTML representation or trust the notebook. <br />On GitHub, the HTML representation is unable to render, please try loading this page with nbviewer.org.</b></div><div class=\"sk-container\" hidden><div class=\"sk-item\"><div class=\"sk-estimator sk-toggleable\"><input class=\"sk-toggleable__control sk-hidden--visually\" id=\"sk-estimator-id-3\" type=\"checkbox\" checked><label for=\"sk-estimator-id-3\" class=\"sk-toggleable__label sk-toggleable__label-arrow\">LogisticRegression</label><div class=\"sk-toggleable__content\"><pre>LogisticRegression(solver=&#x27;liblinear&#x27;)</pre></div></div></div></div></div>"
      ],
      "text/plain": [
       "LogisticRegression(solver='liblinear')"
      ]
     },
     "execution_count": 72,
     "metadata": {},
     "output_type": "execute_result"
    }
   ],
   "source": [
    "lr.fit(X_train, y_train)"
   ]
  },
  {
   "cell_type": "code",
   "execution_count": 73,
   "id": "1a57dafb",
   "metadata": {},
   "outputs": [
    {
     "data": {
      "text/plain": [
       "0.8044970414201184"
      ]
     },
     "execution_count": 73,
     "metadata": {},
     "output_type": "execute_result"
    }
   ],
   "source": [
    "lr.score(X_train,y_train)"
   ]
  },
  {
   "cell_type": "code",
   "execution_count": 74,
   "id": "3585e415",
   "metadata": {},
   "outputs": [
    {
     "data": {
      "text/plain": [
       "0.8090844570617459"
      ]
     },
     "execution_count": 74,
     "metadata": {},
     "output_type": "execute_result"
    }
   ],
   "source": [
    "lr.score(X_validate,y_validate)"
   ]
  },
  {
   "cell_type": "markdown",
   "id": "0496bd03",
   "metadata": {},
   "source": [
    "## model 1 to 7  KNN for algorithm with different values of feature"
   ]
  },
  {
   "cell_type": "code",
   "execution_count": 75,
   "id": "778d47b5",
   "metadata": {},
   "outputs": [
    {
     "name": "stdout",
     "output_type": "stream",
     "text": [
      "for n_neighbors=5, the accuracy for train is 1.0\n",
      "for n_neighbors=5, the accuracy for validate is 0.76\n",
      "\n",
      "for n_neighbors=10, the accuracy for train is 1.0\n",
      "for n_neighbors=10, the accuracy for validate is 0.77\n",
      "\n",
      "for n_neighbors=20, the accuracy for train is 1.0\n",
      "for n_neighbors=20, the accuracy for validate is 0.78\n",
      "\n",
      "for n_neighbors=30, the accuracy for train is 1.0\n",
      "for n_neighbors=30, the accuracy for validate is 0.78\n",
      "\n",
      "for n_neighbors=40, the accuracy for train is 1.0\n",
      "for n_neighbors=40, the accuracy for validate is 0.77\n",
      "\n",
      "for n_neighbors=50, the accuracy for train is 1.0\n",
      "for n_neighbors=50, the accuracy for validate is 0.78\n",
      "\n",
      "for n_neighbors=60, the accuracy for train is 1.0\n",
      "for n_neighbors=60, the accuracy for validate is 0.78\n",
      "\n"
     ]
    }
   ],
   "source": [
    "for n in [5,10,20,30,40,50,60]:\n",
    "\n",
    "    knn = KNeighborsClassifier(n_neighbors=n,weights='distance') # default n_neighbors=5\n",
    "\n",
    "    knn.fit(X_train, y_train)\n",
    "\n",
    "    \n",
    "\n",
    "    acc = knn.score(X_train, y_train)\n",
    "    \n",
    "    acc_val=knn.score(X_validate,y_validate)\n",
    "    \n",
    "    print(f'for n_neighbors={n}, the accuracy for train is {round(acc,2)}')\n",
    "    print(f'for n_neighbors={n}, the accuracy for validate is {round(acc_val,2)}')\n",
    "    print()"
   ]
  },
  {
   "cell_type": "markdown",
   "id": "dcf29b3a",
   "metadata": {},
   "source": [
    "### Cross Validation:\n",
    "All iteration seems like same, but i would pick n_neighbors=20, since validate accuracy is high than baseline. "
   ]
  },
  {
   "cell_type": "code",
   "execution_count": null,
   "id": "a3d27e12",
   "metadata": {},
   "outputs": [],
   "source": []
  },
  {
   "cell_type": "code",
   "execution_count": null,
   "id": "7abc6c10",
   "metadata": {},
   "outputs": [],
   "source": []
  },
  {
   "cell_type": "code",
   "execution_count": null,
   "id": "81483491",
   "metadata": {},
   "outputs": [],
   "source": []
  },
  {
   "cell_type": "code",
   "execution_count": null,
   "id": "4a7eb8da",
   "metadata": {},
   "outputs": [],
   "source": []
  },
  {
   "cell_type": "code",
   "execution_count": null,
   "id": "bfcc08aa",
   "metadata": {},
   "outputs": [],
   "source": []
  },
  {
   "cell_type": "code",
   "execution_count": null,
   "id": "0b11cacc",
   "metadata": {},
   "outputs": [],
   "source": []
  },
  {
   "cell_type": "code",
   "execution_count": null,
   "id": "354db6a2",
   "metadata": {},
   "outputs": [],
   "source": []
  },
  {
   "cell_type": "code",
   "execution_count": null,
   "id": "e2514950",
   "metadata": {},
   "outputs": [],
   "source": []
  },
  {
   "cell_type": "code",
   "execution_count": null,
   "id": "0ec51e05",
   "metadata": {},
   "outputs": [],
   "source": []
  },
  {
   "cell_type": "code",
   "execution_count": null,
   "id": "49f65b36",
   "metadata": {},
   "outputs": [],
   "source": []
  },
  {
   "cell_type": "code",
   "execution_count": null,
   "id": "a930da83",
   "metadata": {},
   "outputs": [],
   "source": []
  },
  {
   "cell_type": "code",
   "execution_count": null,
   "id": "ffc1e577",
   "metadata": {},
   "outputs": [],
   "source": []
  },
  {
   "cell_type": "code",
   "execution_count": null,
   "id": "b4366243",
   "metadata": {},
   "outputs": [],
   "source": []
  },
  {
   "cell_type": "code",
   "execution_count": null,
   "id": "6ed4c6e7",
   "metadata": {},
   "outputs": [],
   "source": []
  },
  {
   "cell_type": "code",
   "execution_count": null,
   "id": "78d90df3",
   "metadata": {},
   "outputs": [],
   "source": []
  },
  {
   "cell_type": "code",
   "execution_count": null,
   "id": "890ca297",
   "metadata": {},
   "outputs": [],
   "source": []
  },
  {
   "cell_type": "code",
   "execution_count": null,
   "id": "3d29e6bc",
   "metadata": {},
   "outputs": [],
   "source": []
  },
  {
   "cell_type": "code",
   "execution_count": null,
   "id": "13da5834",
   "metadata": {},
   "outputs": [],
   "source": []
  },
  {
   "cell_type": "code",
   "execution_count": null,
   "id": "41145829",
   "metadata": {},
   "outputs": [],
   "source": []
  }
 ],
 "metadata": {
  "kernelspec": {
   "display_name": "Python 3 (ipykernel)",
   "language": "python",
   "name": "python3"
  },
  "language_info": {
   "codemirror_mode": {
    "name": "ipython",
    "version": 3
   },
   "file_extension": ".py",
   "mimetype": "text/x-python",
   "name": "python",
   "nbconvert_exporter": "python",
   "pygments_lexer": "ipython3",
   "version": "3.11.5"
  }
 },
 "nbformat": 4,
 "nbformat_minor": 5
}
